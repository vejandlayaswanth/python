{
 "cells": [
  {
   "cell_type": "code",
   "execution_count": 22,
   "id": "c9b03314-62fa-4ab5-99e2-daa87e7c3f75",
   "metadata": {},
   "outputs": [
    {
     "name": "stdout",
     "output_type": "stream",
     "text": [
      "palindrome\n"
     ]
    }
   ],
   "source": [
    "def pali_fun(n):\n",
    "    rev = n[::-1]\n",
    "    if rev == n:\n",
    "        print('palindrome')\n",
    "    else:\n",
    "        print('not palindrome')\n",
    "\n",
    "pali_fun('mam')\n"
   ]
  },
  {
   "cell_type": "code",
   "execution_count": null,
   "id": "b5d8a8ed-491e-4252-8e4b-f1377731a485",
   "metadata": {},
   "outputs": [],
   "source": []
  }
 ],
 "metadata": {
  "kernelspec": {
   "display_name": "Python [conda env:base] *",
   "language": "python",
   "name": "conda-base-py"
  },
  "language_info": {
   "codemirror_mode": {
    "name": "ipython",
    "version": 3
   },
   "file_extension": ".py",
   "mimetype": "text/x-python",
   "name": "python",
   "nbconvert_exporter": "python",
   "pygments_lexer": "ipython3",
   "version": "3.12.7"
  }
 },
 "nbformat": 4,
 "nbformat_minor": 5
}
