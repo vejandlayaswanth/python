{
 "cells": [
  {
   "cell_type": "code",
   "execution_count": null,
   "id": "2ea7d11a-aa4c-428c-9e9d-95e592c2f3f8",
   "metadata": {},
   "outputs": [],
   "source": [
    "def fac_fun(n):\n",
    "    fac=1\n",
    "    for i in range(1,n):\n",
    "        fac = fac * n\n",
    "        n = n-1 \n",
    "    return fac\n",
    "   \n",
    "print(fac_fun(5))"
   ]
  },
  {
   "cell_type": "code",
   "execution_count": 8,
   "id": "0b3b3e1c-d56f-42cf-b705-811a3eec5f3a",
   "metadata": {},
   "outputs": [],
   "source": [
    "def fac_fun(n):\n",
    "    fac=1\n",
    "    for i in range(1,n):\n",
    "        fac = fac * n\n",
    "        n = n-1\n",
    "    print(fac)\n"
   ]
  },
  {
   "cell_type": "code",
   "execution_count": 6,
   "id": "17e82d80-ff99-4ba0-9532-b1a117c8c52a",
   "metadata": {},
   "outputs": [
    {
     "name": "stdout",
     "output_type": "stream",
     "text": [
      "6\n",
      "30\n",
      "120\n",
      "360\n",
      "720\n"
     ]
    }
   ],
   "source": [
    "fac_fun(6)"
   ]
  },
  {
   "cell_type": "code",
   "execution_count": null,
   "id": "3f4f9539-3413-4e7f-ba36-cdf3c7546b35",
   "metadata": {},
   "outputs": [],
   "source": []
  }
 ],
 "metadata": {
  "kernelspec": {
   "display_name": "Python [conda env:base] *",
   "language": "python",
   "name": "conda-base-py"
  },
  "language_info": {
   "codemirror_mode": {
    "name": "ipython",
    "version": 3
   },
   "file_extension": ".py",
   "mimetype": "text/x-python",
   "name": "python",
   "nbconvert_exporter": "python",
   "pygments_lexer": "ipython3",
   "version": "3.12.7"
  }
 },
 "nbformat": 4,
 "nbformat_minor": 5
}
