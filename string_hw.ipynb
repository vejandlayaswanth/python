{
 "cells": [
  {
   "cell_type": "code",
   "execution_count": 26,
   "id": "510f34b2-978e-4617-bb4f-778e79d0bdab",
   "metadata": {},
   "outputs": [
    {
     "name": "stdin",
     "output_type": "stream",
     "text": [
      "enter the number of strings: 4\n",
      "enter the 1 string : hi\n",
      "enter the 2 string : ji\n",
      "enter the 3 string : hi\n",
      "enter the 4 string : ji\n",
      " enter the string which need to search in the list  hi\n"
     ]
    },
    {
     "name": "stdout",
     "output_type": "stream",
     "text": [
      "string found\n",
      "['hi', 'ji', 'hi', 'ji']\n"
     ]
    }
   ],
   "source": [
    "n = int(input(\"enter the number of strings:\"))\n",
    "strings=[]\n",
    "for i in range(n):\n",
    "    strings.append(input(\"enter the \" + str(i+1) + \" string :\"))\n",
    "    \n",
    "search_string = input(\" enter the string which need to search in the list \")\n",
    "\n",
    "if search_string in strings:\n",
    "    print(\"string found\")\n",
    "else:\n",
    "    print(\"string not found\")\n",
    "    \n",
    "print(strings)\n",
    "    \n",
    "    "
   ]
  },
  {
   "cell_type": "code",
   "execution_count": 6,
   "id": "2d5c70ae-1445-43e9-8196-8cb14935f6a5",
   "metadata": {},
   "outputs": [
    {
     "name": "stdin",
     "output_type": "stream",
     "text": [
      " repeat\n",
      " pea\n"
     ]
    },
    {
     "name": "stdout",
     "output_type": "stream",
     "text": [
      "true\n"
     ]
    }
   ],
   "source": [
    "n = input()\n",
    "m=input()\n",
    "if m in n:\n",
    "    print(\"true\")\n",
    "else:\n",
    "    print(\" false\")\n",
    "\n",
    "\n"
   ]
  },
  {
   "cell_type": "code",
   "execution_count": 10,
   "id": "4d03b1aa-615c-4c0e-90a4-2667a96bfe15",
   "metadata": {},
   "outputs": [
    {
     "name": "stdin",
     "output_type": "stream",
     "text": [
      " abc\n",
      " bc\n"
     ]
    },
    {
     "ename": "TypeError",
     "evalue": "string indices must be integers, not 'str'",
     "output_type": "error",
     "traceback": [
      "\u001b[0;31m---------------------------------------------------------------------------\u001b[0m",
      "\u001b[0;31mTypeError\u001b[0m                                 Traceback (most recent call last)",
      "Cell \u001b[0;32mIn[10], line 4\u001b[0m\n\u001b[1;32m      2\u001b[0m m \u001b[38;5;241m=\u001b[39m \u001b[38;5;28minput\u001b[39m()\n\u001b[1;32m      3\u001b[0m \u001b[38;5;28;01mfor\u001b[39;00m i \u001b[38;5;129;01min\u001b[39;00m n:\n\u001b[0;32m----> 4\u001b[0m     \u001b[38;5;28mprint\u001b[39m(m[i])\n",
      "\u001b[0;31mTypeError\u001b[0m: string indices must be integers, not 'str'"
     ]
    }
   ],
   "source": [
    "n = input()\n",
    "m = input()\n",
    "for i in n:\n",
    "    print(m[i])"
   ]
  },
  {
   "cell_type": "code",
   "execution_count": null,
   "id": "7fd3107c-6b3d-4bba-b521-d64fa5540510",
   "metadata": {},
   "outputs": [],
   "source": []
  }
 ],
 "metadata": {
  "kernelspec": {
   "display_name": "Python [conda env:base] *",
   "language": "python",
   "name": "conda-base-py"
  },
  "language_info": {
   "codemirror_mode": {
    "name": "ipython",
    "version": 3
   },
   "file_extension": ".py",
   "mimetype": "text/x-python",
   "name": "python",
   "nbconvert_exporter": "python",
   "pygments_lexer": "ipython3",
   "version": "3.12.7"
  }
 },
 "nbformat": 4,
 "nbformat_minor": 5
}
