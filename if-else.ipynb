{
 "cells": [
  {
   "cell_type": "code",
   "execution_count": 15,
   "id": "772d8ecf-b8fe-4dee-a20c-f071d67fe8ed",
   "metadata": {},
   "outputs": [
    {
     "name": "stdin",
     "output_type": "stream",
     "text": [
      "enter the number between 1 and 100 : 22\n"
     ]
    },
    {
     "name": "stdout",
     "output_type": "stream",
     "text": [
      "Not Weird\n"
     ]
    }
   ],
   "source": [
    "a = int (input(\"enter the number between 1 and 100 :\"))\n",
    "if a%2==0:\n",
    "    if  2 <= a <= 5 :\n",
    "        print (\"Not Weird\" )\n",
    "    elif 6 <= a <= 20:\n",
    "        print ( \"Weird\")\n",
    "    elif a>20:\n",
    "        print(\"Not Weird\" )  \n",
    "else:\n",
    "    print (\"Weird\")\n",
    "\n",
    "    \n",
    "\n"
   ]
  },
  {
   "cell_type": "code",
   "execution_count": null,
   "id": "82a49d39-e6a0-4389-9778-5c97015ed0e3",
   "metadata": {},
   "outputs": [],
   "source": []
  }
 ],
 "metadata": {
  "kernelspec": {
   "display_name": "Python [conda env:base] *",
   "language": "python",
   "name": "conda-base-py"
  },
  "language_info": {
   "codemirror_mode": {
    "name": "ipython",
    "version": 3
   },
   "file_extension": ".py",
   "mimetype": "text/x-python",
   "name": "python",
   "nbconvert_exporter": "python",
   "pygments_lexer": "ipython3",
   "version": "3.12.7"
  }
 },
 "nbformat": 4,
 "nbformat_minor": 5
}
