{
 "cells": [
  {
   "cell_type": "code",
   "execution_count": 8,
   "id": "bc2fa28f-39c8-4110-8105-d9dab3d447ce",
   "metadata": {},
   "outputs": [
    {
     "data": {
      "text/plain": [
       "720"
      ]
     },
     "execution_count": 8,
     "metadata": {},
     "output_type": "execute_result"
    }
   ],
   "source": [
    "def fac_mul(n):\n",
    "    if n==0:\n",
    "        result = 1\n",
    "    else:\n",
    "        result = n*fac_mul(n-1)\n",
    "    return result \n",
    "\n",
    "fac_mul(6)\n",
    "        "
   ]
  },
  {
   "cell_type": "code",
   "execution_count": null,
   "id": "41f9c609-d82e-471c-a794-d82545d8c71d",
   "metadata": {},
   "outputs": [],
   "source": []
  }
 ],
 "metadata": {
  "kernelspec": {
   "display_name": "Python [conda env:base] *",
   "language": "python",
   "name": "conda-base-py"
  },
  "language_info": {
   "codemirror_mode": {
    "name": "ipython",
    "version": 3
   },
   "file_extension": ".py",
   "mimetype": "text/x-python",
   "name": "python",
   "nbconvert_exporter": "python",
   "pygments_lexer": "ipython3",
   "version": "3.12.7"
  }
 },
 "nbformat": 4,
 "nbformat_minor": 5
}
