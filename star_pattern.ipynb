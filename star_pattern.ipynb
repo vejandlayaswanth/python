{
 "cells": [
  {
   "cell_type": "code",
   "execution_count": 4,
   "id": "2a8f6ac6-69e8-4e11-a8d1-ec10266ac5bc",
   "metadata": {},
   "outputs": [
    {
     "name": "stdin",
     "output_type": "stream",
     "text": [
      "enter the number of rows need to print in star pattern :  10\n"
     ]
    },
    {
     "name": "stdout",
     "output_type": "stream",
     "text": [
      "  *  \n",
      "  *  *  \n",
      "  *  *  *  \n",
      "  *  *  *  *  \n",
      "  *  *  *  *  *  \n",
      "  *  *  *  *  *  *  \n",
      "  *  *  *  *  *  *  *  \n",
      "  *  *  *  *  *  *  *  *  \n",
      "  *  *  *  *  *  *  *  *  *  \n",
      "  *  *  *  *  *  *  *  *  *  *  \n"
     ]
    }
   ],
   "source": [
    "n = int(input('enter the number of rows need to print in star pattern : '))\n",
    "for i in range(1,n+1):\n",
    "    for j in range (1,i+1):\n",
    "        print (\" \",'*',end=\"\")\n",
    "    print(\"  \")\n",
    "   \n"
   ]
  },
  {
   "cell_type": "code",
   "execution_count": null,
   "id": "753bbee6-37aa-40bf-83c1-e2e40e488f37",
   "metadata": {},
   "outputs": [],
   "source": []
  }
 ],
 "metadata": {
  "kernelspec": {
   "display_name": "Python [conda env:base] *",
   "language": "python",
   "name": "conda-base-py"
  },
  "language_info": {
   "codemirror_mode": {
    "name": "ipython",
    "version": 3
   },
   "file_extension": ".py",
   "mimetype": "text/x-python",
   "name": "python",
   "nbconvert_exporter": "python",
   "pygments_lexer": "ipython3",
   "version": "3.12.7"
  }
 },
 "nbformat": 4,
 "nbformat_minor": 5
}
