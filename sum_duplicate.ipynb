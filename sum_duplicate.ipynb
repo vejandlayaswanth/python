{
 "cells": [
  {
   "cell_type": "code",
   "execution_count": 12,
   "id": "2741a780-5649-4323-90b8-bb54e3f86555",
   "metadata": {},
   "outputs": [
    {
     "name": "stdout",
     "output_type": "stream",
     "text": [
      "[1, 2, 3, 4, 5, 6, 7]\n",
      "28\n",
      "[2, 6, 7]\n"
     ]
    }
   ],
   "source": [
    "l=[1,2,2,3,4,5,6,6,7,7,7]\n",
    "m=[]\n",
    "k=[]\n",
    "tot = 0\n",
    "for i in l:\n",
    "    if  i not in m:\n",
    "        m.append(i)\n",
    "        tot= tot+ i\n",
    "print(m)\n",
    "print(sum(m))\n",
    "\n",
    "for i in l:\n",
    "    if l.count(i) >1 and i not in k:\n",
    "        k.append(i)\n",
    "print(k)\n",
    "        \n",
    "\n"
   ]
  },
  {
   "cell_type": "code",
   "execution_count": null,
   "id": "0bcf0a57-a938-4abf-b402-72dcf02d564f",
   "metadata": {},
   "outputs": [],
   "source": []
  }
 ],
 "metadata": {
  "kernelspec": {
   "display_name": "Python [conda env:base] *",
   "language": "python",
   "name": "conda-base-py"
  },
  "language_info": {
   "codemirror_mode": {
    "name": "ipython",
    "version": 3
   },
   "file_extension": ".py",
   "mimetype": "text/x-python",
   "name": "python",
   "nbconvert_exporter": "python",
   "pygments_lexer": "ipython3",
   "version": "3.12.7"
  }
 },
 "nbformat": 4,
 "nbformat_minor": 5
}
