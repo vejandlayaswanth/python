{
 "cells": [
  {
   "cell_type": "code",
   "execution_count": 19,
   "id": "6a409038-2511-49ef-82fc-5a6411ae4d8a",
   "metadata": {},
   "outputs": [
    {
     "name": "stdout",
     "output_type": "stream",
     "text": [
      "0\n",
      "2\n",
      "2\n",
      "4\n",
      "6\n",
      "10\n",
      "16\n",
      "26\n",
      "42\n",
      "68\n",
      "110\n"
     ]
    }
   ],
   "source": [
    "def fib_fun1(a,b,n):\n",
    "    print(a)\n",
    "    print(b)\n",
    "    for i in range(n-1):\n",
    "      c=a+b\n",
    "      print(c)\n",
    "      a=b\n",
    "      b=c \n",
    "\n",
    "fib_fun1(0,2,10)\n"
   ]
  },
  {
   "cell_type": "code",
   "execution_count": 21,
   "id": "6ae8e8a4-def6-4c5a-889e-0f033df2356d",
   "metadata": {},
   "outputs": [
    {
     "name": "stdout",
     "output_type": "stream",
     "text": [
      "0\n",
      "2\n",
      "2\n",
      "4\n",
      "6\n",
      "10\n",
      "16\n",
      "26\n",
      "42\n",
      "68\n",
      "110\n"
     ]
    }
   ],
   "source": [
    "def fib_fun2(a,b,n):\n",
    "    print(a)\n",
    "    print(b)\n",
    "    while n>1:\n",
    "      c=a+b\n",
    "      print(c)\n",
    "      a=b\n",
    "      b=c \n",
    "      n=n-1\n",
    "        \n",
    "        \n",
    "fib_fun2(0,2,10)"
   ]
  },
  {
   "cell_type": "code",
   "execution_count": null,
   "id": "7f314794-bb6d-4720-b09d-b161d61db3e9",
   "metadata": {},
   "outputs": [],
   "source": []
  }
 ],
 "metadata": {
  "kernelspec": {
   "display_name": "Python [conda env:base] *",
   "language": "python",
   "name": "conda-base-py"
  },
  "language_info": {
   "codemirror_mode": {
    "name": "ipython",
    "version": 3
   },
   "file_extension": ".py",
   "mimetype": "text/x-python",
   "name": "python",
   "nbconvert_exporter": "python",
   "pygments_lexer": "ipython3",
   "version": "3.12.7"
  }
 },
 "nbformat": 4,
 "nbformat_minor": 5
}
