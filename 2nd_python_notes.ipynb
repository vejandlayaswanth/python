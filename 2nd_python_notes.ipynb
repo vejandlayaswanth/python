{
 "cells": [
  {
   "cell_type": "code",
   "execution_count": 4,
   "id": "bbc99cbd-905f-4bf8-a25d-946175a43d5a",
   "metadata": {},
   "outputs": [
    {
     "name": "stdout",
     "output_type": "stream",
     "text": [
      "pavan\n"
     ]
    },
    {
     "data": {
      "text/plain": [
       "str"
      ]
     },
     "execution_count": 4,
     "metadata": {},
     "output_type": "execute_result"
    }
   ],
   "source": [
    "varibale=\"pavan\"\n",
    "print(varibale)\n",
    "type(varibale)"
   ]
  },
  {
   "cell_type": "code",
   "execution_count": 5,
   "id": "44d44b00-99ce-4b9f-a8cf-9c6d26ccb57f",
   "metadata": {},
   "outputs": [
    {
     "data": {
      "text/plain": [
       "int"
      ]
     },
     "execution_count": 5,
     "metadata": {},
     "output_type": "execute_result"
    }
   ],
   "source": [
    "a=10\n",
    "type(a)\n"
   ]
  },
  {
   "cell_type": "code",
   "execution_count": 4,
   "id": "782d1892-092f-4d53-b6b0-9436968f496f",
   "metadata": {},
   "outputs": [
    {
     "data": {
      "text/plain": [
       "26"
      ]
     },
     "execution_count": 4,
     "metadata": {},
     "output_type": "execute_result"
    }
   ],
   "source": [
    "b = 26.6\n",
    "type(b)\n",
    "int(b)"
   ]
  },
  {
   "cell_type": "code",
   "execution_count": 6,
   "id": "8c75ac56-8ef2-43ef-84c2-4261824fa13a",
   "metadata": {},
   "outputs": [
    {
     "name": "stdout",
     "output_type": "stream",
     "text": [
      "20\n"
     ]
    }
   ],
   "source": [
    "print(4*5)"
   ]
  },
  {
   "cell_type": "code",
   "execution_count": 10,
   "id": "f630aa55-5bf1-4649-9774-6b8daaa6273d",
   "metadata": {},
   "outputs": [
    {
     "name": "stdout",
     "output_type": "stream",
     "text": [
      "4 5\n"
     ]
    }
   ],
   "source": [
    "a=\"4\"\n",
    "b=\"5\"\n",
    "print(a + \" \"+ b)"
   ]
  },
  {
   "cell_type": "code",
   "execution_count": 15,
   "id": "c2509627-4879-4369-8952-1287bbf8158d",
   "metadata": {},
   "outputs": [
    {
     "name": "stdout",
     "output_type": "stream",
     "text": [
      "9\n"
     ]
    }
   ],
   "source": [
    "a=4\n",
    "b=\"5\"\n",
    "print(a+int(b))"
   ]
  },
  {
   "cell_type": "code",
   "execution_count": 12,
   "id": "6bac64be-7c01-450a-a820-d6a51727946c",
   "metadata": {},
   "outputs": [
    {
     "data": {
      "text/plain": [
       "int"
      ]
     },
     "execution_count": 12,
     "metadata": {},
     "output_type": "execute_result"
    }
   ],
   "source": [
    "b=\"2345\"\n",
    "\n",
    "# b=\"pavan\"\n",
    "\n",
    "b=int(b)\n",
    "type(b)"
   ]
  },
  {
   "cell_type": "code",
   "execution_count": 22,
   "id": "1aace787-691a-4302-b89e-7a5e7e8c9b0e",
   "metadata": {},
   "outputs": [
    {
     "name": "stdin",
     "output_type": "stream",
     "text": [
      " 10\n",
      " 15\n"
     ]
    },
    {
     "name": "stdout",
     "output_type": "stream",
     "text": [
      "150\n"
     ]
    }
   ],
   "source": [
    "a=int(input())\n",
    "b=int(input())\n",
    "print(a*b)"
   ]
  },
  {
   "cell_type": "code",
   "execution_count": 26,
   "id": "5190a273-8768-430f-8003-951c0c222b92",
   "metadata": {},
   "outputs": [
    {
     "name": "stdin",
     "output_type": "stream",
     "text": [
      " 10\n"
     ]
    }
   ],
   "source": [
    "a=input()"
   ]
  },
  {
   "cell_type": "code",
   "execution_count": 29,
   "id": "5c632f28-6aa9-4732-b9ab-995a972439f5",
   "metadata": {},
   "outputs": [
    {
     "name": "stdout",
     "output_type": "stream",
     "text": [
      "5.0\n"
     ]
    },
    {
     "data": {
      "text/plain": [
       "float"
      ]
     },
     "execution_count": 29,
     "metadata": {},
     "output_type": "execute_result"
    }
   ],
   "source": [
    "a=5\n",
    "print(float(a))\n",
    "a=float(a)\n",
    "type(a)\n"
   ]
  },
  {
   "cell_type": "code",
   "execution_count": 30,
   "id": "e57d7229-effe-44bc-8607-6c193a21b04c",
   "metadata": {},
   "outputs": [
    {
     "data": {
      "text/plain": [
       "0.0"
      ]
     },
     "execution_count": 30,
     "metadata": {},
     "output_type": "execute_result"
    }
   ],
   "source": [
    "int()\n",
    "str()\n",
    "float()"
   ]
  },
  {
   "cell_type": "code",
   "execution_count": 32,
   "id": "e683fa58-cf0b-4a7f-af4a-b593608af6c3",
   "metadata": {},
   "outputs": [],
   "source": [
    "# indexing"
   ]
  },
  {
   "cell_type": "code",
   "execution_count": 72,
   "id": "9aa0d1fe-662a-4bb7-be59-6b21e4b104d2",
   "metadata": {},
   "outputs": [
    {
     "data": {
      "text/plain": [
       "['hello', 'world', 'india']"
      ]
     },
     "execution_count": 72,
     "metadata": {},
     "output_type": "execute_result"
    }
   ],
   "source": [
    "0,1,2,3,4,5\n",
    "a=\"hello world india\"\n",
    "a=a.split(\" \")\n",
    "a\n"
   ]
  },
  {
   "cell_type": "code",
   "execution_count": 34,
   "id": "c405cd3f-08ba-4754-8f7e-b44caa476e88",
   "metadata": {},
   "outputs": [
    {
     "name": "stdout",
     "output_type": "stream",
     "text": [
      "['H', 'e', 'l', 'l', 'o', ' ', 'W', 'o', 'r', 'l', 'd']\n"
     ]
    }
   ],
   "source": [
    "a=\"Hello World\"\n",
    "l=list(a)\n",
    "print(l)"
   ]
  },
  {
   "cell_type": "code",
   "execution_count": 42,
   "id": "edcc0dbc-db2d-47e5-a2be-3d019b966025",
   "metadata": {},
   "outputs": [],
   "source": [
    "list=[1,\"pavan\"]"
   ]
  },
  {
   "cell_type": "code",
   "execution_count": 44,
   "id": "e32747f4-868a-4bfb-9e6f-8c30a64af147",
   "metadata": {},
   "outputs": [
    {
     "name": "stdout",
     "output_type": "stream",
     "text": [
      "pavan\n"
     ]
    }
   ],
   "source": [
    "print(list[1])"
   ]
  },
  {
   "cell_type": "code",
   "execution_count": 64,
   "id": "8eac86b9-afc2-4db1-b3d9-f29abfde76bb",
   "metadata": {},
   "outputs": [
    {
     "name": "stdout",
     "output_type": "stream",
     "text": [
      "2\n"
     ]
    }
   ],
   "source": [
    "list=[1,2,3,4,5,6,7]\n",
    "print(list[-6])"
   ]
  },
  {
   "cell_type": "code",
   "execution_count": 65,
   "id": "4852e0fd-a8e7-4d8e-81e7-6775417173bf",
   "metadata": {},
   "outputs": [
    {
     "name": "stdout",
     "output_type": "stream",
     "text": [
      "india\n"
     ]
    }
   ],
   "source": [
    "l=['india','USA']\n",
    "print(l[0])"
   ]
  },
  {
   "cell_type": "code",
   "execution_count": 1,
   "id": "75742f42-8dae-4876-8c23-60679fddd45b",
   "metadata": {},
   "outputs": [
    {
     "name": "stdout",
     "output_type": "stream",
     "text": [
      "['G', 'e', 'e', 'k', 's', ' ', 'f', 'o', 'r', ' ', 'G', 'e', 'e', 'k', 's']\n"
     ]
    }
   ],
   "source": [
    "s = \"Geeks for Geeks\"\n",
    "a = list(s)\n",
    "print(a)"
   ]
  },
  {
   "cell_type": "code",
   "execution_count": 2,
   "id": "7b6861fc-2708-49cc-ac71-02a0085667bd",
   "metadata": {},
   "outputs": [
    {
     "name": "stdout",
     "output_type": "stream",
     "text": [
      "['H', 'e', 'l', 'l', 'o', ' ', 'w', 'o', 'r', 'l', 'd']\n"
     ]
    }
   ],
   "source": [
    "a='Hello world'\n",
    "l=list(a)\n",
    "print(l)"
   ]
  },
  {
   "cell_type": "code",
   "execution_count": 3,
   "id": "00fbf53b-9aec-43f3-b30d-6a6d0cf472d8",
   "metadata": {},
   "outputs": [
    {
     "name": "stdout",
     "output_type": "stream",
     "text": [
      "o\n"
     ]
    }
   ],
   "source": [
    "print(l[4])"
   ]
  },
  {
   "cell_type": "code",
   "execution_count": 6,
   "id": "daf0b4f7-cf5a-46a8-9e9e-cd71d9c47870",
   "metadata": {},
   "outputs": [
    {
     "name": "stdout",
     "output_type": "stream",
     "text": [
      "['Hello', 'World']\n"
     ]
    }
   ],
   "source": [
    "a=\"Hello World\"\n",
    "a=a.split(\" \")\n",
    "l=list(a)\n",
    "print(l)"
   ]
  },
  {
   "cell_type": "code",
   "execution_count": 15,
   "id": "06e0b64e-4dff-4638-b66b-1b806fc1764c",
   "metadata": {},
   "outputs": [
    {
     "name": "stdout",
     "output_type": "stream",
     "text": [
      "16\n"
     ]
    }
   ],
   "source": [
    "# If Else condition\n",
    "a=11\n",
    "if a>10:\n",
    "    a=a+5\n",
    "elif a<10:\n",
    "    a=a-5\n",
    "else:\n",
    "    a=a-10\n",
    "\n",
    "print(a)\n",
    "\n",
    "\n"
   ]
  },
  {
   "cell_type": "code",
   "execution_count": 18,
   "id": "5f9f0a5e-9dc8-4a2e-86ac-b63b2f277d71",
   "metadata": {},
   "outputs": [
    {
     "name": "stdout",
     "output_type": "stream",
     "text": [
      "no\n"
     ]
    }
   ],
   "source": [
    "a=21\n",
    "b=16\n",
    "if a>20:\n",
    "    if b<15:\n",
    "        print('true')\n",
    "    else:\n",
    "        print('no')\n",
    "else:\n",
    "    print('No')\n",
    "    \n",
    "    "
   ]
  },
  {
   "cell_type": "code",
   "execution_count": null,
   "id": "f2429317-1918-4842-b5f4-7dcf2f5228b5",
   "metadata": {},
   "outputs": [],
   "source": [
    "lists\n",
    "# slicing\n",
    "# how to use if else with lists\n",
    "# append\n",
    "mapping\n",
    "# sets\n",
    "# and \n",
    "# or\n",
    "# sorted"
   ]
  },
  {
   "cell_type": "code",
   "execution_count": 22,
   "id": "824f74c6-8bc3-4c90-99e6-061d0e157c23",
   "metadata": {},
   "outputs": [
    {
     "name": "stdout",
     "output_type": "stream",
     "text": [
      "1\n"
     ]
    }
   ],
   "source": [
    "print(5//3)"
   ]
  },
  {
   "cell_type": "code",
   "execution_count": 23,
   "id": "d735feee-f826-46f8-81ac-b59e8f2af4bf",
   "metadata": {},
   "outputs": [
    {
     "name": "stdout",
     "output_type": "stream",
     "text": [
      "Even\n"
     ]
    }
   ],
   "source": [
    "a=10\n",
    "if a%2==0:\n",
    "    print('Even')\n",
    "else:\n",
    "    print('Odd')"
   ]
  },
  {
   "cell_type": "code",
   "execution_count": 25,
   "id": "7602c02d-51d7-4d9e-b43a-ffac605557f8",
   "metadata": {},
   "outputs": [
    {
     "name": "stdout",
     "output_type": "stream",
     "text": [
      "1.667\n"
     ]
    }
   ],
   "source": [
    "print(round(5/3,3))"
   ]
  },
  {
   "cell_type": "code",
   "execution_count": null,
   "id": "34a1e7ff-e806-4f19-a822-1b5eac6db33e",
   "metadata": {},
   "outputs": [],
   "source": [
    "write a program to tell that the number is a amstrong number or not\n",
    "153= 1**3+5**3+3**3"
   ]
  },
  {
   "cell_type": "code",
   "execution_count": 7,
   "id": "9e59f564-06eb-490e-83a0-ae8bb7ca53e6",
   "metadata": {},
   "outputs": [
    {
     "name": "stdin",
     "output_type": "stream",
     "text": [
      " 121\n"
     ]
    },
    {
     "data": {
      "text/plain": [
       "int"
      ]
     },
     "execution_count": 7,
     "metadata": {},
     "output_type": "execute_result"
    }
   ],
   "source": [
    "a=int(input())\n",
    "b=(int(str(a)[0])**3)+(int(str(a)[1])**3)+(int(str(a)[2])**3)\n",
    "type(a)"
   ]
  },
  {
   "cell_type": "code",
   "execution_count": 11,
   "id": "c356eff1-808f-464f-9a88-a9aea6aab4e1",
   "metadata": {},
   "outputs": [
    {
     "name": "stdout",
     "output_type": "stream",
     "text": [
      "paban\n",
      "pavan\n"
     ]
    }
   ],
   "source": [
    "print(\"paban\",\"pavan\",sep='\\n')\n"
   ]
  },
  {
   "cell_type": "code",
   "execution_count": 15,
   "id": "7da881ba-2341-4308-9ef1-5b15fb2375f2",
   "metadata": {},
   "outputs": [
    {
     "name": "stdout",
     "output_type": "stream",
     "text": [
      "pavankumarmamidi\n"
     ]
    }
   ],
   "source": [
    "print(\"pavan\",end=\"\")\n",
    "print(\"kumar\",end=\"\")\n",
    "print(\"mamidi\")"
   ]
  },
  {
   "cell_type": "code",
   "execution_count": 22,
   "id": "470a11ed-b0c2-4d2f-8821-43d0324ebe40",
   "metadata": {},
   "outputs": [
    {
     "name": "stdin",
     "output_type": "stream",
     "text": [
      " 7\n"
     ]
    },
    {
     "name": "stdout",
     "output_type": "stream",
     "text": [
      "no\n"
     ]
    }
   ],
   "source": [
    "a=int(input())\n",
    "list=[1,2,3,4,5,6]\n",
    "if a not in list:\n",
    "    print(\"no\")\n",
    "else:\n",
    "    print(\"yes\")"
   ]
  },
  {
   "cell_type": "code",
   "execution_count": 25,
   "id": "03a7fe19-0483-487f-b09c-946e91cd2303",
   "metadata": {},
   "outputs": [
    {
     "name": "stdout",
     "output_type": "stream",
     "text": [
      "pavan\n"
     ]
    }
   ],
   "source": [
    "a=\"PAVAN\"\n",
    "print(a.lower())"
   ]
  },
  {
   "cell_type": "code",
   "execution_count": 27,
   "id": "a5ebc33e-7f49-4a93-8187-b646e20516c3",
   "metadata": {},
   "outputs": [
    {
     "name": "stdin",
     "output_type": "stream",
     "text": [
      " 41\n"
     ]
    },
    {
     "name": "stdout",
     "output_type": "stream",
     "text": [
      "ok\n"
     ]
    }
   ],
   "source": [
    "a=int(input())\n",
    "if a>30 or a<40:\n",
    "    print(\"ok\")\n",
    "elif a<30:\n",
    "    print(\"yes\")\n",
    "else:\n",
    "    print(\"no\")"
   ]
  },
  {
   "cell_type": "code",
   "execution_count": 36,
   "id": "63a67692-d4df-4fba-8820-698bb21d408c",
   "metadata": {},
   "outputs": [
    {
     "name": "stdout",
     "output_type": "stream",
     "text": [
      "1-0\n",
      "2-1\n",
      "3-2\n",
      "4-3\n",
      "5-4\n",
      "pavan[1, 2, 3, 4, 5]dhfndsa\n"
     ]
    }
   ],
   "source": [
    "list=[1,2,3,4,5]\n",
    "for i in list:\n",
    "    print(f\"{i}-{list.index(i)}\")\n"
   ]
  },
  {
   "cell_type": "code",
   "execution_count": 29,
   "id": "1721f746-e799-4824-adc9-db4237fb4f5a",
   "metadata": {},
   "outputs": [
    {
     "name": "stdout",
     "output_type": "stream",
     "text": [
      "[1, 2, 3, 4, 5, 6]\n"
     ]
    }
   ],
   "source": [
    "print(list)"
   ]
  },
  {
   "cell_type": "code",
   "execution_count": 37,
   "id": "bad14ea9-14b0-4e67-880e-8c7b2b5b46c5",
   "metadata": {},
   "outputs": [],
   "source": [
    "list=[1,2,3,4,5]\n",
    "list.insert(1,7)"
   ]
  },
  {
   "cell_type": "code",
   "execution_count": 38,
   "id": "52cc662d-559b-443f-9103-ee16841d0bf1",
   "metadata": {},
   "outputs": [
    {
     "name": "stdout",
     "output_type": "stream",
     "text": [
      "[1, 7, 2, 3, 4, 5]\n"
     ]
    }
   ],
   "source": [
    "print(list)"
   ]
  },
  {
   "cell_type": "code",
   "execution_count": 74,
   "id": "47b0b514-d0d1-4a98-988e-c4c8a84c5c71",
   "metadata": {},
   "outputs": [
    {
     "name": "stdout",
     "output_type": "stream",
     "text": [
      "[42, 5, 4, 3, 2, 2, 1, 0]\n"
     ]
    }
   ],
   "source": [
    "list=[1,3,42,2,0,5,4,2]\n",
    "list.sort(reverse=True)\n",
    "print(list)\n",
    "\n"
   ]
  },
  {
   "cell_type": "code",
   "execution_count": 76,
   "id": "dd0ac85c-a363-42f9-9d5a-a7389a913177",
   "metadata": {},
   "outputs": [
    {
     "name": "stdout",
     "output_type": "stream",
     "text": [
      "[42, 5, 4, 3, 2, 2, 1, 0]\n"
     ]
    }
   ],
   "source": [
    "print(list)"
   ]
  },
  {
   "cell_type": "code",
   "execution_count": null,
   "id": "a490ae35-9fc6-4707-a8dc-71b599e6cbd6",
   "metadata": {},
   "outputs": [],
   "source": [
    "dictionaries\n",
    "# forloop\n",
    "while loop\n",
    "# bitwise \n",
    "# or\n",
    "# nor\n",
    "# xor\n",
    "# remove duplicates\n",
    "# print the duplicates\n",
    "# update in lists\n",
    "# remove from lists\n"
   ]
  },
  {
   "cell_type": "code",
   "execution_count": 78,
   "id": "9dbe66bc-8be2-4b05-aff8-3661106a13c5",
   "metadata": {},
   "outputs": [
    {
     "ename": "TypeError",
     "evalue": "'list' object is not callable",
     "output_type": "error",
     "traceback": [
      "\u001b[0;31m---------------------------------------------------------------------------\u001b[0m",
      "\u001b[0;31mTypeError\u001b[0m                                 Traceback (most recent call last)",
      "Cell \u001b[0;32mIn[78], line 2\u001b[0m\n\u001b[1;32m      1\u001b[0m s\u001b[38;5;241m=\u001b[39m{\u001b[38;5;241m1\u001b[39m,\u001b[38;5;241m2\u001b[39m,\u001b[38;5;241m3\u001b[39m,\u001b[38;5;241m4\u001b[39m,\u001b[38;5;241m5\u001b[39m}\n\u001b[0;32m----> 2\u001b[0m a\u001b[38;5;241m=\u001b[39m\u001b[38;5;28mlist\u001b[39m(s)\n\u001b[1;32m      3\u001b[0m \u001b[38;5;28mprint\u001b[39m(a)\n\u001b[1;32m      4\u001b[0m \u001b[38;5;28mprint\u001b[39m(\u001b[38;5;28mtype\u001b[39m(s))\n",
      "\u001b[0;31mTypeError\u001b[0m: 'list' object is not callable"
     ]
    }
   ],
   "source": [
    "s={1,2,3,4,5}\n",
    "a=list(s)\n",
    "print(a)\n",
    "print(type(s))"
   ]
  },
  {
   "cell_type": "code",
   "execution_count": 54,
   "id": "da99e0de-e884-4705-a448-a2321c726e0d",
   "metadata": {},
   "outputs": [
    {
     "ename": "TypeError",
     "evalue": "'set' object is not subscriptable",
     "output_type": "error",
     "traceback": [
      "\u001b[0;31m---------------------------------------------------------------------------\u001b[0m",
      "\u001b[0;31mTypeError\u001b[0m                                 Traceback (most recent call last)",
      "Cell \u001b[0;32mIn[54], line 1\u001b[0m\n\u001b[0;32m----> 1\u001b[0m \u001b[43ms\u001b[49m\u001b[43m[\u001b[49m\u001b[38;5;241;43m0\u001b[39;49m\u001b[43m]\u001b[49m\n",
      "\u001b[0;31mTypeError\u001b[0m: 'set' object is not subscriptable"
     ]
    }
   ],
   "source": [
    "s"
   ]
  },
  {
   "cell_type": "code",
   "execution_count": 80,
   "id": "4af29830-2d6f-4f91-893a-0d5966495c40",
   "metadata": {},
   "outputs": [
    {
     "ename": "TypeError",
     "evalue": "'list' object is not callable",
     "output_type": "error",
     "traceback": [
      "\u001b[0;31m---------------------------------------------------------------------------\u001b[0m",
      "\u001b[0;31mTypeError\u001b[0m                                 Traceback (most recent call last)",
      "Cell \u001b[0;32mIn[80], line 2\u001b[0m\n\u001b[1;32m      1\u001b[0m s\u001b[38;5;241m=\u001b[39m{\u001b[38;5;241m1\u001b[39m,\u001b[38;5;241m2\u001b[39m,\u001b[38;5;241m3\u001b[39m,\u001b[38;5;241m4\u001b[39m,\u001b[38;5;241m5\u001b[39m}\n\u001b[0;32m----> 2\u001b[0m a\u001b[38;5;241m=\u001b[39m\u001b[38;5;28mlist\u001b[39m(s)\n\u001b[1;32m      3\u001b[0m \u001b[38;5;28mprint\u001b[39m(a)\n",
      "\u001b[0;31mTypeError\u001b[0m: 'list' object is not callable"
     ]
    }
   ],
   "source": [
    "s={1,2,3,4,5}\n",
    "a=list(s)\n",
    "print(a)"
   ]
  },
  {
   "cell_type": "code",
   "execution_count": 14,
   "id": "bece67c5-dc25-4f5b-987e-28a074f0a578",
   "metadata": {},
   "outputs": [
    {
     "ename": "KeyboardInterrupt",
     "evalue": "Interrupted by user",
     "output_type": "error",
     "traceback": [
      "\u001b[0;31m---------------------------------------------------------------------------\u001b[0m",
      "\u001b[0;31mKeyboardInterrupt\u001b[0m                         Traceback (most recent call last)",
      "Cell \u001b[0;32mIn[14], line 1\u001b[0m\n\u001b[0;32m----> 1\u001b[0m a\u001b[38;5;241m=\u001b[39m\u001b[38;5;28mlist\u001b[39m(\u001b[38;5;28mmap\u001b[39m(\u001b[38;5;28mstr\u001b[39m,\u001b[38;5;28minput\u001b[39m()\u001b[38;5;241m.\u001b[39msplit(\u001b[38;5;124m\"\u001b[39m\u001b[38;5;124m \u001b[39m\u001b[38;5;124m\"\u001b[39m)))\n\u001b[1;32m      2\u001b[0m \u001b[38;5;28mprint\u001b[39m(a)\n\u001b[1;32m      3\u001b[0m a\u001b[38;5;241m.\u001b[39msort(reverse\u001b[38;5;241m=\u001b[39m\u001b[38;5;28;01mTrue\u001b[39;00m)\n",
      "File \u001b[0;32m/opt/anaconda3/lib/python3.12/site-packages/ipykernel/kernelbase.py:1262\u001b[0m, in \u001b[0;36mKernel.raw_input\u001b[0;34m(self, prompt)\u001b[0m\n\u001b[1;32m   1260\u001b[0m     msg \u001b[38;5;241m=\u001b[39m \u001b[38;5;124m\"\u001b[39m\u001b[38;5;124mraw_input was called, but this frontend does not support input requests.\u001b[39m\u001b[38;5;124m\"\u001b[39m\n\u001b[1;32m   1261\u001b[0m     \u001b[38;5;28;01mraise\u001b[39;00m StdinNotImplementedError(msg)\n\u001b[0;32m-> 1262\u001b[0m \u001b[38;5;28;01mreturn\u001b[39;00m \u001b[38;5;28mself\u001b[39m\u001b[38;5;241m.\u001b[39m_input_request(\n\u001b[1;32m   1263\u001b[0m     \u001b[38;5;28mstr\u001b[39m(prompt),\n\u001b[1;32m   1264\u001b[0m     \u001b[38;5;28mself\u001b[39m\u001b[38;5;241m.\u001b[39m_parent_ident[\u001b[38;5;124m\"\u001b[39m\u001b[38;5;124mshell\u001b[39m\u001b[38;5;124m\"\u001b[39m],\n\u001b[1;32m   1265\u001b[0m     \u001b[38;5;28mself\u001b[39m\u001b[38;5;241m.\u001b[39mget_parent(\u001b[38;5;124m\"\u001b[39m\u001b[38;5;124mshell\u001b[39m\u001b[38;5;124m\"\u001b[39m),\n\u001b[1;32m   1266\u001b[0m     password\u001b[38;5;241m=\u001b[39m\u001b[38;5;28;01mFalse\u001b[39;00m,\n\u001b[1;32m   1267\u001b[0m )\n",
      "File \u001b[0;32m/opt/anaconda3/lib/python3.12/site-packages/ipykernel/kernelbase.py:1305\u001b[0m, in \u001b[0;36mKernel._input_request\u001b[0;34m(self, prompt, ident, parent, password)\u001b[0m\n\u001b[1;32m   1302\u001b[0m \u001b[38;5;28;01mexcept\u001b[39;00m \u001b[38;5;167;01mKeyboardInterrupt\u001b[39;00m:\n\u001b[1;32m   1303\u001b[0m     \u001b[38;5;66;03m# re-raise KeyboardInterrupt, to truncate traceback\u001b[39;00m\n\u001b[1;32m   1304\u001b[0m     msg \u001b[38;5;241m=\u001b[39m \u001b[38;5;124m\"\u001b[39m\u001b[38;5;124mInterrupted by user\u001b[39m\u001b[38;5;124m\"\u001b[39m\n\u001b[0;32m-> 1305\u001b[0m     \u001b[38;5;28;01mraise\u001b[39;00m \u001b[38;5;167;01mKeyboardInterrupt\u001b[39;00m(msg) \u001b[38;5;28;01mfrom\u001b[39;00m \u001b[38;5;28;01mNone\u001b[39;00m\n\u001b[1;32m   1306\u001b[0m \u001b[38;5;28;01mexcept\u001b[39;00m \u001b[38;5;167;01mException\u001b[39;00m:\n\u001b[1;32m   1307\u001b[0m     \u001b[38;5;28mself\u001b[39m\u001b[38;5;241m.\u001b[39mlog\u001b[38;5;241m.\u001b[39mwarning(\u001b[38;5;124m\"\u001b[39m\u001b[38;5;124mInvalid Message:\u001b[39m\u001b[38;5;124m\"\u001b[39m, exc_info\u001b[38;5;241m=\u001b[39m\u001b[38;5;28;01mTrue\u001b[39;00m)\n",
      "\u001b[0;31mKeyboardInterrupt\u001b[0m: Interrupted by user"
     ]
    }
   ],
   "source": [
    "a=list(map(str,input().split(\" \")))\n",
    "print(a)\n",
    "a.sort(reverse=True)\n",
    "a\n",
    "print(a)"
   ]
  },
  {
   "cell_type": "code",
   "execution_count": 1,
   "id": "353f8f8c-d400-4c2a-8eca-508651e1cc51",
   "metadata": {},
   "outputs": [],
   "source": [
    "l=[100,2000,4000,40]"
   ]
  },
  {
   "cell_type": "code",
   "execution_count": 3,
   "id": "4186a773-c2e8-42f7-967d-ae55798ed8f0",
   "metadata": {},
   "outputs": [
    {
     "name": "stdout",
     "output_type": "stream",
     "text": [
      "11\n"
     ]
    }
   ],
   "source": [
    "10= 0000 1010\n",
    "11= 0000 1011\n",
    "    0000 1011"
   ]
  },
  {
   "cell_type": "code",
   "execution_count": 6,
   "id": "bb4ed58f-d499-42ae-ab1e-586059d68f0c",
   "metadata": {},
   "outputs": [
    {
     "name": "stdout",
     "output_type": "stream",
     "text": [
      "1\n"
     ]
    }
   ],
   "source": [
    "print(11)"
   ]
  },
  {
   "cell_type": "code",
   "execution_count": 7,
   "id": "e7cf3831-fb14-4059-826d-38b028e08377",
   "metadata": {},
   "outputs": [
    {
     "name": "stdout",
     "output_type": "stream",
     "text": [
      "40\n"
     ]
    }
   ],
   "source": [
    "print(10<<2)"
   ]
  },
  {
   "cell_type": "code",
   "execution_count": 8,
   "id": "81af2e4f-182b-47ae-8a03-5fa1acb09c00",
   "metadata": {},
   "outputs": [
    {
     "ename": "SyntaxError",
     "evalue": "invalid syntax (1539189614.py, line 1)",
     "output_type": "error",
     "traceback": [
      "\u001b[0;36m  Cell \u001b[0;32mIn[8], line 1\u001b[0;36m\u001b[0m\n\u001b[0;31m    0000 1010\u001b[0m\n\u001b[0m         ^\u001b[0m\n\u001b[0;31mSyntaxError\u001b[0m\u001b[0;31m:\u001b[0m invalid syntax\n"
     ]
    }
   ],
   "source": [
    "# 0000 1010\n",
    "# 00\n",
    "\n"
   ]
  },
  {
   "cell_type": "code",
   "execution_count": 17,
   "id": "cc42eb68-a348-4ef3-bdb7-93dcf3110237",
   "metadata": {},
   "outputs": [
    {
     "ename": "AttributeError",
     "evalue": "'list' object has no attribute 'update'",
     "output_type": "error",
     "traceback": [
      "\u001b[0;31m---------------------------------------------------------------------------\u001b[0m",
      "\u001b[0;31mAttributeError\u001b[0m                            Traceback (most recent call last)",
      "Cell \u001b[0;32mIn[17], line 2\u001b[0m\n\u001b[1;32m      1\u001b[0m l\u001b[38;5;241m=\u001b[39m[\u001b[38;5;241m1\u001b[39m,\u001b[38;5;241m2\u001b[39m,\u001b[38;5;241m3\u001b[39m,\u001b[38;5;241m4\u001b[39m,\u001b[38;5;241m5\u001b[39m]\n\u001b[0;32m----> 2\u001b[0m \u001b[43ml\u001b[49m\u001b[38;5;241;43m.\u001b[39;49m\u001b[43mupdate\u001b[49m(\u001b[38;5;241m2\u001b[39m)\n",
      "\u001b[0;31mAttributeError\u001b[0m: 'list' object has no attribute 'update'"
     ]
    }
   ],
   "source": [
    "l=[1,2,3,4,5]\n",
    "l.update(2)"
   ]
  },
  {
   "cell_type": "code",
   "execution_count": 18,
   "id": "0cc5c923-fe7f-4f72-86b0-30abee9ff596",
   "metadata": {},
   "outputs": [
    {
     "name": "stdout",
     "output_type": "stream",
     "text": [
      "[1, 2, 3, 4, 5]\n"
     ]
    }
   ],
   "source": [
    "print(l)"
   ]
  },
  {
   "cell_type": "code",
   "execution_count": 19,
   "id": "177f8c61-5073-4fce-9ca4-48ed5e6541ce",
   "metadata": {},
   "outputs": [],
   "source": [
    "l[0]=2"
   ]
  },
  {
   "cell_type": "code",
   "execution_count": 20,
   "id": "5a03c8aa-2aa0-449a-9c90-592465baa8dc",
   "metadata": {},
   "outputs": [
    {
     "name": "stdout",
     "output_type": "stream",
     "text": [
      "[2, 2, 3, 4, 5]\n"
     ]
    }
   ],
   "source": [
    "print(l)"
   ]
  },
  {
   "cell_type": "code",
   "execution_count": 21,
   "id": "fcbf5b54-76c2-4da5-a1c5-dee94f0f90bd",
   "metadata": {},
   "outputs": [
    {
     "name": "stdout",
     "output_type": "stream",
     "text": [
      "1\n",
      "2\n",
      "3\n",
      "4\n",
      "5\n",
      "6\n",
      "7\n",
      "8\n",
      "9\n"
     ]
    }
   ],
   "source": [
    "for i in range(1,10):\n",
    "    print(i)"
   ]
  },
  {
   "cell_type": "code",
   "execution_count": 20,
   "id": "c20f9b66-a595-4c49-8d7f-e9c984300c75",
   "metadata": {},
   "outputs": [
    {
     "name": "stdout",
     "output_type": "stream",
     "text": [
      "18\n",
      "18\n"
     ]
    }
   ],
   "source": [
    "l=[2,3,4,2,3,4]\n",
    "sum1=0\n",
    "for i in range(len(l)):\n",
    "    sum1=sum1+l[i]\n",
    "print(sum1)\n",
    "print(sum(l))"
   ]
  },
  {
   "cell_type": "code",
   "execution_count": 2,
   "id": "bd2298f8-0d3e-47c6-82d6-31619b79d85c",
   "metadata": {},
   "outputs": [
    {
     "name": "stdout",
     "output_type": "stream",
     "text": [
      "18\n"
     ]
    }
   ],
   "source": [
    "print(sum1)"
   ]
  },
  {
   "cell_type": "code",
   "execution_count": 3,
   "id": "d51c8221-9c17-453f-8eb6-c52c8b854286",
   "metadata": {},
   "outputs": [
    {
     "name": "stdout",
     "output_type": "stream",
     "text": [
      "18\n"
     ]
    }
   ],
   "source": [
    "print(sum(l))"
   ]
  },
  {
   "cell_type": "code",
   "execution_count": 4,
   "id": "7d2ee3a0-fe7e-4a45-bc26-d9d9cc4a9939",
   "metadata": {},
   "outputs": [
    {
     "name": "stdout",
     "output_type": "stream",
     "text": [
      "15\n"
     ]
    }
   ],
   "source": [
    "l=[1,2,3,4,5]\n",
    "a=0\n",
    "for i in l:\n",
    "    a=a+i\n",
    "print(a)"
   ]
  },
  {
   "cell_type": "code",
   "execution_count": 22,
   "id": "4ad583b0-6829-4200-a99a-b1522322dfe3",
   "metadata": {},
   "outputs": [
    {
     "name": "stdout",
     "output_type": "stream",
     "text": [
      "2\n",
      "2\n",
      "6\n",
      "6\n"
     ]
    }
   ],
   "source": [
    "l=[1,2,2,3,4,5,6,6]\n",
    "for i in l:\n",
    "    if l.count(i)>1:\n",
    "        print(i)"
   ]
  },
  {
   "cell_type": "code",
   "execution_count": 24,
   "id": "4b846351-d440-4195-9496-d6b67fff0712",
   "metadata": {},
   "outputs": [
    {
     "name": "stdout",
     "output_type": "stream",
     "text": [
      "[1, 2, 3, 4, 5]\n"
     ]
    }
   ],
   "source": [
    "l=[1,2,3,4,4,3,1,5]\n",
    "k=[]\n",
    "for i in l:\n",
    "    if i not in k:\n",
    "        k.append(i)\n",
    "print(k)\n"
   ]
  },
  {
   "cell_type": "code",
   "execution_count": 10,
   "id": "f4219b01-e959-4e53-b44c-7d7107c9aea7",
   "metadata": {},
   "outputs": [
    {
     "name": "stdout",
     "output_type": "stream",
     "text": [
      "[1]\n"
     ]
    }
   ],
   "source": [
    "print(k)"
   ]
  },
  {
   "cell_type": "code",
   "execution_count": 11,
   "id": "5fed5286-8da9-41a6-9395-d74bc053a299",
   "metadata": {},
   "outputs": [
    {
     "data": {
      "text/plain": [
       "list"
      ]
     },
     "execution_count": 11,
     "metadata": {},
     "output_type": "execute_result"
    }
   ],
   "source": [
    "type(k)"
   ]
  },
  {
   "cell_type": "code",
   "execution_count": 14,
   "id": "5793a345-103c-4f88-b858-caf41fa1b4f6",
   "metadata": {},
   "outputs": [],
   "source": [
    "import math"
   ]
  },
  {
   "cell_type": "code",
   "execution_count": null,
   "id": "27292177-b4ab-4a5a-ab5e-fc616ff392cb",
   "metadata": {},
   "outputs": [],
   "source": [
    "print(math.pow(3,2))"
   ]
  },
  {
   "cell_type": "code",
   "execution_count": null,
   "id": "251fa90d-d999-41a1-9aca-749311855efd",
   "metadata": {},
   "outputs": [],
   "source": [
    "*\n",
    "**\n",
    "***\n",
    "****\n",
    "*****\n",
    "******\n",
    "*******"
   ]
  },
  {
   "cell_type": "code",
   "execution_count": null,
   "id": "23885bd4-b0fc-4df3-97f4-0b8c5cf5340e",
   "metadata": {},
   "outputs": [],
   "source": [
    "break\n",
    "continue\n",
    "pass"
   ]
  },
  {
   "cell_type": "code",
   "execution_count": 3,
   "id": "6856292b-af5c-4619-be97-37661a033033",
   "metadata": {},
   "outputs": [
    {
     "name": "stdin",
     "output_type": "stream",
     "text": [
      " 1\n"
     ]
    },
    {
     "name": "stdout",
     "output_type": "stream",
     "text": [
      "1\n",
      "2\n",
      "3\n",
      "4\n",
      "5\n",
      "6\n",
      "7\n",
      "8\n",
      "9\n",
      "10\n"
     ]
    }
   ],
   "source": [
    "n=int(input())\n",
    "while n<=10:\n",
    "    print(n)\n",
    "    n=n+1"
   ]
  },
  {
   "cell_type": "code",
   "execution_count": null,
   "id": "ad87df84-ac39-4587-b1db-fdfeb4f479c1",
   "metadata": {},
   "outputs": [],
   "source": [
    "n=int(input())\n",
    "while n<=10:\n",
    "    if n==5:\n",
    "        continue\n",
    "    print(n)\n",
    "    n=n+1\n",
    "    "
   ]
  },
  {
   "cell_type": "code",
   "execution_count": null,
   "id": "8b2a4593-3b9c-42e9-9124-2c372fa975bc",
   "metadata": {},
   "outputs": [],
   "source": [
    "for i in range(1,11):\n",
    "    if i==5:\n",
    "        continue\n",
    "    print(i)"
   ]
  },
  {
   "cell_type": "code",
   "execution_count": 6,
   "id": "caff9b29-50ac-4808-84c0-1e58fa8d8680",
   "metadata": {},
   "outputs": [
    {
     "name": "stdout",
     "output_type": "stream",
     "text": [
      "1\n",
      "3\n",
      "5\n",
      "7\n",
      "9\n"
     ]
    }
   ],
   "source": [
    "i = 0\n",
    "while i < 10:\n",
    "    i += 1  # Increment first to avoid infinite loop\n",
    "    if i % 2 == 0:\n",
    "        continue  # Skip even numbers\n",
    "    print(i)"
   ]
  },
  {
   "cell_type": "code",
   "execution_count": 3,
   "id": "434f48cd-64f9-4e5c-8066-a0edb1dd3725",
   "metadata": {},
   "outputs": [
    {
     "name": "stdin",
     "output_type": "stream",
     "text": [
      " 2\n"
     ]
    },
    {
     "name": "stdout",
     "output_type": "stream",
     "text": [
      "3\n",
      "4\n",
      "5\n",
      "6\n",
      "7\n",
      "8\n",
      "9\n",
      "10\n"
     ]
    }
   ],
   "source": [
    "n=int(input())\n",
    "while n<10:\n",
    "    n=n+1\n",
    "    if n==5:\n",
    "        pass\n",
    "    print(n)"
   ]
  },
  {
   "cell_type": "code",
   "execution_count": 4,
   "id": "908e845e-4d07-41e9-8195-9be2369c107c",
   "metadata": {},
   "outputs": [
    {
     "name": "stdout",
     "output_type": "stream",
     "text": [
      "1\n",
      "3\n",
      "5\n"
     ]
    }
   ],
   "source": [
    "l=[1,2,3,4,5]\n",
    "n=0\n",
    "while n<=len(l)-1:\n",
    "    if l[n]%2!=0:\n",
    "        print(l[n])\n",
    "    n=n+1"
   ]
  },
  {
   "cell_type": "code",
   "execution_count": 1,
   "id": "f36b46c6-2a3f-4b31-84ae-33c2c959988c",
   "metadata": {},
   "outputs": [
    {
     "name": "stdin",
     "output_type": "stream",
     "text": [
      " 10\n"
     ]
    },
    {
     "name": "stdout",
     "output_type": "stream",
     "text": [
      "0\n",
      "1\n",
      "1\n",
      "2\n",
      "3\n",
      "5\n",
      "8\n",
      "13\n",
      "21\n",
      "34\n",
      "55\n"
     ]
    }
   ],
   "source": [
    "n=int(input())\n",
    "a=0\n",
    "b=1\n",
    "print(a)\n",
    "print(b)\n",
    "for i in range(n-1):\n",
    "    c=a+b\n",
    "    print(c)\n",
    "    a=b\n",
    "    b=c\n",
    "    "
   ]
  },
  {
   "cell_type": "code",
   "execution_count": null,
   "id": "1cb164c1-16df-4254-ad0d-7c5ba734ed1e",
   "metadata": {},
   "outputs": [],
   "source": [
    "a=0\n",
    "b=1\n",
    "\n",
    "c=a+b\n",
    "print(c)\n",
    "a=b\n",
    "b=c\n",
    "\n",
    "0 1 1 2\n",
    "    a b c"
   ]
  },
  {
   "cell_type": "code",
   "execution_count": 3,
   "id": "7b431ec1-c31d-4178-8017-05d8fb8e1ae5",
   "metadata": {},
   "outputs": [
    {
     "name": "stdout",
     "output_type": "stream",
     "text": [
      "11\n"
     ]
    }
   ],
   "source": [
    "# functions\n",
    "a=5\n",
    "b=6\n",
    "print(a+b)"
   ]
  },
  {
   "cell_type": "code",
   "execution_count": null,
   "id": "0197d35d-8f35-424b-bca1-36a6540602d1",
   "metadata": {},
   "outputs": [],
   "source": [
    "def finction_name():\n",
    "    return b"
   ]
  },
  {
   "cell_type": "code",
   "execution_count": 10,
   "id": "6ec95ccd-23dc-46c0-aa01-b19913b29432",
   "metadata": {},
   "outputs": [],
   "source": [
    "def sum_1():\n",
    "    a=1\n",
    "    b=2\n",
    "    pass\n",
    "\n",
    "sum_1()"
   ]
  },
  {
   "cell_type": "code",
   "execution_count": 5,
   "id": "45784fd9-6b90-498e-a150-de5905e376d1",
   "metadata": {},
   "outputs": [
    {
     "data": {
      "text/plain": [
       "3"
      ]
     },
     "execution_count": 5,
     "metadata": {},
     "output_type": "execute_result"
    }
   ],
   "source": [
    "sum_1()"
   ]
  },
  {
   "cell_type": "code",
   "execution_count": 11,
   "id": "6532991e-6235-4179-8948-918656682b94",
   "metadata": {},
   "outputs": [],
   "source": [
    "def sum2(a,b):\n",
    "    return a+b\n",
    "    "
   ]
  },
  {
   "cell_type": "code",
   "execution_count": 12,
   "id": "2d06dbaa-61ff-49aa-8870-6415e9ade31d",
   "metadata": {},
   "outputs": [
    {
     "data": {
      "text/plain": [
       "5"
      ]
     },
     "execution_count": 12,
     "metadata": {},
     "output_type": "execute_result"
    }
   ],
   "source": [
    "sum2(2,3)"
   ]
  },
  {
   "cell_type": "code",
   "execution_count": 13,
   "id": "ad1923a6-7400-4caf-9a10-cd368b54c68d",
   "metadata": {},
   "outputs": [
    {
     "data": {
      "text/plain": [
       "15"
      ]
     },
     "execution_count": 13,
     "metadata": {},
     "output_type": "execute_result"
    }
   ],
   "source": [
    "sum2(10,5)"
   ]
  },
  {
   "cell_type": "code",
   "execution_count": 28,
   "id": "27974bee-8348-405c-800d-198567a05e7f",
   "metadata": {},
   "outputs": [],
   "source": [
    "def mul():\n",
    "    a=1\n",
    "    b=2\n",
    "    return a*b"
   ]
  },
  {
   "cell_type": "code",
   "execution_count": 30,
   "id": "6f33d726-9b4c-4749-bc8a-b5a6416f4e00",
   "metadata": {},
   "outputs": [
    {
     "name": "stdout",
     "output_type": "stream",
     "text": [
      "2\n"
     ]
    }
   ],
   "source": [
    "a=mul()\n",
    "print(a)"
   ]
  },
  {
   "cell_type": "code",
   "execution_count": 31,
   "id": "03106516-0910-4cbc-b70a-e3a0e255f4a8",
   "metadata": {},
   "outputs": [],
   "source": [
    "def sum():\n",
    "    return 5+a"
   ]
  },
  {
   "cell_type": "code",
   "execution_count": 32,
   "id": "aeb7251b-5978-4ee2-a844-337eec0d37c3",
   "metadata": {},
   "outputs": [
    {
     "data": {
      "text/plain": [
       "7"
      ]
     },
     "execution_count": 32,
     "metadata": {},
     "output_type": "execute_result"
    }
   ],
   "source": [
    "sum()"
   ]
  },
  {
   "cell_type": "code",
   "execution_count": 17,
   "id": "990e43e5-b7f2-400e-9a96-ce07137c77ef",
   "metadata": {},
   "outputs": [],
   "source": [
    "def factorial(n):\n",
    "    m=1\n",
    "    for i in range(1,n+1):\n",
    "        m=m*i\n",
    "    print(m)\n"
   ]
  },
  {
   "cell_type": "code",
   "execution_count": 18,
   "id": "0f31773f-83bd-4ab2-aa15-6a79441b960f",
   "metadata": {},
   "outputs": [
    {
     "name": "stdin",
     "output_type": "stream",
     "text": [
      " 4\n"
     ]
    },
    {
     "name": "stdout",
     "output_type": "stream",
     "text": [
      "24\n"
     ]
    }
   ],
   "source": [
    "n=int(input())\n",
    "factorial(n)"
   ]
  },
  {
   "cell_type": "code",
   "execution_count": 11,
   "id": "ee870bec-188b-4557-b21b-e44ec62e4b53",
   "metadata": {},
   "outputs": [
    {
     "data": {
      "text/plain": [
       "3628800"
      ]
     },
     "execution_count": 11,
     "metadata": {},
     "output_type": "execute_result"
    }
   ],
   "source": [
    "factorial(10)"
   ]
  },
  {
   "cell_type": "code",
   "execution_count": 26,
   "id": "aef22d2c-c5c2-4dca-b159-545e8ccfe1be",
   "metadata": {},
   "outputs": [],
   "source": [
    "def forsum(l):\n",
    "    s=0\n",
    "    for i in l:\n",
    "        s=s+i\n",
    "    print(s)"
   ]
  },
  {
   "cell_type": "code",
   "execution_count": 27,
   "id": "73e292a0-a42d-495f-ab9d-ec66850eebfe",
   "metadata": {},
   "outputs": [
    {
     "name": "stdin",
     "output_type": "stream",
     "text": [
      " 1 2 3 4 5\n"
     ]
    },
    {
     "ename": "NameError",
     "evalue": "name 'a' is not defined",
     "output_type": "error",
     "traceback": [
      "\u001b[0;31m---------------------------------------------------------------------------\u001b[0m",
      "\u001b[0;31mNameError\u001b[0m                                 Traceback (most recent call last)",
      "Cell \u001b[0;32mIn[27], line 2\u001b[0m\n\u001b[1;32m      1\u001b[0m m\u001b[38;5;241m=\u001b[39m\u001b[38;5;28mlist\u001b[39m(\u001b[38;5;28mmap\u001b[39m(\u001b[38;5;28mint\u001b[39m,\u001b[38;5;28minput\u001b[39m()\u001b[38;5;241m.\u001b[39msplit(\u001b[38;5;124m'\u001b[39m\u001b[38;5;124m \u001b[39m\u001b[38;5;124m'\u001b[39m)))\n\u001b[0;32m----> 2\u001b[0m \u001b[43mforsum\u001b[49m\u001b[43m(\u001b[49m\u001b[43mm\u001b[49m\u001b[43m)\u001b[49m\n",
      "Cell \u001b[0;32mIn[26], line 3\u001b[0m, in \u001b[0;36mforsum\u001b[0;34m(l)\u001b[0m\n\u001b[1;32m      1\u001b[0m \u001b[38;5;28;01mdef\u001b[39;00m \u001b[38;5;21mforsum\u001b[39m(l):\n\u001b[1;32m      2\u001b[0m     s\u001b[38;5;241m=\u001b[39m\u001b[38;5;241m0\u001b[39m\n\u001b[0;32m----> 3\u001b[0m     \u001b[38;5;28;01mfor\u001b[39;00m i \u001b[38;5;129;01min\u001b[39;00m \u001b[43ma\u001b[49m:\n\u001b[1;32m      4\u001b[0m         s\u001b[38;5;241m=\u001b[39ms\u001b[38;5;241m+\u001b[39mi\n\u001b[1;32m      5\u001b[0m     \u001b[38;5;28mprint\u001b[39m(s)\n",
      "\u001b[0;31mNameError\u001b[0m: name 'a' is not defined"
     ]
    }
   ],
   "source": [
    "m=list(map(int,input().split(' ')))\n",
    "forsum(m)"
   ]
  },
  {
   "cell_type": "code",
   "execution_count": null,
   "id": "338d3f13-931b-46ae-b130-e51b46e1865d",
   "metadata": {},
   "outputs": [],
   "source": [
    "# nested list\n",
    "try and except\n",
    "arrays\n",
    "tuples\n",
    "lambda functions\n",
    "# dictonaries\n",
    "# kwargs\n",
    "strings and characters\n",
    "# args\n",
    "\n"
   ]
  },
  {
   "cell_type": "code",
   "execution_count": 6,
   "id": "af76750d-ff54-483a-8729-c3dfaecef641",
   "metadata": {},
   "outputs": [
    {
     "name": "stdout",
     "output_type": "stream",
     "text": [
      "dict_items([('a', 1), ('b', 2)])\n"
     ]
    }
   ],
   "source": [
    "dict={\"a\":1,\"b\":2}\n",
    "val=dict.items()\n",
    "print(val)"
   ]
  },
  {
   "cell_type": "code",
   "execution_count": 10,
   "id": "9ce93419-2c28-4661-81b2-30993d3c9bac",
   "metadata": {},
   "outputs": [],
   "source": [
    "def sum1(*args):\n",
    "    print(args)"
   ]
  },
  {
   "cell_type": "code",
   "execution_count": 11,
   "id": "272cbe56-764a-478c-978b-e0633f5aa567",
   "metadata": {},
   "outputs": [
    {
     "name": "stdout",
     "output_type": "stream",
     "text": [
      "(1, 2, 3, 4)\n"
     ]
    }
   ],
   "source": [
    "sum1(1,2,3,4)"
   ]
  },
  {
   "cell_type": "code",
   "execution_count": 4,
   "id": "cd207461-b61d-4d13-a3af-7e7b2d744afb",
   "metadata": {},
   "outputs": [
    {
     "data": {
      "text/plain": [
       "26.0"
      ]
     },
     "execution_count": 4,
     "metadata": {},
     "output_type": "execute_result"
    }
   ],
   "source": [
    "round(26.000000,2)"
   ]
  },
  {
   "cell_type": "code",
   "execution_count": 10,
   "id": "cd439e7a-b690-40d0-aec9-cca82e192ba7",
   "metadata": {},
   "outputs": [
    {
     "data": {
      "text/plain": [
       "25"
      ]
     },
     "execution_count": 10,
     "metadata": {},
     "output_type": "execute_result"
    }
   ],
   "source": [
    "round(25,2)"
   ]
  },
  {
   "cell_type": "code",
   "execution_count": 19,
   "id": "5bc15a7b-5168-48d5-9029-b13388bc77fc",
   "metadata": {},
   "outputs": [],
   "source": [
    "\n",
    "\n",
    "def test(*args):\n",
    "    s=0\n",
    "    for i in args:\n",
    "        s=s+i\n",
    "    return s"
   ]
  },
  {
   "cell_type": "code",
   "execution_count": 22,
   "id": "4295bdc6-80c2-4a1c-ba7b-e7db88a117b9",
   "metadata": {},
   "outputs": [
    {
     "data": {
      "text/plain": [
       "15"
      ]
     },
     "execution_count": 22,
     "metadata": {},
     "output_type": "execute_result"
    }
   ],
   "source": [
    "test(1,2,3,4,5)"
   ]
  },
  {
   "cell_type": "code",
   "execution_count": 1,
   "id": "89e2f35c-b6d7-4a7b-ab37-9ab4e1e72923",
   "metadata": {},
   "outputs": [
    {
     "name": "stdin",
     "output_type": "stream",
     "text": [
      " 5\n"
     ]
    },
    {
     "name": "stdout",
     "output_type": "stream",
     "text": [
      "2\n",
      "4\n",
      "6\n",
      "8\n",
      "10\n"
     ]
    }
   ],
   "source": [
    "# list is a collection of non-homogenous elements\n",
    "# nested list is a collection of list\n",
    "# l=[1,2,3,4]\n",
    "# nested_list=[[1,2,3,4],[5,6,7,8]]\n",
    "k=list(map(int,input().split(' '))) \n",
    "a=0\n",
    "for i in range(5):\n",
    "    a=a+2\n",
    "    print(a)\n",
    "   \n",
    "    \n",
    "    "
   ]
  },
  {
   "cell_type": "code",
   "execution_count": 34,
   "id": "290ca93d-e367-43e3-97a9-6accedeeab16",
   "metadata": {},
   "outputs": [
    {
     "name": "stdout",
     "output_type": "stream",
     "text": [
      "[1]\n",
      "[2]\n",
      "[3]\n",
      "[4]\n",
      "[5]\n",
      "[6]\n",
      "[7]\n",
      "[8]\n",
      "[9]\n"
     ]
    }
   ],
   "source": [
    "\n",
    "for i in range(1,10):\n",
    "    l=[]\n",
    "    l.append(i)\n",
    "    print(l)"
   ]
  },
  {
   "cell_type": "code",
   "execution_count": 38,
   "id": "cfe07c68-4ac9-4e9f-b192-9526876d6f2f",
   "metadata": {},
   "outputs": [
    {
     "data": {
      "text/plain": [
       "3"
      ]
     },
     "execution_count": 38,
     "metadata": {},
     "output_type": "execute_result"
    }
   ],
   "source": [
    "nested_list=[[1,2,3,4],[5,6,7,8]]\n",
    "# for i in nested_list:\n",
    "#     print(i)\n",
    "nested_list[0][2]"
   ]
  },
  {
   "cell_type": "code",
   "execution_count": 39,
   "id": "ff23a0d5-59a7-4185-a646-fa04b5f69117",
   "metadata": {},
   "outputs": [
    {
     "name": "stdout",
     "output_type": "stream",
     "text": [
      "1\n",
      "2\n",
      "3\n",
      "4\n",
      "5\n",
      "6\n",
      "7\n",
      "8\n"
     ]
    }
   ],
   "source": [
    "nested_list=[[1,2,3,4],[5,6,7,8]]\n",
    "for i in nested_list:\n",
    "    #i=[1,2,3,4]\n",
    "    for j in i:\n",
    "        print(j)\n",
    "        "
   ]
  },
  {
   "cell_type": "code",
   "execution_count": 40,
   "id": "9c3d6b30-91b8-4eb7-bd6a-4a6914ff33cc",
   "metadata": {},
   "outputs": [
    {
     "name": "stdout",
     "output_type": "stream",
     "text": [
      "1\n",
      "2\n",
      "3\n",
      "4\n",
      "5\n",
      "6\n",
      "7\n",
      "8\n"
     ]
    }
   ],
   "source": [
    "nested_list=[[1,2,3,4],[5,6,7,8]]\n",
    "for i in range(len(nested_list)):\n",
    "    for j in range(len(nested_list[i])):\n",
    "        print(nested_list[i][j])"
   ]
  },
  {
   "cell_type": "code",
   "execution_count": 41,
   "id": "10e45ce3-60b2-4bbd-b3d5-b4144e6698e2",
   "metadata": {},
   "outputs": [],
   "source": [
    "#dictionaries\n",
    "# keys\n",
    "# values\n",
    "dictionary={'a':123,'b':456}"
   ]
  },
  {
   "cell_type": "code",
   "execution_count": 42,
   "id": "33b298f8-bcb2-4443-9cd5-bb34c335bfe8",
   "metadata": {},
   "outputs": [
    {
     "data": {
      "text/plain": [
       "123"
      ]
     },
     "execution_count": 42,
     "metadata": {},
     "output_type": "execute_result"
    }
   ],
   "source": [
    "dictionary.get('a')"
   ]
  },
  {
   "cell_type": "code",
   "execution_count": 47,
   "id": "baac254f-5b00-43bd-a8e8-92b736b20723",
   "metadata": {},
   "outputs": [
    {
     "name": "stdout",
     "output_type": "stream",
     "text": [
      "{'a': 123, 'b': 456}\n",
      "{'a': 123, 'b': 456}\n"
     ]
    }
   ],
   "source": [
    "\n",
    "for i in dictionary:\n",
    "    print(dictionary)"
   ]
  },
  {
   "cell_type": "code",
   "execution_count": 48,
   "id": "14064cfb-a530-451b-9c0f-95711a92e1de",
   "metadata": {},
   "outputs": [
    {
     "name": "stdout",
     "output_type": "stream",
     "text": [
      "123\n"
     ]
    }
   ],
   "source": [
    "print(dictionary['a'])"
   ]
  },
  {
   "cell_type": "code",
   "execution_count": 49,
   "id": "84ae251a-19be-46be-a898-8db23c2ff810",
   "metadata": {},
   "outputs": [
    {
     "data": {
      "text/plain": [
       "['yeswanth', 25]"
      ]
     },
     "execution_count": 49,
     "metadata": {},
     "output_type": "execute_result"
    }
   ],
   "source": [
    "employee_details={'12345678':['yeswanth',25],'3454323224':['pavan',25]}\n",
    "employee_details.get('12345678')"
   ]
  },
  {
   "cell_type": "code",
   "execution_count": 61,
   "id": "6a228781-9b02-4215-8fbf-bf5031388a2f",
   "metadata": {},
   "outputs": [
    {
     "name": "stdout",
     "output_type": "stream",
     "text": [
      "('12345678', [123])\n",
      "('3454323224', ['pavan', 25])\n",
      "('2312121', 123)\n"
     ]
    }
   ],
   "source": [
    "for i in employee_details.items():\n",
    "    print(i)"
   ]
  },
  {
   "cell_type": "code",
   "execution_count": 56,
   "id": "2a9ca392-a27c-42b3-969e-7c33a6d0c193",
   "metadata": {},
   "outputs": [],
   "source": [
    "employee_details.update({'12345678':['yesh',30]})"
   ]
  },
  {
   "cell_type": "code",
   "execution_count": 60,
   "id": "62b75343-0593-4a83-ab9b-ca060a392495",
   "metadata": {},
   "outputs": [],
   "source": [
    "employee_details['12345678']=[123]"
   ]
  },
  {
   "cell_type": "code",
   "execution_count": 9,
   "id": "db8b66ed-05bf-47a5-bfe5-60660fd56c2f",
   "metadata": {},
   "outputs": [
    {
     "name": "stdout",
     "output_type": "stream",
     "text": [
      "['yeswanth', 25]\n"
     ]
    }
   ],
   "source": [
    "def test1(**kwargs):\n",
    "    employee_details={'12345678':['yeswanth',25],'3454323224':['pavan',25]}\n",
    "    for i in kwargs.values():\n",
    "        print(employee_details[i])\n",
    "test1(a='12345678')"
   ]
  },
  {
   "cell_type": "code",
   "execution_count": 20,
   "id": "c09e0b21-23b7-4e58-8c42-5850c4c5540c",
   "metadata": {},
   "outputs": [
    {
     "name": "stdout",
     "output_type": "stream",
     "text": [
      "p.a.v.a.n.k.u.m.a.r\n"
     ]
    }
   ],
   "source": [
    "a='pavankumar'\n",
    "print('.'.join(a))"
   ]
  },
  {
   "cell_type": "code",
   "execution_count": 18,
   "id": "a045afcf-2770-4f65-bec2-6a658d7a218b",
   "metadata": {},
   "outputs": [
    {
     "name": "stdout",
     "output_type": "stream",
     "text": [
      "['pavan', 'kumar']\n"
     ]
    }
   ],
   "source": [
    "a='pavan kumar'\n",
    "print(a.split(' '))"
   ]
  },
  {
   "cell_type": "code",
   "execution_count": 22,
   "id": "52d3acfe-8b91-44ae-9d69-e91719ca9fbf",
   "metadata": {},
   "outputs": [
    {
     "name": "stdout",
     "output_type": "stream",
     "text": [
      "pavan kumar\n"
     ]
    }
   ],
   "source": [
    "a=['pavan', 'kumar']\n",
    "print(' '.join(a))"
   ]
  },
  {
   "cell_type": "code",
   "execution_count": null,
   "id": "20000f41-5de0-4bda-b305-e77ba17aab7e",
   "metadata": {},
   "outputs": [],
   "source": [
    "Arrays\n",
    "Arrays are same as lists\n",
    "l=[]\n",
    "\n",
    "array(type,[elements])"
   ]
  },
  {
   "cell_type": "code",
   "execution_count": 9,
   "id": "4fe1d98a-1d26-496f-a3aa-f04b8d421e92",
   "metadata": {},
   "outputs": [],
   "source": [
    "from array import *\n",
    "arr=array('i',[1,2,3,4])"
   ]
  },
  {
   "cell_type": "code",
   "execution_count": 10,
   "id": "6e367be3-1b2b-4a8f-8112-8e9de737faae",
   "metadata": {},
   "outputs": [
    {
     "data": {
      "text/plain": [
       "array.array"
      ]
     },
     "execution_count": 10,
     "metadata": {},
     "output_type": "execute_result"
    }
   ],
   "source": [
    "type(arr)"
   ]
  },
  {
   "cell_type": "code",
   "execution_count": 13,
   "id": "0dc6ccc1-1f90-4468-84dc-72a045df5286",
   "metadata": {},
   "outputs": [
    {
     "name": "stdout",
     "output_type": "stream",
     "text": [
      "1\n",
      "2\n",
      "3\n",
      "4\n",
      "5\n"
     ]
    }
   ],
   "source": [
    "for i in arr:\n",
    "    print(i)"
   ]
  },
  {
   "cell_type": "code",
   "execution_count": 12,
   "id": "da7e0fb2-6834-45ac-8852-ecfd5a886162",
   "metadata": {},
   "outputs": [],
   "source": [
    "arr.append(5)"
   ]
  },
  {
   "cell_type": "code",
   "execution_count": 14,
   "id": "a4e84952-7b52-4cff-b7a5-bcf040402ad5",
   "metadata": {},
   "outputs": [
    {
     "data": {
      "text/plain": [
       "array('i', [2, 3, 4])"
      ]
     },
     "execution_count": 14,
     "metadata": {},
     "output_type": "execute_result"
    }
   ],
   "source": [
    "arr[1:4]"
   ]
  },
  {
   "cell_type": "code",
   "execution_count": 67,
   "id": "c8a56db7-d274-49d1-83b6-5c3ae507ffad",
   "metadata": {},
   "outputs": [],
   "source": [
    "import numpy as np\n",
    "dict={'a':12345}\n",
    "b=dict.keys()\n",
    "a=np.array([1,2,dict])"
   ]
  },
  {
   "cell_type": "code",
   "execution_count": 68,
   "id": "2e4624e4-fefa-4f4b-97f9-c49d3c74256a",
   "metadata": {},
   "outputs": [
    {
     "name": "stdout",
     "output_type": "stream",
     "text": [
      "<class 'numpy.ndarray'>\n"
     ]
    }
   ],
   "source": [
    "print(type(a))"
   ]
  },
  {
   "cell_type": "code",
   "execution_count": 69,
   "id": "ed37855a-fb23-422c-99a3-06711d9ae980",
   "metadata": {},
   "outputs": [
    {
     "name": "stdout",
     "output_type": "stream",
     "text": [
      "1\n",
      "2\n",
      "{'a': 12345}\n"
     ]
    }
   ],
   "source": [
    "for i in a:\n",
    "    print(i)"
   ]
  },
  {
   "cell_type": "code",
   "execution_count": null,
   "id": "dd62b3aa-896d-467e-92ae-b7b09e9c882f",
   "metadata": {},
   "outputs": [],
   "source": [
    "int - float- string\n",
    "\n",
    "\n"
   ]
  },
  {
   "cell_type": "code",
   "execution_count": 70,
   "id": "ce79fbc4-3d96-40d5-9739-f82a9dd3ded3",
   "metadata": {},
   "outputs": [],
   "source": [
    "arr=np.array(['pavan','kumar'])"
   ]
  },
  {
   "cell_type": "code",
   "execution_count": 72,
   "id": "777b8100-a10a-478c-b823-7d59455dc1ff",
   "metadata": {},
   "outputs": [
    {
     "name": "stdout",
     "output_type": "stream",
     "text": [
      "pavan\n",
      "kumar\n"
     ]
    }
   ],
   "source": [
    "for i in arr:\n",
    "    print(i)"
   ]
  },
  {
   "cell_type": "code",
   "execution_count": 5,
   "id": "21d1304b-45d5-46f7-a35b-45f737f9acdf",
   "metadata": {},
   "outputs": [],
   "source": [
    "import numpy as np\n",
    "# array=np.arange(start,end,stepsize)\n",
    "array=np.arange(1,10,4)"
   ]
  },
  {
   "cell_type": "code",
   "execution_count": 86,
   "id": "f4fea306-85bf-437c-b069-d6f292c5132c",
   "metadata": {},
   "outputs": [
    {
     "name": "stdout",
     "output_type": "stream",
     "text": [
      "1\n",
      "5\n",
      "9\n"
     ]
    }
   ],
   "source": [
    "for i in array:\n",
    "    print(i)"
   ]
  },
  {
   "cell_type": "code",
   "execution_count": 78,
   "id": "6b4b72f5-68fa-46a9-aae3-94e1702e1775",
   "metadata": {},
   "outputs": [
    {
     "name": "stdout",
     "output_type": "stream",
     "text": [
      "[1 2 3 4 5 6 7 8 9]\n"
     ]
    }
   ],
   "source": [
    "print(array)"
   ]
  },
  {
   "cell_type": "code",
   "execution_count": 90,
   "id": "85827036-ba3d-409f-a84f-a9d7dada9b4e",
   "metadata": {},
   "outputs": [
    {
     "name": "stdout",
     "output_type": "stream",
     "text": [
      "5.0\n"
     ]
    }
   ],
   "source": [
    "print(np.median(array))"
   ]
  },
  {
   "cell_type": "code",
   "execution_count": 91,
   "id": "3030f4b6-93aa-4a53-82fa-8c51cf0918a1",
   "metadata": {},
   "outputs": [],
   "source": [
    "a=np.arange(1,10)"
   ]
  },
  {
   "cell_type": "code",
   "execution_count": 93,
   "id": "cce9aa69-c7cc-46d8-90a7-4a98deaf3d91",
   "metadata": {},
   "outputs": [],
   "source": [
    "b=a"
   ]
  },
  {
   "cell_type": "code",
   "execution_count": 94,
   "id": "4b5f6c2a-6822-43a5-9fc8-73f68114c7d9",
   "metadata": {},
   "outputs": [
    {
     "data": {
      "text/plain": [
       "array([1, 2, 3, 4, 5, 6, 7, 8, 9])"
      ]
     },
     "execution_count": 94,
     "metadata": {},
     "output_type": "execute_result"
    }
   ],
   "source": [
    "b"
   ]
  },
  {
   "cell_type": "code",
   "execution_count": 95,
   "id": "f837d9e2-9760-4f33-8d10-7adbf75e9857",
   "metadata": {},
   "outputs": [],
   "source": [
    "b[0]=10"
   ]
  },
  {
   "cell_type": "code",
   "execution_count": 96,
   "id": "52576218-9de0-4a6e-bb8c-088218a4c610",
   "metadata": {},
   "outputs": [
    {
     "data": {
      "text/plain": [
       "array([10,  2,  3,  4,  5,  6,  7,  8,  9])"
      ]
     },
     "execution_count": 96,
     "metadata": {},
     "output_type": "execute_result"
    }
   ],
   "source": [
    "b"
   ]
  },
  {
   "cell_type": "code",
   "execution_count": 97,
   "id": "186a64fc-9428-4edc-96d4-1ace77e58336",
   "metadata": {},
   "outputs": [
    {
     "data": {
      "text/plain": [
       "array([10,  2,  3,  4,  5,  6,  7,  8,  9])"
      ]
     },
     "execution_count": 97,
     "metadata": {},
     "output_type": "execute_result"
    }
   ],
   "source": [
    "a"
   ]
  },
  {
   "cell_type": "code",
   "execution_count": 98,
   "id": "196b62d0-b6bd-447d-87c9-191d6ce7e68f",
   "metadata": {},
   "outputs": [],
   "source": [
    "l=[1,2,3,4]"
   ]
  },
  {
   "cell_type": "code",
   "execution_count": 99,
   "id": "becd5d72-0f4a-4ce7-8bc8-5c3b9b60ffb8",
   "metadata": {},
   "outputs": [],
   "source": [
    "m=l"
   ]
  },
  {
   "cell_type": "code",
   "execution_count": 100,
   "id": "2ae52763-f147-42ff-a348-2d65b493591d",
   "metadata": {},
   "outputs": [
    {
     "data": {
      "text/plain": [
       "[1, 2, 3, 4]"
      ]
     },
     "execution_count": 100,
     "metadata": {},
     "output_type": "execute_result"
    }
   ],
   "source": [
    "m"
   ]
  },
  {
   "cell_type": "code",
   "execution_count": 101,
   "id": "a254b60c-ec6b-4b5f-847e-3ad69dc6d286",
   "metadata": {},
   "outputs": [],
   "source": [
    "m[0]=10"
   ]
  },
  {
   "cell_type": "code",
   "execution_count": 102,
   "id": "53be10a6-5229-4bf1-b737-116c44273967",
   "metadata": {},
   "outputs": [
    {
     "data": {
      "text/plain": [
       "[10, 2, 3, 4]"
      ]
     },
     "execution_count": 102,
     "metadata": {},
     "output_type": "execute_result"
    }
   ],
   "source": [
    "m"
   ]
  },
  {
   "cell_type": "code",
   "execution_count": 103,
   "id": "bc5795c1-4da8-4fd2-bda4-e6e65e73e38f",
   "metadata": {},
   "outputs": [
    {
     "data": {
      "text/plain": [
       "[10, 2, 3, 4]"
      ]
     },
     "execution_count": 103,
     "metadata": {},
     "output_type": "execute_result"
    }
   ],
   "source": [
    "l"
   ]
  },
  {
   "cell_type": "code",
   "execution_count": 7,
   "id": "0a13cb99-44e6-43d8-bd20-0447a2bf8e37",
   "metadata": {},
   "outputs": [],
   "source": [
    "a=np.arange(1,10)"
   ]
  },
  {
   "cell_type": "code",
   "execution_count": 9,
   "id": "d2c88932-4459-4760-abea-e0b63e364dc9",
   "metadata": {},
   "outputs": [],
   "source": [
    "b=a.view()"
   ]
  },
  {
   "cell_type": "code",
   "execution_count": 11,
   "id": "c2b20774-088e-4349-892b-7ed7c4f0bcb2",
   "metadata": {},
   "outputs": [
    {
     "data": {
      "text/plain": [
       "array([1, 2, 3, 4, 5, 6, 7, 8, 9])"
      ]
     },
     "execution_count": 11,
     "metadata": {},
     "output_type": "execute_result"
    }
   ],
   "source": [
    "b"
   ]
  },
  {
   "cell_type": "code",
   "execution_count": 13,
   "id": "1a32a8e7-37ef-4cde-98b4-4bcb0703f0be",
   "metadata": {},
   "outputs": [],
   "source": [
    "b[0]=11"
   ]
  },
  {
   "cell_type": "code",
   "execution_count": 17,
   "id": "6c6b6764-434b-4ad6-b2bd-f38ef49b2696",
   "metadata": {},
   "outputs": [
    {
     "data": {
      "text/plain": [
       "array([11,  2,  3,  4,  5,  6,  7,  8,  9])"
      ]
     },
     "execution_count": 17,
     "metadata": {},
     "output_type": "execute_result"
    }
   ],
   "source": [
    "b"
   ]
  },
  {
   "cell_type": "code",
   "execution_count": 19,
   "id": "b229d623-016e-492a-88cf-cba8ce39bc71",
   "metadata": {},
   "outputs": [
    {
     "data": {
      "text/plain": [
       "array([11,  2,  3,  4,  5,  6,  7,  8,  9])"
      ]
     },
     "execution_count": 19,
     "metadata": {},
     "output_type": "execute_result"
    }
   ],
   "source": [
    "a"
   ]
  },
  {
   "cell_type": "code",
   "execution_count": 21,
   "id": "214dc0ad-a095-4f3a-a341-ab07f213daa6",
   "metadata": {},
   "outputs": [],
   "source": [
    "a=np.arange(1,10)"
   ]
  },
  {
   "cell_type": "code",
   "execution_count": 23,
   "id": "11db9677-3b8c-4d0b-b3b2-109452c44299",
   "metadata": {},
   "outputs": [],
   "source": [
    "b=a.copy()"
   ]
  },
  {
   "cell_type": "code",
   "execution_count": 25,
   "id": "b9658921-4238-4791-ae72-f110326c7156",
   "metadata": {},
   "outputs": [
    {
     "data": {
      "text/plain": [
       "array([1, 2, 3, 4, 5, 6, 7, 8, 9])"
      ]
     },
     "execution_count": 25,
     "metadata": {},
     "output_type": "execute_result"
    }
   ],
   "source": [
    "b"
   ]
  },
  {
   "cell_type": "code",
   "execution_count": 27,
   "id": "7fcb4c03-7419-4f41-8cb1-1b82aca848c9",
   "metadata": {},
   "outputs": [
    {
     "data": {
      "text/plain": [
       "array([1, 2, 3, 4, 5, 6, 7, 8, 9])"
      ]
     },
     "execution_count": 27,
     "metadata": {},
     "output_type": "execute_result"
    }
   ],
   "source": [
    "a"
   ]
  },
  {
   "cell_type": "code",
   "execution_count": 29,
   "id": "2468e53e-1e0a-47c5-ac4f-b314cdd7840b",
   "metadata": {},
   "outputs": [],
   "source": [
    "b[0]=12"
   ]
  },
  {
   "cell_type": "code",
   "execution_count": 31,
   "id": "0772610f-f2aa-48af-9856-27510ec76bd0",
   "metadata": {},
   "outputs": [
    {
     "data": {
      "text/plain": [
       "array([12,  2,  3,  4,  5,  6,  7,  8,  9])"
      ]
     },
     "execution_count": 31,
     "metadata": {},
     "output_type": "execute_result"
    }
   ],
   "source": [
    "b"
   ]
  },
  {
   "cell_type": "code",
   "execution_count": 33,
   "id": "8a7ed5e8-9aec-426e-aa2f-96be952ebb26",
   "metadata": {},
   "outputs": [
    {
     "data": {
      "text/plain": [
       "array([1, 2, 3, 4, 5, 6, 7, 8, 9])"
      ]
     },
     "execution_count": 33,
     "metadata": {},
     "output_type": "execute_result"
    }
   ],
   "source": [
    "a"
   ]
  },
  {
   "cell_type": "code",
   "execution_count": 35,
   "id": "1b76c9ab-17ae-4359-ac7d-66a940c85c03",
   "metadata": {},
   "outputs": [
    {
     "name": "stdin",
     "output_type": "stream",
     "text": [
      " 4\n",
      " hi\n",
      " 2.3\n",
      " ji\n",
      " 3.4\n",
      " ki\n",
      " 4\n",
      " kii\n",
      " 4.42\n"
     ]
    },
    {
     "name": "stdout",
     "output_type": "stream",
     "text": [
      "ji\n"
     ]
    }
   ],
   "source": [
    "n=int(input())\n",
    "students=[]\n",
    "dict={}\n",
    "scores=[]\n",
    "for i in range(n):\n",
    "    name=input()\n",
    "    score=float(input())\n",
    "    scores.append(score)\n",
    "    dict[name]=score\n",
    "scores=sorted(set(scores))\n",
    "for i in dict.keys():\n",
    "    if dict[i]==scores[1]:\n",
    "        students.append(i)\n",
    "students=sorted(students)\n",
    "for i in students:\n",
    "    print(i)"
   ]
  },
  {
   "cell_type": "code",
   "execution_count": 12,
   "id": "85e772c1-ce2b-401e-8930-8d24907089ab",
   "metadata": {},
   "outputs": [
    {
     "name": "stdin",
     "output_type": "stream",
     "text": [
      " 3\n",
      " a\n",
      " 12\n",
      " b\n",
      " 14\n",
      " c\n",
      " 21\n"
     ]
    },
    {
     "name": "stdout",
     "output_type": "stream",
     "text": [
      "['b']\n"
     ]
    }
   ],
   "source": [
    "n=int(input())\n",
    "students=[]\n",
    "scores=[]\n",
    "m=[]\n",
    "for i in range(n):\n",
    "    name=input()\n",
    "    score=float(input())\n",
    "    scores.append(score)\n",
    "    students.append([name,score])\n",
    "scores=sorted(set(scores))\n",
    "for i in students:\n",
    "    if i[1]==scores[1]:\n",
    "        m.append(i[0])\n",
    "m=sorted(m)\n",
    "for i in m:\n",
    "    print(i)"
   ]
  },
  {
   "cell_type": "code",
   "execution_count": 25,
   "id": "608ff655-73bc-494d-ba59-6da623ce3c4e",
   "metadata": {},
   "outputs": [],
   "source": [
    "from array import *\n",
    "import numpy as np\n"
   ]
  },
  {
   "cell_type": "code",
   "execution_count": 42,
   "id": "8a09f0b6-4529-4706-8072-9b9f72ab1dac",
   "metadata": {},
   "outputs": [
    {
     "name": "stdout",
     "output_type": "stream",
     "text": [
      "int64\n"
     ]
    }
   ],
   "source": [
    "arr=np.array([1,2,3,4])\n",
    "print(arr.dtype)"
   ]
  },
  {
   "cell_type": "code",
   "execution_count": 51,
   "id": "4750b7d5-92ad-4e89-a009-5836f63ef4a3",
   "metadata": {},
   "outputs": [],
   "source": [
    "arr1=np.array([[1,23,4,5],[3,4,5,5],[3,4,5,6]])"
   ]
  },
  {
   "cell_type": "code",
   "execution_count": 50,
   "id": "73d6303a-7bcd-4648-bdbb-92267243e239",
   "metadata": {},
   "outputs": [
    {
     "name": "stdout",
     "output_type": "stream",
     "text": [
      "[1, 3, 3, 4, 4, 4, 5, 5, 5, 5, 6, 23]\n"
     ]
    }
   ],
   "source": [
    "print(sorted(arr1.flatten()))"
   ]
  },
  {
   "cell_type": "code",
   "execution_count": 46,
   "id": "98a77a86-993c-43b9-b200-7b6eb0345430",
   "metadata": {},
   "outputs": [],
   "source": [
    "arr=np.array([1,2,3,4,5,6])"
   ]
  },
  {
   "cell_type": "code",
   "execution_count": 47,
   "id": "0a50bcec-268c-46b6-a702-74a06486c9b8",
   "metadata": {},
   "outputs": [
    {
     "data": {
      "text/plain": [
       "array([[1, 2, 3],\n",
       "       [4, 5, 6]])"
      ]
     },
     "execution_count": 47,
     "metadata": {},
     "output_type": "execute_result"
    }
   ],
   "source": [
    "arr.reshape(2,3)"
   ]
  },
  {
   "cell_type": "code",
   "execution_count": 52,
   "id": "d256fbd5-d06f-4bb5-b446-960eb6962f29",
   "metadata": {},
   "outputs": [
    {
     "data": {
      "text/plain": [
       "23"
      ]
     },
     "execution_count": 52,
     "metadata": {},
     "output_type": "execute_result"
    }
   ],
   "source": [
    "arr1[0][1]"
   ]
  },
  {
   "cell_type": "code",
   "execution_count": 7,
   "id": "4ac0f07f-7382-4f68-893d-9012113adc1c",
   "metadata": {},
   "outputs": [],
   "source": [
    "import numpy as np\n",
    "a=np.matrix('1 2 3; 4 5 6; 7 8 9')"
   ]
  },
  {
   "cell_type": "code",
   "execution_count": 3,
   "id": "38dfddbf-76b5-4c85-8071-f0029b70bd1f",
   "metadata": {},
   "outputs": [
    {
     "name": "stdout",
     "output_type": "stream",
     "text": [
      "[[1 2 3]\n",
      " [4 5 6]\n",
      " [7 8 9]]\n"
     ]
    }
   ],
   "source": [
    "print(a)"
   ]
  },
  {
   "cell_type": "code",
   "execution_count": 4,
   "id": "27f86a03-6935-471a-9d58-acde4cc473d4",
   "metadata": {},
   "outputs": [
    {
     "name": "stdout",
     "output_type": "stream",
     "text": [
      "[1 5 9]\n"
     ]
    }
   ],
   "source": [
    "print(np.diagonal(a))"
   ]
  },
  {
   "cell_type": "code",
   "execution_count": 5,
   "id": "b4fbd89a-4e16-480a-a7b6-fa1fd12ff846",
   "metadata": {},
   "outputs": [],
   "source": [
    "a=np.max(a)"
   ]
  },
  {
   "cell_type": "code",
   "execution_count": 6,
   "id": "bb3527a1-02e9-4f2e-94b5-a87a5523856c",
   "metadata": {},
   "outputs": [
    {
     "data": {
      "text/plain": [
       "9"
      ]
     },
     "execution_count": 6,
     "metadata": {},
     "output_type": "execute_result"
    }
   ],
   "source": [
    "a"
   ]
  },
  {
   "cell_type": "code",
   "execution_count": 8,
   "id": "3fbec7fe-a041-4f61-8be0-c06ab6dbd98b",
   "metadata": {},
   "outputs": [
    {
     "name": "stdout",
     "output_type": "stream",
     "text": [
      "[[1 2 3]\n",
      " [4 5 6]\n",
      " [7 8 9]]\n"
     ]
    }
   ],
   "source": [
    "print(a)"
   ]
  },
  {
   "cell_type": "code",
   "execution_count": 9,
   "id": "7f05af61-43ab-48d6-883c-a7e47404bac9",
   "metadata": {},
   "outputs": [
    {
     "name": "stdout",
     "output_type": "stream",
     "text": [
      "[[1 4 7]\n",
      " [2 5 8]\n",
      " [3 6 9]]\n"
     ]
    }
   ],
   "source": [
    "print(a.transpose())"
   ]
  },
  {
   "cell_type": "code",
   "execution_count": 13,
   "id": "6e1cf3ce-9971-4cc0-9e9d-0c92294c01bb",
   "metadata": {},
   "outputs": [],
   "source": [
    "a=np.matrix('1 2 3; 4 5 6; 7 8 9')\n",
    "b=np.matrix('1 2 3; 4 5 6; 7 8 9')"
   ]
  },
  {
   "cell_type": "code",
   "execution_count": 14,
   "id": "a140625e-8b5a-437f-b4d0-605fa90f20e6",
   "metadata": {},
   "outputs": [
    {
     "name": "stdout",
     "output_type": "stream",
     "text": [
      "[[ 30  36  42]\n",
      " [ 66  81  96]\n",
      " [102 126 150]]\n"
     ]
    }
   ],
   "source": [
    "print(a*b)"
   ]
  },
  {
   "cell_type": "code",
   "execution_count": 1,
   "id": "4b33d88e-6890-48f4-b813-48143b9b8b35",
   "metadata": {},
   "outputs": [
    {
     "name": "stdout",
     "output_type": "stream",
     "text": [
      "['H', 'e', 'l', 'l', 'o', ' ', 'W', 'o', 'r', 'l', 'd']\n"
     ]
    }
   ],
   "source": [
    "String=\"Hello World\"\n",
    "l=list(String)\n",
    "print(l)"
   ]
  },
  {
   "cell_type": "code",
   "execution_count": 3,
   "id": "ce2823bd-c933-4296-9721-a84dde3f55a0",
   "metadata": {},
   "outputs": [
    {
     "name": "stdout",
     "output_type": "stream",
     "text": [
      "Hello\n",
      "World\n"
     ]
    }
   ],
   "source": [
    "for i in String.split(' '):\n",
    "    print(i)"
   ]
  },
  {
   "cell_type": "code",
   "execution_count": 5,
   "id": "dfba9507-e337-4f72-b4dc-11fec3345ebc",
   "metadata": {},
   "outputs": [
    {
     "name": "stdout",
     "output_type": "stream",
     "text": [
      "Hel\n"
     ]
    }
   ],
   "source": [
    "print(String[0:3])"
   ]
  },
  {
   "cell_type": "code",
   "execution_count": 6,
   "id": "396478e2-a8ca-4f2e-9392-672432d9ccda",
   "metadata": {},
   "outputs": [
    {
     "name": "stdout",
     "output_type": "stream",
     "text": [
      "Hello WorldHello World\n"
     ]
    }
   ],
   "source": [
    "print(String*2)"
   ]
  },
  {
   "cell_type": "code",
   "execution_count": 9,
   "id": "18790088-502b-42c1-8d7a-7a06826e504b",
   "metadata": {},
   "outputs": [
    {
     "name": "stdout",
     "output_type": "stream",
     "text": [
      "pavan kumar\n"
     ]
    }
   ],
   "source": [
    "a=\"pavan\"\n",
    "b=\"kumar\"\n",
    "print(a+\" \"+b)"
   ]
  },
  {
   "cell_type": "code",
   "execution_count": 8,
   "id": "3a46763e-5c82-43d4-9ef4-53f379ff6a3b",
   "metadata": {},
   "outputs": [
    {
     "name": "stdout",
     "output_type": "stream",
     "text": [
      "True\n"
     ]
    }
   ],
   "source": [
    "String=\"Hello World\"\n",
    "if 'Hello' in String:\n",
    "    print('True')\n",
    "else:\n",
    "    print('false')"
   ]
  },
  {
   "cell_type": "code",
   "execution_count": 6,
   "id": "570680d8-ee3e-490b-b62b-9645a18c4f7f",
   "metadata": {},
   "outputs": [
    {
     "name": "stdout",
     "output_type": "stream",
     "text": [
      "true\n"
     ]
    }
   ],
   "source": [
    "l=[1,2,4,5]\n",
    "if 1 in l:\n",
    "    print('true')"
   ]
  },
  {
   "cell_type": "code",
   "execution_count": 2,
   "id": "287d5dc3-1879-4e4c-8880-d60dfbebdeeb",
   "metadata": {},
   "outputs": [
    {
     "name": "stdout",
     "output_type": "stream",
     "text": [
      "True\n"
     ]
    }
   ],
   "source": [
    "a='pavan'\n",
    "b='pavan1'\n",
    "if a<b:\n",
    "    print('True')\n",
    "else:\n",
    "    print('false')"
   ]
  },
  {
   "cell_type": "code",
   "execution_count": 22,
   "id": "841d340d-f61e-4abd-80b3-725f15757d75",
   "metadata": {},
   "outputs": [
    {
     "name": "stdout",
     "output_type": "stream",
     "text": [
      "['ant', 'apple', 'banana']\n"
     ]
    }
   ],
   "source": [
    "list=['apple','banana','ant']\n",
    "list=sorted(list)\n",
    "print(list)"
   ]
  },
  {
   "cell_type": "code",
   "execution_count": 28,
   "id": "ecff2321-98e5-478d-8304-d9f09d7fe200",
   "metadata": {},
   "outputs": [
    {
     "name": "stdout",
     "output_type": "stream",
     "text": [
      "Hello World\n"
     ]
    }
   ],
   "source": [
    "string=\"      Hello World \"\n",
    "print(string.strip())"
   ]
  },
  {
   "cell_type": "code",
   "execution_count": 37,
   "id": "42d7b2f8-2ffb-4c6a-8b8e-8cac66f0ecaf",
   "metadata": {},
   "outputs": [],
   "source": [
    "a='this is a book book'\n",
    "b='book'\n",
    "n=a.find(b,0,len(a))"
   ]
  },
  {
   "cell_type": "code",
   "execution_count": 38,
   "id": "63a78fbc-9fb0-4e58-a372-e4898e15fc5d",
   "metadata": {},
   "outputs": [
    {
     "name": "stdout",
     "output_type": "stream",
     "text": [
      "10\n"
     ]
    }
   ],
   "source": [
    "print(n)"
   ]
  },
  {
   "cell_type": "code",
   "execution_count": 46,
   "id": "295ceb8b-d44d-4bfd-a3f0-94945a8b7002",
   "metadata": {},
   "outputs": [],
   "source": [
    "a='cdccdc'\n",
    "b='cdc'\n",
    "n=a.count(b,0,len(a))"
   ]
  },
  {
   "cell_type": "code",
   "execution_count": 36,
   "id": "a6e2a473-e9fe-45fc-8a92-67fdb7c3d6fc",
   "metadata": {},
   "outputs": [
    {
     "name": "stdout",
     "output_type": "stream",
     "text": [
      "0\n"
     ]
    }
   ],
   "source": [
    "print(n)"
   ]
  },
  {
   "cell_type": "code",
   "execution_count": 39,
   "id": "dab28354-ecdd-400b-9e3b-46d51edb6f8b",
   "metadata": {},
   "outputs": [
    {
     "name": "stdout",
     "output_type": "stream",
     "text": [
      "10\n",
      "15\n"
     ]
    }
   ],
   "source": [
    "a='this is a book book'\n",
    "b='book'\n",
    "i=0\n",
    "n=len(a)\n",
    "while i<n:\n",
    "    pos=a.find(b,i,n)\n",
    "    if pos!=-1:\n",
    "        print(pos)\n",
    "        i=pos+1\n",
    "    else:\n",
    "        i=i+1\n"
   ]
  },
  {
   "cell_type": "code",
   "execution_count": 40,
   "id": "f0b41fe8-f8f9-4a51-89e1-819775e47a82",
   "metadata": {},
   "outputs": [],
   "source": [
    "a='this is a book book'\n",
    "b='book'\n",
    "n=a.count(b,0,len(a))"
   ]
  },
  {
   "cell_type": "code",
   "execution_count": 47,
   "id": "fcb9e3de-86ea-4c8f-8885-e12c56158430",
   "metadata": {},
   "outputs": [
    {
     "name": "stdout",
     "output_type": "stream",
     "text": [
      "2\n"
     ]
    }
   ],
   "source": [
    "print(n)"
   ]
  },
  {
   "cell_type": "code",
   "execution_count": 50,
   "id": "4c033c88-c120-4327-a27f-964a539b0f0c",
   "metadata": {},
   "outputs": [
    {
     "name": "stdout",
     "output_type": "stream",
     "text": [
      "this is a pen pen\n"
     ]
    }
   ],
   "source": [
    "a='this is a book book'\n",
    "b='pen'\n",
    "c=a.replace('book',b)\n",
    "print(c)"
   ]
  },
  {
   "cell_type": "code",
   "execution_count": 51,
   "id": "65d53957-b774-42aa-a2a7-70eeca2baebf",
   "metadata": {},
   "outputs": [
    {
     "name": "stdout",
     "output_type": "stream",
     "text": [
      "THIS IS A BOOK BOOK\n"
     ]
    }
   ],
   "source": [
    "print(a.upper())"
   ]
  },
  {
   "cell_type": "code",
   "execution_count": 64,
   "id": "3d804c84-46d1-4761-9518-963c0d164416",
   "metadata": {},
   "outputs": [
    {
     "name": "stdout",
     "output_type": "stream",
     "text": [
      "True\n"
     ]
    }
   ],
   "source": [
    "a=\"Pavan\"\n",
    "print(a.istitle())"
   ]
  },
  {
   "cell_type": "code",
   "execution_count": 66,
   "id": "c06ba8a6-25ff-4238-8014-81fefa6cac01",
   "metadata": {},
   "outputs": [
    {
     "name": "stdout",
     "output_type": "stream",
     "text": [
      "100000 is my salary\n"
     ]
    }
   ],
   "source": [
    "a=100000\n",
    "print(f'{a} is my salary')"
   ]
  },
  {
   "cell_type": "code",
   "execution_count": 69,
   "id": "b9aa3abf-935d-44a7-8b35-085819118e09",
   "metadata": {},
   "outputs": [
    {
     "data": {
      "text/plain": [
       "str"
      ]
     },
     "execution_count": 69,
     "metadata": {},
     "output_type": "execute_result"
    }
   ],
   "source": [
    "a=\"pavan\"\n",
    "type((a[0]))"
   ]
  },
  {
   "cell_type": "code",
   "execution_count": null,
   "id": "b3da9b03-a983-431a-9424-933376723ae6",
   "metadata": {},
   "outputs": [],
   "source": []
  }
 ],
 "metadata": {
  "kernelspec": {
   "display_name": "Python [conda env:base] *",
   "language": "python",
   "name": "conda-base-py"
  },
  "language_info": {
   "codemirror_mode": {
    "name": "ipython",
    "version": 3
   },
   "file_extension": ".py",
   "mimetype": "text/x-python",
   "name": "python",
   "nbconvert_exporter": "python",
   "pygments_lexer": "ipython3",
   "version": "3.12.7"
  }
 },
 "nbformat": 4,
 "nbformat_minor": 5
}
