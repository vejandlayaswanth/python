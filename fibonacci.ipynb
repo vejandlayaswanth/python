{
 "cells": [
  {
   "cell_type": "code",
   "execution_count": 10,
   "id": "7c35db77-a232-4008-a1ed-fe7f48e35183",
   "metadata": {},
   "outputs": [
    {
     "name": "stdin",
     "output_type": "stream",
     "text": [
      "enter the first number of series : 0\n",
      "enter the second number of series : 2\n",
      "enter the range of series : 10\n"
     ]
    },
    {
     "name": "stdout",
     "output_type": "stream",
     "text": [
      "0\n",
      "2\n",
      "2\n",
      "4\n",
      "6\n",
      "10\n",
      "16\n",
      "26\n",
      "42\n",
      "68\n",
      "110\n"
     ]
    }
   ],
   "source": [
    "a= int(input('enter the first number of series :'))\n",
    "b= int(input('enter the second number of series :'))\n",
    "n= int(input('enter the range of series :'))\n",
    "print(a)\n",
    "print(b)\n",
    "for i in range(n-1):\n",
    "    c=a+b\n",
    "    print(c)\n",
    "    a=b\n",
    "    b=c\n",
    "\n",
    "\n",
    "\n"
   ]
  },
  {
   "cell_type": "code",
   "execution_count": 40,
   "id": "9cface46-277b-4979-b625-143d6713bd89",
   "metadata": {},
   "outputs": [
    {
     "name": "stdin",
     "output_type": "stream",
     "text": [
      "enter the first number of series : 0\n",
      "enter the second number of series : 2\n",
      "enter the range of series : 10\n"
     ]
    },
    {
     "name": "stdout",
     "output_type": "stream",
     "text": [
      "0\n",
      "2\n",
      "4\n",
      "8\n",
      "16\n",
      "32\n",
      "64\n",
      "128\n",
      "256\n",
      "512\n"
     ]
    }
   ],
   "source": [
    "a= int(input('enter the first number of series :'))\n",
    "b= int(input('enter the second number of series :'))\n",
    "n= int(input('enter the range of series :'))\n",
    "print(a)\n",
    "i = 0;\n",
    "while i < n-1:\n",
    "    print(b)\n",
    "    a=b\n",
    "    b=a+b\n",
    "    i=i+1\n",
    "\n",
    "\n"
   ]
  },
  {
   "cell_type": "code",
   "execution_count": null,
   "id": "1c0ade5f-aabb-4c3d-b0bb-79103935854a",
   "metadata": {},
   "outputs": [],
   "source": []
  }
 ],
 "metadata": {
  "kernelspec": {
   "display_name": "Python [conda env:base] *",
   "language": "python",
   "name": "conda-base-py"
  },
  "language_info": {
   "codemirror_mode": {
    "name": "ipython",
    "version": 3
   },
   "file_extension": ".py",
   "mimetype": "text/x-python",
   "name": "python",
   "nbconvert_exporter": "python",
   "pygments_lexer": "ipython3",
   "version": "3.12.7"
  }
 },
 "nbformat": 4,
 "nbformat_minor": 5
}
