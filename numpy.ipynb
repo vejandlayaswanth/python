{
 "cells": [
  {
   "cell_type": "code",
   "execution_count": 2,
   "id": "84acb87b-98bf-4d27-a62c-13f2a2ac311f",
   "metadata": {},
   "outputs": [
    {
     "name": "stdout",
     "output_type": "stream",
     "text": [
      "Requirement already satisfied: numpy in /opt/anaconda3/lib/python3.12/site-packages (1.26.4)\n"
     ]
    }
   ],
   "source": [
    "!pip install numpy"
   ]
  },
  {
   "cell_type": "code",
   "execution_count": 3,
   "id": "e9fe9d63-ad91-433f-99a8-e1365ee8e4e4",
   "metadata": {},
   "outputs": [],
   "source": [
    "import numpy as np"
   ]
  },
  {
   "cell_type": "code",
   "execution_count": 4,
   "id": "4ed20b99-f717-4654-9fbd-fa44e32c1e43",
   "metadata": {},
   "outputs": [
    {
     "data": {
      "text/plain": [
       "'1.26.4'"
      ]
     },
     "execution_count": 4,
     "metadata": {},
     "output_type": "execute_result"
    }
   ],
   "source": [
    " np.__version__"
   ]
  },
  {
   "cell_type": "code",
   "execution_count": 8,
   "id": "70ed1992-ea28-4d2a-9f12-73c5514de9ff",
   "metadata": {},
   "outputs": [],
   "source": [
    "list = [1,2,3,4]"
   ]
  },
  {
   "cell_type": "code",
   "execution_count": 10,
   "id": "e55fb80b-21ae-4e71-99c2-e32225427d12",
   "metadata": {},
   "outputs": [
    {
     "data": {
      "text/plain": [
       "list"
      ]
     },
     "execution_count": 10,
     "metadata": {},
     "output_type": "execute_result"
    }
   ],
   "source": [
    "type(list)"
   ]
  },
  {
   "cell_type": "code",
   "execution_count": 12,
   "id": "f6e4b65a-488d-44e5-8c3e-daef11ec42af",
   "metadata": {
    "scrolled": true
   },
   "outputs": [
    {
     "data": {
      "text/plain": [
       "[1, 2, 3, 4]"
      ]
     },
     "execution_count": 12,
     "metadata": {},
     "output_type": "execute_result"
    }
   ],
   "source": [
    "list"
   ]
  },
  {
   "cell_type": "markdown",
   "id": "bd7bd695-dd2d-4bbe-80b7-f6e918689730",
   "metadata": {},
   "source": [
    "CREATING ARRAYS USING NUMPY"
   ]
  },
  {
   "cell_type": "code",
   "execution_count": 15,
   "id": "96fa8d86-1f61-4a5e-9a09-ffc3fde7e6b6",
   "metadata": {},
   "outputs": [],
   "source": [
    "n = np.array(list)"
   ]
  },
  {
   "cell_type": "code",
   "execution_count": 17,
   "id": "f505cbd5-763e-4861-aa40-82a1196ea6b4",
   "metadata": {},
   "outputs": [
    {
     "data": {
      "text/plain": [
       "array([1, 2, 3, 4])"
      ]
     },
     "execution_count": 17,
     "metadata": {},
     "output_type": "execute_result"
    }
   ],
   "source": [
    "n"
   ]
  },
  {
   "cell_type": "code",
   "execution_count": 19,
   "id": "205e7846-64c7-4720-8c00-8a5688a5c90d",
   "metadata": {},
   "outputs": [
    {
     "data": {
      "text/plain": [
       "numpy.ndarray"
      ]
     },
     "execution_count": 19,
     "metadata": {},
     "output_type": "execute_result"
    }
   ],
   "source": [
    "type(n)"
   ]
  },
  {
   "cell_type": "code",
   "execution_count": 21,
   "id": "47e3e1e7-5a36-4f02-a8e3-571f738e29ce",
   "metadata": {},
   "outputs": [
    {
     "data": {
      "text/plain": [
       "array([0, 1, 2, 3, 4])"
      ]
     },
     "execution_count": 21,
     "metadata": {},
     "output_type": "execute_result"
    }
   ],
   "source": [
    "np.arange(5)"
   ]
  },
  {
   "cell_type": "code",
   "execution_count": 23,
   "id": "0ee16c69-9af4-4c79-8ff9-4f0dabde6630",
   "metadata": {},
   "outputs": [
    {
     "data": {
      "text/plain": [
       "array([0., 1., 2., 3., 4., 5.])"
      ]
     },
     "execution_count": 23,
     "metadata": {},
     "output_type": "execute_result"
    }
   ],
   "source": [
    "np.arange(6.0)"
   ]
  },
  {
   "cell_type": "markdown",
   "id": "8b884847-e7a8-4175-b05f-2c7e2542709e",
   "metadata": {},
   "source": [
    "In the step function the second argument is need to be greater than the first arg"
   ]
  },
  {
   "cell_type": "code",
   "execution_count": 26,
   "id": "0af18445-9679-4aa3-b4c1-0dcce7a9233b",
   "metadata": {},
   "outputs": [
    {
     "data": {
      "text/plain": [
       "array([26. , 28.6, 31.2, 33.8, 36.4, 39. , 41.6, 44.2, 46.8, 49.4, 52. ,\n",
       "       54.6, 57.2, 59.8])"
      ]
     },
     "execution_count": 26,
     "metadata": {},
     "output_type": "execute_result"
    }
   ],
   "source": [
    "np.arange(26,60,2.6)"
   ]
  },
  {
   "cell_type": "markdown",
   "id": "a05aa2a2-7e3a-4719-a82c-d256c9444805",
   "metadata": {},
   "source": [
    "np.arange()\n",
    "np.zeros()\n",
    "np.ones()"
   ]
  },
  {
   "cell_type": "code",
   "execution_count": 29,
   "id": "a9c6356b-dace-4f98-8b4a-0ab152d475e2",
   "metadata": {},
   "outputs": [
    {
     "data": {
      "text/plain": [
       "array([10, 10])"
      ]
     },
     "execution_count": 29,
     "metadata": {},
     "output_type": "execute_result"
    }
   ],
   "source": [
    "np.array((10,10))"
   ]
  },
  {
   "cell_type": "code",
   "execution_count": 33,
   "id": "a193f37f-0d04-418d-b24b-0777bd223a5a",
   "metadata": {},
   "outputs": [],
   "source": [
    "k=np.arange(6)"
   ]
  },
  {
   "cell_type": "code",
   "execution_count": 35,
   "id": "d6dcf014-c04b-4890-aa29-fdb8daf8ce83",
   "metadata": {},
   "outputs": [
    {
     "data": {
      "text/plain": [
       "array([0, 1, 2, 3, 4, 5])"
      ]
     },
     "execution_count": 35,
     "metadata": {},
     "output_type": "execute_result"
    }
   ],
   "source": [
    "k"
   ]
  },
  {
   "cell_type": "code",
   "execution_count": 37,
   "id": "37368e2f-4386-43fc-9793-7792bbc8e1c6",
   "metadata": {},
   "outputs": [
    {
     "data": {
      "text/plain": [
       "array([1, 2, 3, 4])"
      ]
     },
     "execution_count": 37,
     "metadata": {},
     "output_type": "execute_result"
    }
   ],
   "source": [
    "n"
   ]
  },
  {
   "cell_type": "code",
   "execution_count": null,
   "id": "18fac4ff-d8fe-4f6c-acbd-f457d5e9291c",
   "metadata": {},
   "outputs": [],
   "source": [
    "USING RANDINT AND RAND IN NUMPY\n",
    "NEED USE RANDOM BEFORE USING RAND AND RANDOMINT"
   ]
  },
  {
   "cell_type": "code",
   "execution_count": 59,
   "id": "f35cd1e4-51ba-4613-9ac0-fd86ef47c7b9",
   "metadata": {},
   "outputs": [],
   "source": [
    "l=np.random.rand(6,6)"
   ]
  },
  {
   "cell_type": "code",
   "execution_count": 61,
   "id": "5694d5aa-9684-44a1-88bb-8f2acb6deb56",
   "metadata": {},
   "outputs": [
    {
     "data": {
      "text/plain": [
       "array([[0.80510313, 0.02700567, 0.25797794, 0.68781354, 0.40875803,\n",
       "        0.15885566],\n",
       "       [0.37924593, 0.08121331, 0.37396172, 0.62116655, 0.52074595,\n",
       "        0.18659427],\n",
       "       [0.2142683 , 0.80839476, 0.33649963, 0.47668611, 0.87825265,\n",
       "        0.65676149],\n",
       "       [0.24335486, 0.46111411, 0.85735623, 0.09762828, 0.15490226,\n",
       "        0.99686798],\n",
       "       [0.88506053, 0.70427467, 0.6455347 , 0.25076741, 0.81799647,\n",
       "        0.52883987],\n",
       "       [0.99810222, 0.79350574, 0.60125869, 0.67658178, 0.61815128,\n",
       "        0.54175091]])"
      ]
     },
     "execution_count": 61,
     "metadata": {},
     "output_type": "execute_result"
    }
   ],
   "source": [
    "l"
   ]
  },
  {
   "cell_type": "code",
   "execution_count": 63,
   "id": "61c2e8e1-edc4-4452-8643-959fdea16621",
   "metadata": {},
   "outputs": [],
   "source": [
    "s=np.random.randint(6,26,(6,6))"
   ]
  },
  {
   "cell_type": "code",
   "execution_count": 66,
   "id": "5aa5e27f-c876-412e-bf81-33f4bc190401",
   "metadata": {},
   "outputs": [
    {
     "data": {
      "text/plain": [
       "array([[12, 16, 23, 15, 10, 12],\n",
       "       [20, 13, 20, 22, 10, 23],\n",
       "       [16, 22, 19, 14, 25, 19],\n",
       "       [13, 16, 23, 16,  6, 25],\n",
       "       [12, 13, 14,  9, 16, 12],\n",
       "       [22, 24, 22, 19, 12, 15]])"
      ]
     },
     "execution_count": 66,
     "metadata": {},
     "output_type": "execute_result"
    }
   ],
   "source": [
    "s"
   ]
  },
  {
   "cell_type": "markdown",
   "id": "4527f7c1-04cb-425b-8b15-0a2d5642d1da",
   "metadata": {},
   "source": [
    "SLICING OPERATION IN NUMPYS"
   ]
  },
  {
   "cell_type": "code",
   "execution_count": 71,
   "id": "95953099-d5e2-455a-a627-e4f142b240ec",
   "metadata": {},
   "outputs": [
    {
     "data": {
      "text/plain": [
       "array([[12, 16, 23, 15, 10, 12],\n",
       "       [20, 13, 20, 22, 10, 23],\n",
       "       [16, 22, 19, 14, 25, 19],\n",
       "       [13, 16, 23, 16,  6, 25],\n",
       "       [12, 13, 14,  9, 16, 12],\n",
       "       [22, 24, 22, 19, 12, 15]])"
      ]
     },
     "execution_count": 71,
     "metadata": {},
     "output_type": "execute_result"
    }
   ],
   "source": [
    "s"
   ]
  },
  {
   "cell_type": "code",
   "execution_count": 73,
   "id": "147b9c1f-3422-4d4b-bb10-197a14d76acd",
   "metadata": {},
   "outputs": [
    {
     "data": {
      "text/plain": [
       "array([[12, 16, 23, 15, 10, 12],\n",
       "       [20, 13, 20, 22, 10, 23]])"
      ]
     },
     "execution_count": 73,
     "metadata": {},
     "output_type": "execute_result"
    }
   ],
   "source": [
    "s[0:2]"
   ]
  },
  {
   "cell_type": "markdown",
   "id": "6df0894c-4425-4ee4-8530-c8b67cd38cf0",
   "metadata": {},
   "source": [
    "ARRAY REVERSE IN NUMPY"
   ]
  },
  {
   "cell_type": "code",
   "execution_count": 81,
   "id": "821b8e9b-6c31-4bbc-9ed6-7fd1217032fa",
   "metadata": {},
   "outputs": [
    {
     "data": {
      "text/plain": [
       "array([[22, 24, 22, 19, 12, 15],\n",
       "       [12, 13, 14,  9, 16, 12],\n",
       "       [13, 16, 23, 16,  6, 25],\n",
       "       [16, 22, 19, 14, 25, 19],\n",
       "       [20, 13, 20, 22, 10, 23],\n",
       "       [12, 16, 23, 15, 10, 12]])"
      ]
     },
     "execution_count": 81,
     "metadata": {},
     "output_type": "execute_result"
    }
   ],
   "source": [
    "s[::-1]"
   ]
  },
  {
   "cell_type": "markdown",
   "id": "6438402a-9b07-4906-a322-d612802cebc3",
   "metadata": {},
   "source": [
    "using max(), min(), mean()\n",
    "To use medianneed to import numpy like from numpy import *"
   ]
  },
  {
   "cell_type": "code",
   "execution_count": 108,
   "id": "3ebdf108-fcd6-4af6-9f8b-f8642bc5685c",
   "metadata": {},
   "outputs": [
    {
     "data": {
      "text/plain": [
       "25"
      ]
     },
     "execution_count": 108,
     "metadata": {},
     "output_type": "execute_result"
    }
   ],
   "source": [
    "s.max()"
   ]
  },
  {
   "cell_type": "code",
   "execution_count": 110,
   "id": "94eee35f-e028-4ad9-8d2a-ed8ca5c7c205",
   "metadata": {},
   "outputs": [
    {
     "data": {
      "text/plain": [
       "6"
      ]
     },
     "execution_count": 110,
     "metadata": {},
     "output_type": "execute_result"
    }
   ],
   "source": [
    "s.min()"
   ]
  },
  {
   "cell_type": "code",
   "execution_count": 112,
   "id": "55259b26-e340-4588-acd4-9523ccc0ef60",
   "metadata": {},
   "outputs": [
    {
     "data": {
      "text/plain": [
       "16.666666666666668"
      ]
     },
     "execution_count": 112,
     "metadata": {},
     "output_type": "execute_result"
    }
   ],
   "source": [
    "s.mean()"
   ]
  },
  {
   "cell_type": "code",
   "execution_count": 114,
   "id": "7f48fa0e-9f33-4ae3-a494-3476ec25d7a6",
   "metadata": {},
   "outputs": [],
   "source": [
    "from numpy import *"
   ]
  },
  {
   "cell_type": "code",
   "execution_count": 116,
   "id": "23690e1c-9868-4bac-802e-34664e5c1736",
   "metadata": {},
   "outputs": [
    {
     "data": {
      "text/plain": [
       "16.0"
      ]
     },
     "execution_count": 116,
     "metadata": {},
     "output_type": "execute_result"
    }
   ],
   "source": [
    "median(s)"
   ]
  },
  {
   "cell_type": "code",
   "execution_count": 118,
   "id": "6bd9d56e-74bf-4a04-916a-5b83d47a8f8b",
   "metadata": {},
   "outputs": [
    {
     "data": {
      "text/plain": [
       "array([1, 2, 3, 4])"
      ]
     },
     "execution_count": 118,
     "metadata": {},
     "output_type": "execute_result"
    }
   ],
   "source": [
    "n"
   ]
  },
  {
   "cell_type": "raw",
   "id": "6ea1fae2-ad72-4219-a11d-b5270d750603",
   "metadata": {},
   "source": [
    "When reshaping the array need to give the correct args to get all the numbers in the new reshape matrix. for example if n has 30 values , the new array matrics argd need to be like (5,6)"
   ]
  },
  {
   "cell_type": "code",
   "execution_count": 120,
   "id": "bf2a4534-1783-4999-90bd-306e0b196c94",
   "metadata": {},
   "outputs": [
    {
     "data": {
      "text/plain": [
       "array([[1, 2],\n",
       "       [3, 4]])"
      ]
     },
     "execution_count": 120,
     "metadata": {},
     "output_type": "execute_result"
    }
   ],
   "source": [
    "n.reshape(2,2)"
   ]
  },
  {
   "cell_type": "code",
   "execution_count": 122,
   "id": "58285f2d-01ae-4f19-aa1b-e5a8d296ce42",
   "metadata": {},
   "outputs": [
    {
     "data": {
      "text/plain": [
       "array([[1, 2, 3, 4]])"
      ]
     },
     "execution_count": 122,
     "metadata": {},
     "output_type": "execute_result"
    }
   ],
   "source": [
    "n.reshape(1,4)"
   ]
  },
  {
   "cell_type": "code",
   "execution_count": 124,
   "id": "c7b1bbf6-d77e-4048-95fd-e12922a400a5",
   "metadata": {},
   "outputs": [
    {
     "data": {
      "text/plain": [
       "array([[1],\n",
       "       [2],\n",
       "       [3],\n",
       "       [4]])"
      ]
     },
     "execution_count": 124,
     "metadata": {},
     "output_type": "execute_result"
    }
   ],
   "source": [
    "n.reshape(4,1)"
   ]
  },
  {
   "cell_type": "code",
   "execution_count": 167,
   "id": "dbf627eb-0c2d-461d-8e7b-8f0dcf62fa55",
   "metadata": {},
   "outputs": [],
   "source": [
    "ls=np.arange(30)"
   ]
  },
  {
   "cell_type": "code",
   "execution_count": 169,
   "id": "a84bc483-554c-4146-8f03-1edbb4166198",
   "metadata": {},
   "outputs": [
    {
     "data": {
      "text/plain": [
       "array([ 0,  1,  2,  3,  4,  5,  6,  7,  8,  9, 10, 11, 12, 13, 14, 15, 16,\n",
       "       17, 18, 19, 20, 21, 22, 23, 24, 25, 26, 27, 28, 29])"
      ]
     },
     "execution_count": 169,
     "metadata": {},
     "output_type": "execute_result"
    }
   ],
   "source": [
    "ls"
   ]
  },
  {
   "cell_type": "code",
   "execution_count": 171,
   "id": "47bdbbdc-5395-4c28-973a-079de8a409e6",
   "metadata": {},
   "outputs": [
    {
     "data": {
      "text/plain": [
       "array([ 0,  1,  2,  3,  4,  5,  6,  7,  8,  9, 10, 11, 12, 13, 14, 15, 16,\n",
       "       17, 18, 19, 20, 21, 22, 23, 24, 25, 26, 27, 28, 29])"
      ]
     },
     "execution_count": 171,
     "metadata": {},
     "output_type": "execute_result"
    }
   ],
   "source": [
    "ls"
   ]
  },
  {
   "cell_type": "code",
   "execution_count": 179,
   "id": "34d67c23-be26-4b61-ae86-8bc72981081e",
   "metadata": {},
   "outputs": [
    {
     "data": {
      "text/plain": [
       "array([[ 0,  1,  2,  3,  4],\n",
       "       [ 5,  6,  7,  8,  9],\n",
       "       [10, 11, 12, 13, 14],\n",
       "       [15, 16, 17, 18, 19],\n",
       "       [20, 21, 22, 23, 24],\n",
       "       [25, 26, 27, 28, 29]])"
      ]
     },
     "execution_count": 179,
     "metadata": {},
     "output_type": "execute_result"
    }
   ],
   "source": [
    "ls.reshape(6,5)"
   ]
  },
  {
   "cell_type": "markdown",
   "id": "869c8794-ca7c-419c-9b2f-fc1a470061f9",
   "metadata": {},
   "source": [
    "indexing in numpy"
   ]
  },
  {
   "cell_type": "code",
   "execution_count": 270,
   "id": "bc531bb6-55b0-4e47-8ab3-5e19530b2d0e",
   "metadata": {},
   "outputs": [],
   "source": [
    "kls=np.arange(26,126).reshape(10,10)"
   ]
  },
  {
   "cell_type": "code",
   "execution_count": 272,
   "id": "6a57501a-4552-4f55-971b-b4b29cec182e",
   "metadata": {},
   "outputs": [
    {
     "data": {
      "text/plain": [
       "array([[ 26,  27,  28,  29,  30,  31,  32,  33,  34,  35],\n",
       "       [ 36,  37,  38,  39,  40,  41,  42,  43,  44,  45],\n",
       "       [ 46,  47,  48,  49,  50,  51,  52,  53,  54,  55],\n",
       "       [ 56,  57,  58,  59,  60,  61,  62,  63,  64,  65],\n",
       "       [ 66,  67,  68,  69,  70,  71,  72,  73,  74,  75],\n",
       "       [ 76,  77,  78,  79,  80,  81,  82,  83,  84,  85],\n",
       "       [ 86,  87,  88,  89,  90,  91,  92,  93,  94,  95],\n",
       "       [ 96,  97,  98,  99, 100, 101, 102, 103, 104, 105],\n",
       "       [106, 107, 108, 109, 110, 111, 112, 113, 114, 115],\n",
       "       [116, 117, 118, 119, 120, 121, 122, 123, 124, 125]])"
      ]
     },
     "execution_count": 272,
     "metadata": {},
     "output_type": "execute_result"
    }
   ],
   "source": [
    "kls"
   ]
  },
  {
   "cell_type": "code",
   "execution_count": 274,
   "id": "bc5c3113-1c89-4be5-b23f-0cff43613f73",
   "metadata": {},
   "outputs": [],
   "source": [
    "row=6\n",
    "col=26"
   ]
  },
  {
   "cell_type": "code",
   "execution_count": 276,
   "id": "753bc680-8d80-483c-bd4a-2ff2fbc9deb2",
   "metadata": {},
   "outputs": [
    {
     "data": {
      "text/plain": [
       "26"
      ]
     },
     "execution_count": 276,
     "metadata": {},
     "output_type": "execute_result"
    }
   ],
   "source": [
    "col"
   ]
  },
  {
   "cell_type": "code",
   "execution_count": 278,
   "id": "7c164203-9413-4c92-8ac5-e2b03da362eb",
   "metadata": {},
   "outputs": [
    {
     "data": {
      "text/plain": [
       "6"
      ]
     },
     "execution_count": 278,
     "metadata": {},
     "output_type": "execute_result"
    }
   ],
   "source": [
    "row"
   ]
  },
  {
   "cell_type": "code",
   "execution_count": 280,
   "id": "bc07e37b-1ea2-4803-be63-441b6fd59c77",
   "metadata": {},
   "outputs": [
    {
     "data": {
      "text/plain": [
       "array([[ 86,  87,  88,  89,  90,  91,  92,  93,  94,  95],\n",
       "       [ 96,  97,  98,  99, 100, 101, 102, 103, 104, 105],\n",
       "       [106, 107, 108, 109, 110, 111, 112, 113, 114, 115],\n",
       "       [116, 117, 118, 119, 120, 121, 122, 123, 124, 125]])"
      ]
     },
     "execution_count": 280,
     "metadata": {},
     "output_type": "execute_result"
    }
   ],
   "source": [
    "kls[row:col]"
   ]
  },
  {
   "cell_type": "code",
   "execution_count": 282,
   "id": "9d01cba0-a6d6-4b9e-a433-5b69f4ead9ed",
   "metadata": {},
   "outputs": [
    {
     "data": {
      "text/plain": [
       "array([[ 86,  87,  88,  89,  90,  91,  92,  93,  94,  95],\n",
       "       [ 96,  97,  98,  99, 100, 101, 102, 103, 104, 105],\n",
       "       [106, 107, 108, 109, 110, 111, 112, 113, 114, 115],\n",
       "       [116, 117, 118, 119, 120, 121, 122, 123, 124, 125]])"
      ]
     },
     "execution_count": 282,
     "metadata": {},
     "output_type": "execute_result"
    }
   ],
   "source": [
    "kls[row:]"
   ]
  },
  {
   "cell_type": "code",
   "execution_count": 284,
   "id": "059096ab-8d09-4ecd-813a-ca0829e50810",
   "metadata": {},
   "outputs": [
    {
     "data": {
      "text/plain": [
       "array([[26, 27, 28, 29, 30, 31, 32, 33, 34, 35],\n",
       "       [36, 37, 38, 39, 40, 41, 42, 43, 44, 45],\n",
       "       [46, 47, 48, 49, 50, 51, 52, 53, 54, 55],\n",
       "       [56, 57, 58, 59, 60, 61, 62, 63, 64, 65],\n",
       "       [66, 67, 68, 69, 70, 71, 72, 73, 74, 75],\n",
       "       [76, 77, 78, 79, 80, 81, 82, 83, 84, 85]])"
      ]
     },
     "execution_count": 284,
     "metadata": {},
     "output_type": "execute_result"
    }
   ],
   "source": [
    "kls[:row]"
   ]
  },
  {
   "cell_type": "code",
   "execution_count": 286,
   "id": "00f33c2e-9cb0-4483-a8b2-0f28a85021be",
   "metadata": {},
   "outputs": [
    {
     "data": {
      "text/plain": [
       "array([[ 26,  27,  28,  29,  30,  31,  32,  33,  34,  35],\n",
       "       [ 36,  37,  38,  39,  40,  41,  42,  43,  44,  45],\n",
       "       [ 46,  47,  48,  49,  50,  51,  52,  53,  54,  55],\n",
       "       [ 56,  57,  58,  59,  60,  61,  62,  63,  64,  65],\n",
       "       [ 66,  67,  68,  69,  70,  71,  72,  73,  74,  75],\n",
       "       [ 76,  77,  78,  79,  80,  81,  82,  83,  84,  85],\n",
       "       [ 86,  87,  88,  89,  90,  91,  92,  93,  94,  95],\n",
       "       [ 96,  97,  98,  99, 100, 101, 102, 103, 104, 105],\n",
       "       [106, 107, 108, 109, 110, 111, 112, 113, 114, 115],\n",
       "       [116, 117, 118, 119, 120, 121, 122, 123, 124, 125]])"
      ]
     },
     "execution_count": 286,
     "metadata": {},
     "output_type": "execute_result"
    }
   ],
   "source": [
    "kls[:col]"
   ]
  },
  {
   "cell_type": "code",
   "execution_count": 288,
   "id": "9cd459e5-5176-4fa3-8706-e08b43b701dc",
   "metadata": {},
   "outputs": [
    {
     "data": {
      "text/plain": [
       "array([], shape=(0, 10), dtype=int64)"
      ]
     },
     "execution_count": 288,
     "metadata": {},
     "output_type": "execute_result"
    }
   ],
   "source": [
    "kls[col:]"
   ]
  },
  {
   "cell_type": "code",
   "execution_count": 290,
   "id": "16f39627-1ca0-4945-bbea-5b73d4017807",
   "metadata": {},
   "outputs": [
    {
     "data": {
      "text/plain": [
       "array([ 32,  42,  52,  62,  72,  82,  92, 102, 112, 122])"
      ]
     },
     "execution_count": 290,
     "metadata": {},
     "output_type": "execute_result"
    }
   ],
   "source": [
    "kls[:,row]"
   ]
  },
  {
   "cell_type": "code",
   "execution_count": 292,
   "id": "2cd5864f-fd7e-45f5-8fb7-9a76e3fec684",
   "metadata": {},
   "outputs": [
    {
     "data": {
      "text/plain": [
       "array([86, 87, 88, 89, 90, 91, 92, 93, 94, 95])"
      ]
     },
     "execution_count": 292,
     "metadata": {},
     "output_type": "execute_result"
    }
   ],
   "source": [
    "kls[row,:]"
   ]
  },
  {
   "cell_type": "code",
   "execution_count": 294,
   "id": "a4b81d4b-770d-4436-b000-42a453d17372",
   "metadata": {},
   "outputs": [
    {
     "ename": "IndexError",
     "evalue": "index 26 is out of bounds for axis 1 with size 10",
     "output_type": "error",
     "traceback": [
      "\u001b[0;31m---------------------------------------------------------------------------\u001b[0m",
      "\u001b[0;31mIndexError\u001b[0m                                Traceback (most recent call last)",
      "Cell \u001b[0;32mIn[294], line 1\u001b[0m\n\u001b[0;32m----> 1\u001b[0m kls[:,col]\n",
      "\u001b[0;31mIndexError\u001b[0m: index 26 is out of bounds for axis 1 with size 10"
     ]
    }
   ],
   "source": [
    "kls[:,col]"
   ]
  },
  {
   "cell_type": "code",
   "execution_count": 218,
   "id": "fdfae84e-0eef-4304-9de9-0a8cb44fa8b2",
   "metadata": {},
   "outputs": [
    {
     "ename": "IndexError",
     "evalue": "index 26 is out of bounds for axis 0 with size 10",
     "output_type": "error",
     "traceback": [
      "\u001b[0;31m---------------------------------------------------------------------------\u001b[0m",
      "\u001b[0;31mIndexError\u001b[0m                                Traceback (most recent call last)",
      "Cell \u001b[0;32mIn[218], line 1\u001b[0m\n\u001b[0;32m----> 1\u001b[0m kls[col,:]\n",
      "\u001b[0;31mIndexError\u001b[0m: index 26 is out of bounds for axis 0 with size 10"
     ]
    }
   ],
   "source": [
    "kls[col,:]"
   ]
  },
  {
   "cell_type": "code",
   "execution_count": 296,
   "id": "b5ce90e0-c349-41b5-b7d6-091b875fc494",
   "metadata": {},
   "outputs": [
    {
     "data": {
      "text/plain": [
       "array([], shape=(1, 0), dtype=int64)"
      ]
     },
     "execution_count": 296,
     "metadata": {},
     "output_type": "execute_result"
    }
   ],
   "source": [
    "kls[1:2,2:1]"
   ]
  },
  {
   "cell_type": "code",
   "execution_count": 298,
   "id": "4aae419e-2d9c-4458-80a5-701e4be3f4df",
   "metadata": {},
   "outputs": [
    {
     "data": {
      "text/plain": [
       "array([[ 26,  27,  28,  29,  30,  31,  32,  33,  34,  35],\n",
       "       [ 36,  37,  38,  39,  40,  41,  42,  43,  44,  45],\n",
       "       [ 46,  47,  48,  49,  50,  51,  52,  53,  54,  55],\n",
       "       [ 56,  57,  58,  59,  60,  61,  62,  63,  64,  65],\n",
       "       [ 66,  67,  68,  69,  70,  71,  72,  73,  74,  75],\n",
       "       [ 76,  77,  78,  79,  80,  81,  82,  83,  84,  85],\n",
       "       [ 86,  87,  88,  89,  90,  91,  92,  93,  94,  95],\n",
       "       [ 96,  97,  98,  99, 100, 101, 102, 103, 104, 105],\n",
       "       [106, 107, 108, 109, 110, 111, 112, 113, 114, 115],\n",
       "       [116, 117, 118, 119, 120, 121, 122, 123, 124, 125]])"
      ]
     },
     "execution_count": 298,
     "metadata": {},
     "output_type": "execute_result"
    }
   ],
   "source": [
    "kls"
   ]
  },
  {
   "cell_type": "code",
   "execution_count": 300,
   "id": "83858666-9cbb-4ae1-bc11-b2c08309533f",
   "metadata": {},
   "outputs": [
    {
     "data": {
      "text/plain": [
       "array([[61, 62, 63],\n",
       "       [71, 72, 73],\n",
       "       [81, 82, 83]])"
      ]
     },
     "execution_count": 300,
     "metadata": {},
     "output_type": "execute_result"
    }
   ],
   "source": [
    "kls[3:6,5:8]"
   ]
  },
  {
   "cell_type": "markdown",
   "id": "c7186fcc-8920-429d-afa5-7e953c8a412b",
   "metadata": {},
   "source": [
    "masking in numpy"
   ]
  },
  {
   "cell_type": "code",
   "execution_count": 303,
   "id": "10a21c9b-fc4e-4235-b0c9-1eb668e0be23",
   "metadata": {},
   "outputs": [
    {
     "data": {
      "text/plain": [
       "array([[ True,  True,  True,  True,  True,  True, False, False, False,\n",
       "        False],\n",
       "       [False, False, False, False, False, False, False, False, False,\n",
       "        False],\n",
       "       [False, False, False, False, False, False, False, False, False,\n",
       "        False],\n",
       "       [False, False, False, False, False, False, False, False, False,\n",
       "        False],\n",
       "       [False, False, False, False, False, False, False, False, False,\n",
       "        False],\n",
       "       [False, False, False, False, False, False, False, False, False,\n",
       "        False],\n",
       "       [False, False, False, False, False, False, False, False, False,\n",
       "        False],\n",
       "       [False, False, False, False, False, False, False, False, False,\n",
       "        False],\n",
       "       [False, False, False, False, False, False, False, False, False,\n",
       "        False],\n",
       "       [False, False, False, False, False, False, False, False, False,\n",
       "        False]])"
      ]
     },
     "execution_count": 303,
     "metadata": {},
     "output_type": "execute_result"
    }
   ],
   "source": [
    "kls<32"
   ]
  },
  {
   "cell_type": "code",
   "execution_count": 305,
   "id": "52aa3514-0ad6-494f-8412-78d1519f63be",
   "metadata": {},
   "outputs": [
    {
     "data": {
      "text/plain": [
       "array([[False, False, False, False, False, False, False,  True,  True,\n",
       "         True],\n",
       "       [ True,  True,  True,  True,  True,  True,  True,  True,  True,\n",
       "         True],\n",
       "       [ True,  True,  True,  True,  True,  True,  True,  True,  True,\n",
       "         True],\n",
       "       [ True,  True,  True,  True,  True,  True,  True,  True,  True,\n",
       "         True],\n",
       "       [ True,  True,  True,  True,  True,  True,  True,  True,  True,\n",
       "         True],\n",
       "       [ True,  True,  True,  True,  True,  True,  True,  True,  True,\n",
       "         True],\n",
       "       [ True,  True,  True,  True,  True,  True,  True,  True,  True,\n",
       "         True],\n",
       "       [ True,  True,  True,  True,  True,  True,  True,  True,  True,\n",
       "         True],\n",
       "       [ True,  True,  True,  True,  True,  True,  True,  True,  True,\n",
       "         True],\n",
       "       [ True,  True,  True,  True,  True,  True,  True,  True,  True,\n",
       "         True]])"
      ]
     },
     "execution_count": 305,
     "metadata": {},
     "output_type": "execute_result"
    }
   ],
   "source": [
    "kls>32"
   ]
  },
  {
   "cell_type": "code",
   "execution_count": 308,
   "id": "77e79820-fa55-4153-bef3-fa2966e40e65",
   "metadata": {},
   "outputs": [
    {
     "data": {
      "text/plain": [
       "array([[ True,  True,  True,  True,  True,  True,  True,  True,  True,\n",
       "         True],\n",
       "       [ True,  True,  True,  True,  True,  True,  True,  True,  True,\n",
       "         True],\n",
       "       [ True,  True,  True,  True,  True,  True,  True,  True,  True,\n",
       "         True],\n",
       "       [ True,  True,  True,  True, False, False, False, False, False,\n",
       "        False],\n",
       "       [False, False, False, False, False, False, False, False, False,\n",
       "        False],\n",
       "       [False, False, False, False, False, False, False, False, False,\n",
       "        False],\n",
       "       [False, False, False, False, False, False, False, False, False,\n",
       "        False],\n",
       "       [False, False, False, False, False, False, False, False, False,\n",
       "        False],\n",
       "       [False, False, False, False, False, False, False, False, False,\n",
       "        False],\n",
       "       [False, False, False, False, False, False, False, False, False,\n",
       "        False]])"
      ]
     },
     "execution_count": 308,
     "metadata": {},
     "output_type": "execute_result"
    }
   ],
   "source": [
    "kls<60"
   ]
  },
  {
   "cell_type": "code",
   "execution_count": 310,
   "id": "1438228e-14a0-4c00-b2e6-2d490771e0fe",
   "metadata": {},
   "outputs": [
    {
     "data": {
      "text/plain": [
       "array([[ True,  True,  True,  True,  True,  True,  True,  True,  True,\n",
       "         True],\n",
       "       [ True,  True,  True,  True,  True,  True,  True,  True,  True,\n",
       "         True],\n",
       "       [ True,  True,  True,  True, False, False, False, False, False,\n",
       "        False],\n",
       "       [False, False, False, False, False, False, False, False, False,\n",
       "        False],\n",
       "       [False, False, False, False, False, False, False, False, False,\n",
       "        False],\n",
       "       [False, False, False, False, False, False, False, False, False,\n",
       "        False],\n",
       "       [False, False, False, False, False, False, False, False, False,\n",
       "        False],\n",
       "       [False, False, False, False, False, False, False, False, False,\n",
       "        False],\n",
       "       [False, False, False, False, False, False, False, False, False,\n",
       "        False],\n",
       "       [False, False, False, False, False, False, False, False, False,\n",
       "        False]])"
      ]
     },
     "execution_count": 310,
     "metadata": {},
     "output_type": "execute_result"
    }
   ],
   "source": [
    "kls<50"
   ]
  },
  {
   "cell_type": "code",
   "execution_count": 312,
   "id": "3152bab0-a319-4653-a4f0-792d4d144a13",
   "metadata": {},
   "outputs": [
    {
     "data": {
      "text/plain": [
       "array([[ 26,  27,  28,  29,  30,  31,  32,  33,  34,  35],\n",
       "       [ 36,  37,  38,  39,  40,  41,  42,  43,  44,  45],\n",
       "       [ 46,  47,  48,  49,  50,  51,  52,  53,  54,  55],\n",
       "       [ 56,  57,  58,  59,  60,  61,  62,  63,  64,  65],\n",
       "       [ 66,  67,  68,  69,  70,  71,  72,  73,  74,  75],\n",
       "       [ 76,  77,  78,  79,  80,  81,  82,  83,  84,  85],\n",
       "       [ 86,  87,  88,  89,  90,  91,  92,  93,  94,  95],\n",
       "       [ 96,  97,  98,  99, 100, 101, 102, 103, 104, 105],\n",
       "       [106, 107, 108, 109, 110, 111, 112, 113, 114, 115],\n",
       "       [116, 117, 118, 119, 120, 121, 122, 123, 124, 125]])"
      ]
     },
     "execution_count": 312,
     "metadata": {},
     "output_type": "execute_result"
    }
   ],
   "source": [
    "kls"
   ]
  },
  {
   "cell_type": "code",
   "execution_count": 316,
   "id": "0c1ca32a-7c76-465d-aec7-b880e7d72dce",
   "metadata": {},
   "outputs": [],
   "source": [
    "y=kls[kls<26]"
   ]
  },
  {
   "cell_type": "code",
   "execution_count": 319,
   "id": "72007cf5-e336-4844-81b1-805f7ceceaa5",
   "metadata": {},
   "outputs": [
    {
     "data": {
      "text/plain": [
       "array([], dtype=int64)"
      ]
     },
     "execution_count": 319,
     "metadata": {},
     "output_type": "execute_result"
    }
   ],
   "source": [
    "y"
   ]
  },
  {
   "cell_type": "code",
   "execution_count": 321,
   "id": "a1d1b1ba-ad41-4853-a525-888c0faf260f",
   "metadata": {},
   "outputs": [],
   "source": [
    "y=kls[kls>26]"
   ]
  },
  {
   "cell_type": "code",
   "execution_count": 323,
   "id": "592c6d57-8dc6-4f1e-a563-1565b23c52b0",
   "metadata": {},
   "outputs": [
    {
     "data": {
      "text/plain": [
       "array([ 27,  28,  29,  30,  31,  32,  33,  34,  35,  36,  37,  38,  39,\n",
       "        40,  41,  42,  43,  44,  45,  46,  47,  48,  49,  50,  51,  52,\n",
       "        53,  54,  55,  56,  57,  58,  59,  60,  61,  62,  63,  64,  65,\n",
       "        66,  67,  68,  69,  70,  71,  72,  73,  74,  75,  76,  77,  78,\n",
       "        79,  80,  81,  82,  83,  84,  85,  86,  87,  88,  89,  90,  91,\n",
       "        92,  93,  94,  95,  96,  97,  98,  99, 100, 101, 102, 103, 104,\n",
       "       105, 106, 107, 108, 109, 110, 111, 112, 113, 114, 115, 116, 117,\n",
       "       118, 119, 120, 121, 122, 123, 124, 125])"
      ]
     },
     "execution_count": 323,
     "metadata": {},
     "output_type": "execute_result"
    }
   ],
   "source": [
    "y"
   ]
  },
  {
   "cell_type": "code",
   "execution_count": 327,
   "id": "2b6617e1-7f59-41df-9780-c0714fa9d8c5",
   "metadata": {},
   "outputs": [],
   "source": [
    "y=kls[kls<32]"
   ]
  },
  {
   "cell_type": "code",
   "execution_count": 329,
   "id": "fcc2d180-5b6c-4a4f-9b72-bd5ae640807b",
   "metadata": {},
   "outputs": [
    {
     "data": {
      "text/plain": [
       "array([26, 27, 28, 29, 30, 31])"
      ]
     },
     "execution_count": 329,
     "metadata": {},
     "output_type": "execute_result"
    }
   ],
   "source": [
    "y"
   ]
  },
  {
   "cell_type": "code",
   "execution_count": 333,
   "id": "3aab84cc-9bc8-4cf2-94ab-5f49390f725e",
   "metadata": {},
   "outputs": [],
   "source": [
    "y=kls[kls>32]"
   ]
  },
  {
   "cell_type": "code",
   "execution_count": 335,
   "id": "bdddf376-8cb4-4852-b003-f97bb856ed7e",
   "metadata": {},
   "outputs": [
    {
     "data": {
      "text/plain": [
       "array([ 33,  34,  35,  36,  37,  38,  39,  40,  41,  42,  43,  44,  45,\n",
       "        46,  47,  48,  49,  50,  51,  52,  53,  54,  55,  56,  57,  58,\n",
       "        59,  60,  61,  62,  63,  64,  65,  66,  67,  68,  69,  70,  71,\n",
       "        72,  73,  74,  75,  76,  77,  78,  79,  80,  81,  82,  83,  84,\n",
       "        85,  86,  87,  88,  89,  90,  91,  92,  93,  94,  95,  96,  97,\n",
       "        98,  99, 100, 101, 102, 103, 104, 105, 106, 107, 108, 109, 110,\n",
       "       111, 112, 113, 114, 115, 116, 117, 118, 119, 120, 121, 122, 123,\n",
       "       124, 125])"
      ]
     },
     "execution_count": 335,
     "metadata": {},
     "output_type": "execute_result"
    }
   ],
   "source": [
    "y"
   ]
  },
  {
   "cell_type": "code",
   "execution_count": null,
   "id": "909a5042-2141-409a-8e48-edc60166c832",
   "metadata": {},
   "outputs": [],
   "source": []
  }
 ],
 "metadata": {
  "kernelspec": {
   "display_name": "Python [conda env:base] *",
   "language": "python",
   "name": "conda-base-py"
  },
  "language_info": {
   "codemirror_mode": {
    "name": "ipython",
    "version": 3
   },
   "file_extension": ".py",
   "mimetype": "text/x-python",
   "name": "python",
   "nbconvert_exporter": "python",
   "pygments_lexer": "ipython3",
   "version": "3.12.7"
  }
 },
 "nbformat": 4,
 "nbformat_minor": 5
}
