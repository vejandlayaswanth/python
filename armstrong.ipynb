{
 "cells": [
  {
   "cell_type": "code",
   "execution_count": 6,
   "id": "1b6d912a-9d39-43d5-8caf-62b08887f2ee",
   "metadata": {},
   "outputs": [
    {
     "name": "stdin",
     "output_type": "stream",
     "text": [
      "enter the number :  153\n"
     ]
    },
    {
     "name": "stdout",
     "output_type": "stream",
     "text": [
      "given number is armstong  153\n"
     ]
    }
   ],
   "source": [
    " a =  int(input ('enter the number : '))\n",
    "b =  int(str(a)[0])**3 + int(str(a)[1])**3 + int(str(a)[2])**3\n",
    "if a  == b :\n",
    "   print (\"given number is armstong \" ,a)\n",
    "else: \n",
    "   print ( \"given number is not armstrong \" ,a )\n"
   ]
  },
  {
   "cell_type": "code",
   "execution_count": null,
   "id": "e8d00d77-6217-4e8f-a78a-f4136f21e742",
   "metadata": {},
   "outputs": [],
   "source": []
  }
 ],
 "metadata": {
  "kernelspec": {
   "display_name": "Python [conda env:base] *",
   "language": "python",
   "name": "conda-base-py"
  },
  "language_info": {
   "codemirror_mode": {
    "name": "ipython",
    "version": 3
   },
   "file_extension": ".py",
   "mimetype": "text/x-python",
   "name": "python",
   "nbconvert_exporter": "python",
   "pygments_lexer": "ipython3",
   "version": "3.12.7"
  }
 },
 "nbformat": 4,
 "nbformat_minor": 5
}
