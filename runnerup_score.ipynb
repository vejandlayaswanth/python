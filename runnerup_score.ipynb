{
 "cells": [
  {
   "cell_type": "markdown",
   "id": "452535ef-be34-42d1-9da6-8b77e78e1575",
   "metadata": {},
   "source": [
    "Given the participants' score sheet for your University Sports Day, you are required to find the runner-up score. You are given  scores. Store them in a list and find the score of the runner-up.\n",
    "\n",
    "Input Format\n",
    "\n",
    "The first line contains . The second line contains an array   of  integers each separated by a space."
   ]
  },
  {
   "cell_type": "code",
   "execution_count": 70,
   "id": "06b2fbcc-7107-4982-bd89-c0a8a53fb95b",
   "metadata": {},
   "outputs": [
    {
     "name": "stdin",
     "output_type": "stream",
     "text": [
      "enter the score  list size : 6\n",
      "enter the scores 1 2 4 4 2 6\n"
     ]
    },
    {
     "name": "stdout",
     "output_type": "stream",
     "text": [
      " the runner upper score is : 4\n"
     ]
    }
   ],
   "source": [
    "n = int(input(\"enter the score  list size :\"))\n",
    "a = list(map(int,input(\"enter the scores\").split()))\n",
    "b = a \n",
    "b.sort()\n",
    "c = []\n",
    "if len(a) != n:\n",
    "    print(\"Error: The number of scores provided does not match n.\")\n",
    "else:\n",
    "    for i in b:\n",
    "        if i not in c:\n",
    "         c.append(i)\n",
    "print(\" the runner upper score is :\" , c[-2])\n",
    "\n"
   ]
  },
  {
   "cell_type": "code",
   "execution_count": null,
   "id": "3394562b-f714-41e4-807e-c8f73f34d129",
   "metadata": {},
   "outputs": [],
   "source": []
  }
 ],
 "metadata": {
  "kernelspec": {
   "display_name": "Python [conda env:base] *",
   "language": "python",
   "name": "conda-base-py"
  },
  "language_info": {
   "codemirror_mode": {
    "name": "ipython",
    "version": 3
   },
   "file_extension": ".py",
   "mimetype": "text/x-python",
   "name": "python",
   "nbconvert_exporter": "python",
   "pygments_lexer": "ipython3",
   "version": "3.12.7"
  }
 },
 "nbformat": 4,
 "nbformat_minor": 5
}
