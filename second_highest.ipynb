{
 "cells": [
  {
   "cell_type": "code",
   "execution_count": 3,
   "id": "05ee3ae2-bad0-462f-aa1f-b30d73e3ef9d",
   "metadata": {},
   "outputs": [
    {
     "name": "stdin",
     "output_type": "stream",
     "text": [
      "Enter numbers separated by spaces:  1 2 2 \n"
     ]
    },
    {
     "name": "stdout",
     "output_type": "stream",
     "text": [
      "Second highest number: 1\n"
     ]
    }
   ],
   "source": [
    "numbers = list(map(int, input(\"Enter numbers separated by spaces: \").split()))\n",
    "\n",
    "numbers = sorted(set(numbers)) \n",
    "\n",
    "print(\"Second highest number:\", numbers[-2])  \n"
   ]
  },
  {
   "cell_type": "code",
   "execution_count": 4,
   "id": "ce345550-63ba-49a0-8385-7be12b2c1929",
   "metadata": {},
   "outputs": [],
   "source": [
    "def sec(*n):\n",
    "    n=sorted(set(n))\n",
    "    print(n[-2])"
   ]
  },
  {
   "cell_type": "code",
   "execution_count": 6,
   "id": "831f56de-ac5f-471a-8936-9c07c44ba2d2",
   "metadata": {},
   "outputs": [
    {
     "name": "stdout",
     "output_type": "stream",
     "text": [
      "5\n"
     ]
    }
   ],
   "source": [
    "sec(1,2,3,5,5,4,6)"
   ]
  },
  {
   "cell_type": "code",
   "execution_count": null,
   "id": "08f75a5d-f29b-42b0-8c70-c873611fb4f7",
   "metadata": {},
   "outputs": [],
   "source": []
  }
 ],
 "metadata": {
  "kernelspec": {
   "display_name": "Python [conda env:base] *",
   "language": "python",
   "name": "conda-base-py"
  },
  "language_info": {
   "codemirror_mode": {
    "name": "ipython",
    "version": 3
   },
   "file_extension": ".py",
   "mimetype": "text/x-python",
   "name": "python",
   "nbconvert_exporter": "python",
   "pygments_lexer": "ipython3",
   "version": "3.12.7"
  }
 },
 "nbformat": 4,
 "nbformat_minor": 5
}
