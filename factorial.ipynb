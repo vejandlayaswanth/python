{
 "cells": [
  {
   "cell_type": "code",
   "execution_count": 6,
   "id": "402493d7-ef62-424f-9cd4-fac89df3f505",
   "metadata": {},
   "outputs": [
    {
     "name": "stdin",
     "output_type": "stream",
     "text": [
      "enter the factorial number : 5\n"
     ]
    },
    {
     "name": "stdout",
     "output_type": "stream",
     "text": [
      "120\n"
     ]
    }
   ],
   "source": [
    "# Fabinocci series\n",
    "n = int(input('enter the factorial number :'))\n",
    "fac=1\n",
    "while (n>1):\n",
    "    fac = fac * n\n",
    "    n = n-1 \n",
    "print(fac)\n",
    "    \n",
    "    "
   ]
  },
  {
   "cell_type": "code",
   "execution_count": 10,
   "id": "92e890e2-a87b-40ae-9b45-82ff5b499dbf",
   "metadata": {},
   "outputs": [
    {
     "name": "stdin",
     "output_type": "stream",
     "text": [
      "enter the factorial number : 5\n"
     ]
    },
    {
     "name": "stdout",
     "output_type": "stream",
     "text": [
      "120\n"
     ]
    }
   ],
   "source": [
    "# Fabinocci series\n",
    "n = int(input('enter the factorial number :'))\n",
    "fac=1\n",
    "for i in range(1,n):\n",
    "    fac = fac * n\n",
    "    n = n-1 \n",
    "    \n",
    "print(fac)\n",
    "    \n",
    "    "
   ]
  },
  {
   "cell_type": "code",
   "execution_count": 18,
   "id": "5815d31d-ee26-4b90-9c3a-c7ff20a290ce",
   "metadata": {},
   "outputs": [
    {
     "name": "stdout",
     "output_type": "stream",
     "text": [
      "120\n"
     ]
    }
   ],
   "source": [
    "def fact(i, o):\n",
    "    if i > 1:\n",
    "        o=o*i\n",
    "        fact(i-1, o)\n",
    "    else:\n",
    "        print(o)\n",
    "fact(5,1)"
   ]
  },
  {
   "cell_type": "code",
   "execution_count": 63,
   "id": "9197e3d3-5350-41ef-aec2-bf5cdcc6888e",
   "metadata": {},
   "outputs": [
    {
     "data": {
      "text/plain": [
       "720"
      ]
     },
     "execution_count": 63,
     "metadata": {},
     "output_type": "execute_result"
    }
   ],
   "source": [
    "6*5*4*3*2*1"
   ]
  },
  {
   "cell_type": "code",
   "execution_count": 43,
   "id": "495937f3-e7ce-4cb9-9eb8-61237d7154cb",
   "metadata": {},
   "outputs": [
    {
     "name": "stdout",
     "output_type": "stream",
     "text": [
      "120\n"
     ]
    }
   ],
   "source": [
    "def fac_fun(n):\n",
    "    fac=1\n",
    "    for i in range(1,n):\n",
    "        fac = fac * n\n",
    "        n = n-1 \n",
    "    return fac\n",
    "   \n",
    "print(fac_fun(5))\n",
    "\n",
    "    \n",
    "    "
   ]
  },
  {
   "cell_type": "code",
   "execution_count": null,
   "id": "0f8be0b9-453d-439c-bb27-53d403a8d3ba",
   "metadata": {},
   "outputs": [],
   "source": []
  }
 ],
 "metadata": {
  "kernelspec": {
   "display_name": "Python [conda env:base] *",
   "language": "python",
   "name": "conda-base-py"
  },
  "language_info": {
   "codemirror_mode": {
    "name": "ipython",
    "version": 3
   },
   "file_extension": ".py",
   "mimetype": "text/x-python",
   "name": "python",
   "nbconvert_exporter": "python",
   "pygments_lexer": "ipython3",
   "version": "3.12.7"
  }
 },
 "nbformat": 4,
 "nbformat_minor": 5
}
