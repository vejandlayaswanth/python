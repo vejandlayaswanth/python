{
 "cells": [
  {
   "cell_type": "code",
   "execution_count": 4,
   "id": "bbc99cbd-905f-4bf8-a25d-946175a43d5a",
   "metadata": {},
   "outputs": [
    {
     "name": "stdout",
     "output_type": "stream",
     "text": [
      "pavan\n"
     ]
    },
    {
     "data": {
      "text/plain": [
       "str"
      ]
     },
     "execution_count": 4,
     "metadata": {},
     "output_type": "execute_result"
    }
   ],
   "source": [
    "varibale=\"pavan\"\n",
    "print(varibale)\n",
    "type(varibale)"
   ]
  },
  {
   "cell_type": "code",
   "execution_count": 5,
   "id": "44d44b00-99ce-4b9f-a8cf-9c6d26ccb57f",
   "metadata": {},
   "outputs": [
    {
     "data": {
      "text/plain": [
       "int"
      ]
     },
     "execution_count": 5,
     "metadata": {},
     "output_type": "execute_result"
    }
   ],
   "source": [
    "a=10\n",
    "type(a)"
   ]
  },
  {
   "cell_type": "code",
   "execution_count": 6,
   "id": "8c75ac56-8ef2-43ef-84c2-4261824fa13a",
   "metadata": {},
   "outputs": [
    {
     "name": "stdout",
     "output_type": "stream",
     "text": [
      "20\n"
     ]
    }
   ],
   "source": [
    "print(4*5)"
   ]
  },
  {
   "cell_type": "code",
   "execution_count": 2,
   "id": "f630aa55-5bf1-4649-9774-6b8daaa6273d",
   "metadata": {},
   "outputs": [
    {
     "ename": "TypeError",
     "evalue": "unsupported operand type(s) for +: 'int' and 'str'",
     "output_type": "error",
     "traceback": [
      "\u001b[0;31m---------------------------------------------------------------------------\u001b[0m",
      "\u001b[0;31mTypeError\u001b[0m                                 Traceback (most recent call last)",
      "Cell \u001b[0;32mIn[2], line 3\u001b[0m\n\u001b[1;32m      1\u001b[0m a\u001b[38;5;241m=\u001b[39m\u001b[38;5;241m4\u001b[39m\n\u001b[1;32m      2\u001b[0m b\u001b[38;5;241m=\u001b[39m\u001b[38;5;124m\"\u001b[39m\u001b[38;5;124m5\u001b[39m\u001b[38;5;124m\"\u001b[39m\n\u001b[0;32m----> 3\u001b[0m \u001b[38;5;28mprint\u001b[39m(a\u001b[38;5;241m+\u001b[39mb)\n",
      "\u001b[0;31mTypeError\u001b[0m: unsupported operand type(s) for +: 'int' and 'str'"
     ]
    }
   ],
   "source": [
    "a=4\n",
    "b=\"5\"\n",
    "print(a+b)"
   ]
  },
  {
   "cell_type": "code",
   "execution_count": 15,
   "id": "c2509627-4879-4369-8952-1287bbf8158d",
   "metadata": {},
   "outputs": [
    {
     "name": "stdout",
     "output_type": "stream",
     "text": [
      "9\n"
     ]
    }
   ],
   "source": [
    "a=4\n",
    "b=\"5\"\n",
    "print(a+int(b))"
   ]
  },
  {
   "cell_type": "code",
   "execution_count": 19,
   "id": "6bac64be-7c01-450a-a820-d6a51727946c",
   "metadata": {},
   "outputs": [
    {
     "data": {
      "text/plain": [
       "int"
      ]
     },
     "execution_count": 19,
     "metadata": {},
     "output_type": "execute_result"
    }
   ],
   "source": [
    "b=\"2345\"\n",
    "\n",
    "# b=\"pavan\"\n",
    "\n",
    "b=int(b)\n",
    "type(b)"
   ]
  },
  {
   "cell_type": "code",
   "execution_count": 22,
   "id": "1aace787-691a-4302-b89e-7a5e7e8c9b0e",
   "metadata": {},
   "outputs": [
    {
     "name": "stdin",
     "output_type": "stream",
     "text": [
      " 10\n",
      " 15\n"
     ]
    },
    {
     "name": "stdout",
     "output_type": "stream",
     "text": [
      "150\n"
     ]
    }
   ],
   "source": [
    "a=int(input())\n",
    "b=int(input())\n",
    "print(a*b)"
   ]
  },
  {
   "cell_type": "code",
   "execution_count": 26,
   "id": "5190a273-8768-430f-8003-951c0c222b92",
   "metadata": {},
   "outputs": [
    {
     "name": "stdin",
     "output_type": "stream",
     "text": [
      " 10\n"
     ]
    }
   ],
   "source": [
    "a=input()"
   ]
  },
  {
   "cell_type": "code",
   "execution_count": 29,
   "id": "5c632f28-6aa9-4732-b9ab-995a972439f5",
   "metadata": {},
   "outputs": [
    {
     "name": "stdout",
     "output_type": "stream",
     "text": [
      "5.0\n"
     ]
    },
    {
     "data": {
      "text/plain": [
       "float"
      ]
     },
     "execution_count": 29,
     "metadata": {},
     "output_type": "execute_result"
    }
   ],
   "source": [
    "a=5\n",
    "print(float(a))\n",
    "a=float(a)\n",
    "type(a)\n"
   ]
  },
  {
   "cell_type": "code",
   "execution_count": 30,
   "id": "e57d7229-effe-44bc-8607-6c193a21b04c",
   "metadata": {},
   "outputs": [
    {
     "data": {
      "text/plain": [
       "0.0"
      ]
     },
     "execution_count": 30,
     "metadata": {},
     "output_type": "execute_result"
    }
   ],
   "source": [
    "int()\n",
    "str()\n",
    "float()"
   ]
  },
  {
   "cell_type": "code",
   "execution_count": 32,
   "id": "e683fa58-cf0b-4a7f-af4a-b593608af6c3",
   "metadata": {},
   "outputs": [],
   "source": [
    "# indexing"
   ]
  },
  {
   "cell_type": "code",
   "execution_count": 53,
   "id": "9aa0d1fe-662a-4bb7-be59-6b21e4b104d2",
   "metadata": {},
   "outputs": [
    {
     "data": {
      "text/plain": [
       "list"
      ]
     },
     "execution_count": 53,
     "metadata": {},
     "output_type": "execute_result"
    }
   ],
   "source": [
    "0,1,2,3,4,5\n",
    "a=\"Hello World india\"\n",
    "a=a.split(\" \")\n",
    "type(a)"
   ]
  },
  {
   "cell_type": "code",
   "execution_count": null,
   "id": "c405cd3f-08ba-4754-8f7e-b44caa476e88",
   "metadata": {},
   "outputs": [],
   "source": [
    "a=\"Hello World\"\n",
    "l=list(a)\n",
    "print(l)"
   ]
  },
  {
   "cell_type": "code",
   "execution_count": 42,
   "id": "edcc0dbc-db2d-47e5-a2be-3d019b966025",
   "metadata": {},
   "outputs": [],
   "source": [
    "list=[1,\"pavan\"]"
   ]
  },
  {
   "cell_type": "code",
   "execution_count": 44,
   "id": "e32747f4-868a-4bfb-9e6f-8c30a64af147",
   "metadata": {},
   "outputs": [
    {
     "name": "stdout",
     "output_type": "stream",
     "text": [
      "pavan\n"
     ]
    }
   ],
   "source": [
    "print(list[1])"
   ]
  },
  {
   "cell_type": "code",
   "execution_count": 64,
   "id": "8eac86b9-afc2-4db1-b3d9-f29abfde76bb",
   "metadata": {},
   "outputs": [
    {
     "name": "stdout",
     "output_type": "stream",
     "text": [
      "2\n"
     ]
    }
   ],
   "source": [
    "list=[1,2,3,4,5,6,7]\n",
    "print(list[-6])"
   ]
  },
  {
   "cell_type": "code",
   "execution_count": 65,
   "id": "4852e0fd-a8e7-4d8e-81e7-6775417173bf",
   "metadata": {},
   "outputs": [
    {
     "name": "stdout",
     "output_type": "stream",
     "text": [
      "india\n"
     ]
    }
   ],
   "source": [
    "l=['india','USA']\n",
    "print(l[0])"
   ]
  },
  {
   "cell_type": "code",
   "execution_count": null,
   "id": "ad683e64-815f-4ec2-ac37-88a194c04dba",
   "metadata": {},
   "outputs": [],
   "source": [
    "\n",
    "\n",
    "\n"
   ]
  },
  {
   "cell_type": "code",
   "execution_count": 1,
   "id": "75742f42-8dae-4876-8c23-60679fddd45b",
   "metadata": {},
   "outputs": [
    {
     "name": "stdout",
     "output_type": "stream",
     "text": [
      "['G', 'e', 'e', 'k', 's', ' ', 'f', 'o', 'r', ' ', 'G', 'e', 'e', 'k', 's']\n"
     ]
    }
   ],
   "source": [
    "s = \"Geeks for Geeks\"\n",
    "a = list(s)\n",
    "print(a)"
   ]
  },
  {
   "cell_type": "code",
   "execution_count": 2,
   "id": "7b6861fc-2708-49cc-ac71-02a0085667bd",
   "metadata": {},
   "outputs": [
    {
     "name": "stdout",
     "output_type": "stream",
     "text": [
      "['H', 'e', 'l', 'l', 'o', ' ', 'w', 'o', 'r', 'l', 'd']\n"
     ]
    }
   ],
   "source": [
    "a='Hello world'\n",
    "l=list(a)\n",
    "print(l)"
   ]
  },
  {
   "cell_type": "code",
   "execution_count": 3,
   "id": "00fbf53b-9aec-43f3-b30d-6a6d0cf472d8",
   "metadata": {},
   "outputs": [
    {
     "name": "stdout",
     "output_type": "stream",
     "text": [
      "o\n"
     ]
    }
   ],
   "source": [
    "print(l[4])"
   ]
  },
  {
   "cell_type": "code",
   "execution_count": 6,
   "id": "daf0b4f7-cf5a-46a8-9e9e-cd71d9c47870",
   "metadata": {},
   "outputs": [
    {
     "name": "stdout",
     "output_type": "stream",
     "text": [
      "['Hello', 'World']\n"
     ]
    }
   ],
   "source": [
    "a=\"Hello World\"\n",
    "a=a.split(\" \")\n",
    "l=list(a)\n",
    "print(l)"
   ]
  },
  {
   "cell_type": "code",
   "execution_count": 15,
   "id": "06e0b64e-4dff-4638-b66b-1b806fc1764c",
   "metadata": {},
   "outputs": [
    {
     "name": "stdout",
     "output_type": "stream",
     "text": [
      "16\n"
     ]
    }
   ],
   "source": [
    "# If Else condition\n",
    "a=11\n",
    "if a>10:\n",
    "    a=a+5\n",
    "elif a<10:\n",
    "    a=a-5\n",
    "else:\n",
    "    a=a-10\n",
    "\n",
    "print(a)\n",
    "\n",
    "\n"
   ]
  },
  {
   "cell_type": "code",
   "execution_count": 18,
   "id": "5f9f0a5e-9dc8-4a2e-86ac-b63b2f277d71",
   "metadata": {},
   "outputs": [
    {
     "name": "stdout",
     "output_type": "stream",
     "text": [
      "no\n"
     ]
    }
   ],
   "source": [
    "a=21\n",
    "b=16\n",
    "if a>20:\n",
    "    if b<15:\n",
    "        print('true')\n",
    "    else:\n",
    "        print('no')\n",
    "else:\n",
    "    print('No')\n",
    "    \n",
    "    "
   ]
  },
  {
   "cell_type": "code",
   "execution_count": null,
   "id": "f2429317-1918-4842-b5f4-7dcf2f5228b5",
   "metadata": {},
   "outputs": [],
   "source": [
    "lists\n",
    "# slicing\n",
    "# how to use if else with lists\n",
    "# append\n",
    "mapping\n",
    "# sets\n",
    "# and \n",
    "# or\n",
    "# sorted"
   ]
  },
  {
   "cell_type": "code",
   "execution_count": 22,
   "id": "824f74c6-8bc3-4c90-99e6-061d0e157c23",
   "metadata": {},
   "outputs": [
    {
     "name": "stdout",
     "output_type": "stream",
     "text": [
      "1\n"
     ]
    }
   ],
   "source": [
    "print(5//3)"
   ]
  },
  {
   "cell_type": "code",
   "execution_count": 23,
   "id": "d735feee-f826-46f8-81ac-b59e8f2af4bf",
   "metadata": {},
   "outputs": [
    {
     "name": "stdout",
     "output_type": "stream",
     "text": [
      "Even\n"
     ]
    }
   ],
   "source": [
    "a=10\n",
    "if a%2==0:\n",
    "    print('Even')\n",
    "else:\n",
    "    print('Odd')"
   ]
  },
  {
   "cell_type": "code",
   "execution_count": 25,
   "id": "7602c02d-51d7-4d9e-b43a-ffac605557f8",
   "metadata": {},
   "outputs": [
    {
     "name": "stdout",
     "output_type": "stream",
     "text": [
      "1.667\n"
     ]
    }
   ],
   "source": [
    "print(round(5/3,3))"
   ]
  },
  {
   "cell_type": "code",
   "execution_count": null,
   "id": "34a1e7ff-e806-4f19-a822-1b5eac6db33e",
   "metadata": {},
   "outputs": [],
   "source": [
    "write a program to tell that the number is a amstrong number or not\n",
    "153= 1**3+5**3+3**3"
   ]
  },
  {
   "cell_type": "code",
   "execution_count": 7,
   "id": "9e59f564-06eb-490e-83a0-ae8bb7ca53e6",
   "metadata": {},
   "outputs": [
    {
     "name": "stdin",
     "output_type": "stream",
     "text": [
      " 121\n"
     ]
    },
    {
     "data": {
      "text/plain": [
       "int"
      ]
     },
     "execution_count": 7,
     "metadata": {},
     "output_type": "execute_result"
    }
   ],
   "source": [
    "a=int(input())\n",
    "b=(int(str(a)[0])**3)+(int(str(a)[1])**3)+(int(str(a)[2])**3)\n",
    "type(a)"
   ]
  },
  {
   "cell_type": "code",
   "execution_count": 11,
   "id": "c356eff1-808f-464f-9a88-a9aea6aab4e1",
   "metadata": {},
   "outputs": [
    {
     "name": "stdout",
     "output_type": "stream",
     "text": [
      "paban\n",
      "pavan\n"
     ]
    }
   ],
   "source": [
    "print(\"paban\",\"pavan\",sep='\\n')\n"
   ]
  },
  {
   "cell_type": "code",
   "execution_count": 15,
   "id": "7da881ba-2341-4308-9ef1-5b15fb2375f2",
   "metadata": {},
   "outputs": [
    {
     "name": "stdout",
     "output_type": "stream",
     "text": [
      "pavankumarmamidi\n"
     ]
    }
   ],
   "source": [
    "print(\"pavan\",end=\"\")\n",
    "print(\"kumar\",end=\"\")\n",
    "print(\"mamidi\")"
   ]
  },
  {
   "cell_type": "code",
   "execution_count": 22,
   "id": "470a11ed-b0c2-4d2f-8821-43d0324ebe40",
   "metadata": {},
   "outputs": [
    {
     "name": "stdin",
     "output_type": "stream",
     "text": [
      " 7\n"
     ]
    },
    {
     "name": "stdout",
     "output_type": "stream",
     "text": [
      "no\n"
     ]
    }
   ],
   "source": [
    "a=int(input())\n",
    "list=[1,2,3,4,5,6]\n",
    "if a not in list:\n",
    "    print(\"no\")\n",
    "else:\n",
    "    print(\"yes\")"
   ]
  },
  {
   "cell_type": "code",
   "execution_count": 25,
   "id": "03a7fe19-0483-487f-b09c-946e91cd2303",
   "metadata": {},
   "outputs": [
    {
     "name": "stdout",
     "output_type": "stream",
     "text": [
      "pavan\n"
     ]
    }
   ],
   "source": [
    "a=\"PAVAN\"\n",
    "print(a.lower())"
   ]
  },
  {
   "cell_type": "code",
   "execution_count": 27,
   "id": "a5ebc33e-7f49-4a93-8187-b646e20516c3",
   "metadata": {},
   "outputs": [
    {
     "name": "stdin",
     "output_type": "stream",
     "text": [
      " 41\n"
     ]
    },
    {
     "name": "stdout",
     "output_type": "stream",
     "text": [
      "ok\n"
     ]
    }
   ],
   "source": [
    "a=int(input())\n",
    "if a>30 or a<40:\n",
    "    print(\"ok\")\n",
    "elif a<30:\n",
    "    print(\"yes\")\n",
    "else:\n",
    "    print(\"no\")"
   ]
  },
  {
   "cell_type": "code",
   "execution_count": 36,
   "id": "63a67692-d4df-4fba-8820-698bb21d408c",
   "metadata": {},
   "outputs": [
    {
     "name": "stdout",
     "output_type": "stream",
     "text": [
      "1-0\n",
      "2-1\n",
      "3-2\n",
      "4-3\n",
      "5-4\n",
      "pavan[1, 2, 3, 4, 5]dhfndsa\n"
     ]
    }
   ],
   "source": [
    "list=[1,2,3,4,5]\n",
    "for i in list:\n",
    "    print(f\"{i}-{list.index(i)}\")\n"
   ]
  },
  {
   "cell_type": "code",
   "execution_count": 29,
   "id": "1721f746-e799-4824-adc9-db4237fb4f5a",
   "metadata": {},
   "outputs": [
    {
     "name": "stdout",
     "output_type": "stream",
     "text": [
      "[1, 2, 3, 4, 5, 6]\n"
     ]
    }
   ],
   "source": [
    "print(list)"
   ]
  },
  {
   "cell_type": "code",
   "execution_count": 37,
   "id": "bad14ea9-14b0-4e67-880e-8c7b2b5b46c5",
   "metadata": {},
   "outputs": [],
   "source": [
    "list=[1,2,3,4,5]\n",
    "list.insert(1,7)"
   ]
  },
  {
   "cell_type": "code",
   "execution_count": 38,
   "id": "52cc662d-559b-443f-9103-ee16841d0bf1",
   "metadata": {},
   "outputs": [
    {
     "name": "stdout",
     "output_type": "stream",
     "text": [
      "[1, 7, 2, 3, 4, 5]\n"
     ]
    }
   ],
   "source": [
    "print(list)"
   ]
  },
  {
   "cell_type": "code",
   "execution_count": 52,
   "id": "47b0b514-d0d1-4a98-988e-c4c8a84c5c71",
   "metadata": {},
   "outputs": [
    {
     "name": "stdout",
     "output_type": "stream",
     "text": [
      "[42, 5, 4, 3, 2, 2, 1, 0]\n"
     ]
    }
   ],
   "source": [
    "list=[1,3,42,2,0,5,4,2]\n",
    "list.sort(reverse=True)\n",
    "print(list)\n",
    "\n"
   ]
  },
  {
   "cell_type": "code",
   "execution_count": 49,
   "id": "dd0ac85c-a363-42f9-9d5a-a7389a913177",
   "metadata": {},
   "outputs": [
    {
     "name": "stdout",
     "output_type": "stream",
     "text": [
      "[0, 1, 2, 3, 4, 5, 42]\n"
     ]
    }
   ],
   "source": [
    "print(list)"
   ]
  },
  {
   "cell_type": "code",
   "execution_count": null,
   "id": "a490ae35-9fc6-4707-a8dc-71b599e6cbd6",
   "metadata": {},
   "outputs": [],
   "source": [
    "dictionaries\n",
    "# forloop\n",
    "while loop\n",
    "# bitwise \n",
    "# or\n",
    "# nor\n",
    "# xor\n",
    "# remove duplicates\n",
    "# print the duplicates\n",
    "# update in lists\n",
    "# remove from lists\n"
   ]
  },
  {
   "cell_type": "code",
   "execution_count": 61,
   "id": "9dbe66bc-8be2-4b05-aff8-3661106a13c5",
   "metadata": {},
   "outputs": [
    {
     "ename": "TypeError",
     "evalue": "'list' object is not callable",
     "output_type": "error",
     "traceback": [
      "\u001b[0;31m---------------------------------------------------------------------------\u001b[0m",
      "\u001b[0;31mTypeError\u001b[0m                                 Traceback (most recent call last)",
      "Cell \u001b[0;32mIn[61], line 2\u001b[0m\n\u001b[1;32m      1\u001b[0m s\u001b[38;5;241m=\u001b[39m{\u001b[38;5;241m1\u001b[39m,\u001b[38;5;241m2\u001b[39m,\u001b[38;5;241m3\u001b[39m,\u001b[38;5;241m4\u001b[39m,\u001b[38;5;241m5\u001b[39m}\n\u001b[0;32m----> 2\u001b[0m a\u001b[38;5;241m=\u001b[39m\u001b[38;5;28;43mlist\u001b[39;49m\u001b[43m(\u001b[49m\u001b[43ms\u001b[49m\u001b[43m)\u001b[49m\n\u001b[1;32m      3\u001b[0m \u001b[38;5;28mprint\u001b[39m(a)\n",
      "\u001b[0;31mTypeError\u001b[0m: 'list' object is not callable"
     ]
    }
   ],
   "source": [
    "s={1,2,3,4,5}\n",
    "a=list(s)\n",
    "print(a)"
   ]
  },
  {
   "cell_type": "code",
   "execution_count": 54,
   "id": "da99e0de-e884-4705-a448-a2321c726e0d",
   "metadata": {},
   "outputs": [
    {
     "ename": "TypeError",
     "evalue": "'set' object is not subscriptable",
     "output_type": "error",
     "traceback": [
      "\u001b[0;31m---------------------------------------------------------------------------\u001b[0m",
      "\u001b[0;31mTypeError\u001b[0m                                 Traceback (most recent call last)",
      "Cell \u001b[0;32mIn[54], line 1\u001b[0m\n\u001b[0;32m----> 1\u001b[0m \u001b[43ms\u001b[49m\u001b[43m[\u001b[49m\u001b[38;5;241;43m0\u001b[39;49m\u001b[43m]\u001b[49m\n",
      "\u001b[0;31mTypeError\u001b[0m: 'set' object is not subscriptable"
     ]
    }
   ],
   "source": [
    "s"
   ]
  },
  {
   "cell_type": "code",
   "execution_count": 2,
   "id": "4af29830-2d6f-4f91-893a-0d5966495c40",
   "metadata": {},
   "outputs": [
    {
     "name": "stdout",
     "output_type": "stream",
     "text": [
      "[1, 2, 3, 4, 5]\n"
     ]
    },
    {
     "data": {
      "text/plain": [
       "list"
      ]
     },
     "execution_count": 2,
     "metadata": {},
     "output_type": "execute_result"
    }
   ],
   "source": [
    "s={1,2,3,4,5}\n",
    "a=list(s)\n",
    "print(a)"
   ]
  },
  {
   "cell_type": "code",
   "execution_count": 5,
   "id": "bece67c5-dc25-4f5b-987e-28a074f0a578",
   "metadata": {},
   "outputs": [
    {
     "name": "stdin",
     "output_type": "stream",
     "text": [
      " 1 2 3 4 5\n"
     ]
    },
    {
     "name": "stdout",
     "output_type": "stream",
     "text": [
      "['1', '2', '3', '4', '5']\n"
     ]
    }
   ],
   "source": [
    "a=list(map(str,input().split(\" \")))\n",
    "print(a)"
   ]
  },
  {
   "cell_type": "code",
   "execution_count": 1,
   "id": "353f8f8c-d400-4c2a-8eca-508651e1cc51",
   "metadata": {},
   "outputs": [],
   "source": [
    "l=[100,2000,4000,40]"
   ]
  },
  {
   "cell_type": "code",
   "execution_count": 3,
   "id": "4186a773-c2e8-42f7-967d-ae55798ed8f0",
   "metadata": {},
   "outputs": [
    {
     "name": "stdout",
     "output_type": "stream",
     "text": [
      "11\n"
     ]
    }
   ],
   "source": [
    "10= 0000 1010\n",
    "11= 0000 1011\n",
    "    0000 1011"
   ]
  },
  {
   "cell_type": "code",
   "execution_count": 6,
   "id": "bb4ed58f-d499-42ae-ab1e-586059d68f0c",
   "metadata": {},
   "outputs": [
    {
     "name": "stdout",
     "output_type": "stream",
     "text": [
      "1\n"
     ]
    }
   ],
   "source": [
    "print(11)"
   ]
  },
  {
   "cell_type": "code",
   "execution_count": 7,
   "id": "e7cf3831-fb14-4059-826d-38b028e08377",
   "metadata": {},
   "outputs": [
    {
     "name": "stdout",
     "output_type": "stream",
     "text": [
      "40\n"
     ]
    }
   ],
   "source": [
    "print(10<<2)"
   ]
  },
  {
   "cell_type": "code",
   "execution_count": 8,
   "id": "81af2e4f-182b-47ae-8a03-5fa1acb09c00",
   "metadata": {},
   "outputs": [
    {
     "ename": "SyntaxError",
     "evalue": "invalid syntax (1539189614.py, line 1)",
     "output_type": "error",
     "traceback": [
      "\u001b[0;36m  Cell \u001b[0;32mIn[8], line 1\u001b[0;36m\u001b[0m\n\u001b[0;31m    0000 1010\u001b[0m\n\u001b[0m         ^\u001b[0m\n\u001b[0;31mSyntaxError\u001b[0m\u001b[0;31m:\u001b[0m invalid syntax\n"
     ]
    }
   ],
   "source": [
    "# 0000 1010\n",
    "# 00\n",
    "\n"
   ]
  },
  {
   "cell_type": "code",
   "execution_count": 17,
   "id": "cc42eb68-a348-4ef3-bdb7-93dcf3110237",
   "metadata": {},
   "outputs": [
    {
     "ename": "AttributeError",
     "evalue": "'list' object has no attribute 'update'",
     "output_type": "error",
     "traceback": [
      "\u001b[0;31m---------------------------------------------------------------------------\u001b[0m",
      "\u001b[0;31mAttributeError\u001b[0m                            Traceback (most recent call last)",
      "Cell \u001b[0;32mIn[17], line 2\u001b[0m\n\u001b[1;32m      1\u001b[0m l\u001b[38;5;241m=\u001b[39m[\u001b[38;5;241m1\u001b[39m,\u001b[38;5;241m2\u001b[39m,\u001b[38;5;241m3\u001b[39m,\u001b[38;5;241m4\u001b[39m,\u001b[38;5;241m5\u001b[39m]\n\u001b[0;32m----> 2\u001b[0m \u001b[43ml\u001b[49m\u001b[38;5;241;43m.\u001b[39;49m\u001b[43mupdate\u001b[49m(\u001b[38;5;241m2\u001b[39m)\n",
      "\u001b[0;31mAttributeError\u001b[0m: 'list' object has no attribute 'update'"
     ]
    }
   ],
   "source": [
    "l=[1,2,3,4,5]\n",
    "l.update(2)"
   ]
  },
  {
   "cell_type": "code",
   "execution_count": 18,
   "id": "0cc5c923-fe7f-4f72-86b0-30abee9ff596",
   "metadata": {},
   "outputs": [
    {
     "name": "stdout",
     "output_type": "stream",
     "text": [
      "[1, 2, 3, 4, 5]\n"
     ]
    }
   ],
   "source": [
    "print(l)"
   ]
  },
  {
   "cell_type": "code",
   "execution_count": 19,
   "id": "177f8c61-5073-4fce-9ca4-48ed5e6541ce",
   "metadata": {},
   "outputs": [],
   "source": [
    "l[0]=2"
   ]
  },
  {
   "cell_type": "code",
   "execution_count": 20,
   "id": "5a03c8aa-2aa0-449a-9c90-592465baa8dc",
   "metadata": {},
   "outputs": [
    {
     "name": "stdout",
     "output_type": "stream",
     "text": [
      "[2, 2, 3, 4, 5]\n"
     ]
    }
   ],
   "source": [
    "print(l)"
   ]
  },
  {
   "cell_type": "code",
   "execution_count": 21,
   "id": "fcbf5b54-76c2-4da5-a1c5-dee94f0f90bd",
   "metadata": {},
   "outputs": [
    {
     "name": "stdout",
     "output_type": "stream",
     "text": [
      "1\n",
      "2\n",
      "3\n",
      "4\n",
      "5\n",
      "6\n",
      "7\n",
      "8\n",
      "9\n"
     ]
    }
   ],
   "source": [
    "for i in range(1,10):\n",
    "    print(i)"
   ]
  },
  {
   "cell_type": "code",
   "execution_count": 1,
   "id": "c20f9b66-a595-4c49-8d7f-e9c984300c75",
   "metadata": {},
   "outputs": [
    {
     "name": "stdout",
     "output_type": "stream",
     "text": [
      "18\n"
     ]
    }
   ],
   "source": [
    "l=[2,3,4,2,3,4]\n",
    "sum1=0\n",
    "for i in range(len(l)):\n",
    "    sum1=sum1+l[i]\n",
    "print(sum(l))"
   ]
  },
  {
   "cell_type": "code",
   "execution_count": 2,
   "id": "bd2298f8-0d3e-47c6-82d6-31619b79d85c",
   "metadata": {},
   "outputs": [
    {
     "name": "stdout",
     "output_type": "stream",
     "text": [
      "18\n"
     ]
    }
   ],
   "source": [
    "print(sum1)"
   ]
  },
  {
   "cell_type": "code",
   "execution_count": 3,
   "id": "d51c8221-9c17-453f-8eb6-c52c8b854286",
   "metadata": {},
   "outputs": [
    {
     "name": "stdout",
     "output_type": "stream",
     "text": [
      "18\n"
     ]
    }
   ],
   "source": [
    "print(sum(l))"
   ]
  },
  {
   "cell_type": "code",
   "execution_count": 4,
   "id": "7d2ee3a0-fe7e-4a45-bc26-d9d9cc4a9939",
   "metadata": {},
   "outputs": [
    {
     "name": "stdout",
     "output_type": "stream",
     "text": [
      "15\n"
     ]
    }
   ],
   "source": [
    "l=[1,2,3,4,5]\n",
    "a=0\n",
    "for i in l:\n",
    "    a=a+i\n",
    "print(a)"
   ]
  },
  {
   "cell_type": "code",
   "execution_count": 5,
   "id": "4ad583b0-6829-4200-a99a-b1522322dfe3",
   "metadata": {},
   "outputs": [
    {
     "name": "stdout",
     "output_type": "stream",
     "text": [
      "6\n",
      "6\n"
     ]
    }
   ],
   "source": [
    "l=[1,2,2,3,4,5,6,6]\n",
    "for i in l:\n",
    "    if l.count(i)>1:\n",
    "        print(i)"
   ]
  },
  {
   "cell_type": "code",
   "execution_count": 22,
   "id": "4b846351-d440-4195-9496-d6b67fff0712",
   "metadata": {},
   "outputs": [
    {
     "name": "stdout",
     "output_type": "stream",
     "text": [
      "[1, 2, 3, 4, 5]\n"
     ]
    }
   ],
   "source": [
    "l=[1,2,3,4,4,3,1,5]\n",
    "k=[]\n",
    "for i in l:\n",
    "    if i not in k:\n",
    "        k.append(i)\n",
    "print(k)\n"
   ]
  },
  {
   "cell_type": "code",
   "execution_count": 10,
   "id": "f4219b01-e959-4e53-b44c-7d7107c9aea7",
   "metadata": {},
   "outputs": [
    {
     "name": "stdout",
     "output_type": "stream",
     "text": [
      "[1]\n"
     ]
    }
   ],
   "source": [
    "print(k)"
   ]
  },
  {
   "cell_type": "code",
   "execution_count": 11,
   "id": "5fed5286-8da9-41a6-9395-d74bc053a299",
   "metadata": {},
   "outputs": [
    {
     "data": {
      "text/plain": [
       "list"
      ]
     },
     "execution_count": 11,
     "metadata": {},
     "output_type": "execute_result"
    }
   ],
   "source": [
    "type(k)"
   ]
  },
  {
   "cell_type": "code",
   "execution_count": 14,
   "id": "5793a345-103c-4f88-b858-caf41fa1b4f6",
   "metadata": {},
   "outputs": [],
   "source": [
    "import math"
   ]
  },
  {
   "cell_type": "code",
   "execution_count": 20,
   "id": "27292177-b4ab-4a5a-ab5e-fc616ff392cb",
   "metadata": {},
   "outputs": [
    {
     "name": "stdout",
     "output_type": "stream",
     "text": [
      "9.0\n"
     ]
    }
   ],
   "source": [
    "print(math.pow(3,2))"
   ]
  },
  {
   "cell_type": "code",
   "execution_count": null,
   "id": "251fa90d-d999-41a1-9aca-749311855efd",
   "metadata": {},
   "outputs": [],
   "source": [
    "*\n",
    "**\n",
    "***\n",
    "****\n",
    "*****\n",
    "******\n",
    "*******"
   ]
  },
  {
   "cell_type": "code",
   "execution_count": 4,
   "id": "b3229975-3f21-44b1-a2e5-3a39df60ea05",
   "metadata": {},
   "outputs": [
    {
     "name": "stdin",
     "output_type": "stream",
     "text": [
      " 25\n"
     ]
    },
    {
     "name": "stdout",
     "output_type": "stream",
     "text": [
      "25\n",
      "24\n",
      "23\n",
      "22\n",
      "21\n",
      "20\n",
      "19\n",
      "18\n",
      "17\n",
      "16\n",
      "15\n",
      "14\n",
      "13\n",
      "12\n",
      "11\n",
      "10\n"
     ]
    }
   ],
   "source": [
    "n = int (input())\n",
    "while n>= 10:\n",
    "    print(n)\n",
    "    n = n-1"
   ]
  },
  {
   "cell_type": "code",
   "execution_count": null,
   "id": "f8494b58-a614-40f0-95c1-8d0c046d4a96",
   "metadata": {},
   "outputs": [],
   "source": []
  }
 ],
 "metadata": {
  "kernelspec": {
   "display_name": "Python [conda env:base] *",
   "language": "python",
   "name": "conda-base-py"
  },
  "language_info": {
   "codemirror_mode": {
    "name": "ipython",
    "version": 3
   },
   "file_extension": ".py",
   "mimetype": "text/x-python",
   "name": "python",
   "nbconvert_exporter": "python",
   "pygments_lexer": "ipython3",
   "version": "3.12.7"
  }
 },
 "nbformat": 4,
 "nbformat_minor": 5
}
