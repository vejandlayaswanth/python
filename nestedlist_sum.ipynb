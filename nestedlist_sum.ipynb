{
 "cells": [
  {
   "cell_type": "code",
   "execution_count": 5,
   "id": "55f1b59d-c7d8-485c-82a0-74334778cf3b",
   "metadata": {},
   "outputs": [
    {
     "name": "stdin",
     "output_type": "stream",
     "text": [
      "enter how many nested list needed: 3 \n",
      " enter the 1 nested list 27273 373838 373738 \n",
      " enter the 2 nested list 3778383 738393 3283939 \n",
      " enter the 3 nested list 1028 29292 82822 \n"
     ]
    },
    {
     "name": "stdout",
     "output_type": "stream",
     "text": [
      "[[27273, 373838, 373738], [3778383, 738393, 3283939], [1028, 29292, 82822]]\n"
     ]
    },
    {
     "name": "stdin",
     "output_type": "stream",
     "text": [
      "Enter an index (0 to 2) to sum:  3\n"
     ]
    },
    {
     "name": "stdout",
     "output_type": "stream",
     "text": [
      "Invalid index! Please try again.\n"
     ]
    },
    {
     "name": "stdin",
     "output_type": "stream",
     "text": [
      "Enter an index (0 to 2) to sum:  1\n"
     ]
    },
    {
     "name": "stdout",
     "output_type": "stream",
     "text": [
      "Sum of list at index 1 is 7800715\n"
     ]
    }
   ],
   "source": [
    "n = int(input(\"enter how many nested list needed:\"))\n",
    "new_list=[]\n",
    "for i in range(n):\n",
    "    insert=list(map(int,input(f\" enter the { i+1} nested list\").split()))\n",
    "    new_list.append(insert)\n",
    "print(new_list)\n",
    "\n",
    "while True:\n",
    "    m = int(input(f\"Enter an index (0 to {n - 1}) to sum: \"))\n",
    "    if 0 <= m < n:\n",
    "        print(f\"Sum of list at index {m} is {sum(new_list[m])}\")\n",
    "        break\n",
    "    else:\n",
    "        print(\"Invalid index! Please try again.\")\n",
    "\n"
   ]
  },
  {
   "cell_type": "code",
   "execution_count": null,
   "id": "8bb918c8-8765-410e-a2b7-266faf395fea",
   "metadata": {},
   "outputs": [],
   "source": []
  }
 ],
 "metadata": {
  "kernelspec": {
   "display_name": "Python [conda env:base] *",
   "language": "python",
   "name": "conda-base-py"
  },
  "language_info": {
   "codemirror_mode": {
    "name": "ipython",
    "version": 3
   },
   "file_extension": ".py",
   "mimetype": "text/x-python",
   "name": "python",
   "nbconvert_exporter": "python",
   "pygments_lexer": "ipython3",
   "version": "3.12.7"
  }
 },
 "nbformat": 4,
 "nbformat_minor": 5
}
